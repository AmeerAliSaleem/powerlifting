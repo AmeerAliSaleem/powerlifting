{
 "cells": [
  {
   "cell_type": "markdown",
   "id": "3e169ae6-26aa-4a95-bdc7-81a065383911",
   "metadata": {},
   "source": [
    "# u2001820 Powerlifting Project: Battle of the Sexes\n",
    "---\n",
    "We aim to investigate the powerlifting dataset available on <a href=\"https://www.kaggle.com/datasets/open-powerlifting/powerlifting-database\">Kaggle</a>.\n",
    "\n",
    "This notebook is dedicated to exploring the differences between males and females in the world of powerlifting."
   ]
  },
  {
   "cell_type": "code",
   "execution_count": 1,
   "id": "7313fbf1-a048-4b0d-8616-0d2b2aaf66e2",
   "metadata": {
    "tags": []
   },
   "outputs": [],
   "source": [
    "# imports\n",
    "import pandas as pd\n",
    "import numpy as np\n",
    "from matplotlib import pyplot as plt\n",
    "import seaborn as sns\n",
    "from scipy import stats"
   ]
  },
  {
   "cell_type": "markdown",
   "id": "f523c4e0-ec19-411b-90f1-279e3cb73054",
   "metadata": {},
   "source": [
    "### Exploring the cleaned dataset"
   ]
  },
  {
   "cell_type": "code",
   "execution_count": 2,
   "id": "06a0fc1c-280f-4074-8844-bdb22bb990a1",
   "metadata": {
    "tags": []
   },
   "outputs": [
    {
     "name": "stderr",
     "output_type": "stream",
     "text": [
      "C:\\Users\\asale\\AppData\\Local\\Temp\\ipykernel_22124\\2428485417.py:1: DtypeWarning: Columns (35) have mixed types. Specify dtype option on import or set low_memory=False.\n",
      "  df = pd.read_csv(\"cleaned_powerlifting.csv\")\n"
     ]
    }
   ],
   "source": [
    "df = pd.read_csv(\"cleaned_powerlifting.csv\")"
   ]
  },
  {
   "cell_type": "code",
   "execution_count": 3,
   "id": "3c5c6b45-74ea-45ca-be22-8a73f18d8d87",
   "metadata": {
    "tags": []
   },
   "outputs": [
    {
     "data": {
      "text/html": [
       "<div>\n",
       "<style scoped>\n",
       "    .dataframe tbody tr th:only-of-type {\n",
       "        vertical-align: middle;\n",
       "    }\n",
       "\n",
       "    .dataframe tbody tr th {\n",
       "        vertical-align: top;\n",
       "    }\n",
       "\n",
       "    .dataframe thead th {\n",
       "        text-align: right;\n",
       "    }\n",
       "</style>\n",
       "<table border=\"1\" class=\"dataframe\">\n",
       "  <thead>\n",
       "    <tr style=\"text-align: right;\">\n",
       "      <th></th>\n",
       "      <th>Name</th>\n",
       "      <th>Sex</th>\n",
       "      <th>Event</th>\n",
       "      <th>Equipment</th>\n",
       "      <th>Age</th>\n",
       "      <th>AgeClass</th>\n",
       "      <th>Division</th>\n",
       "      <th>BodyweightKg</th>\n",
       "      <th>WeightClassKg</th>\n",
       "      <th>Squat1Kg</th>\n",
       "      <th>...</th>\n",
       "      <th>McCulloch</th>\n",
       "      <th>Glossbrenner</th>\n",
       "      <th>IPFPoints</th>\n",
       "      <th>Tested</th>\n",
       "      <th>Country</th>\n",
       "      <th>Federation</th>\n",
       "      <th>Date</th>\n",
       "      <th>MeetCountry</th>\n",
       "      <th>MeetState</th>\n",
       "      <th>MeetName</th>\n",
       "    </tr>\n",
       "  </thead>\n",
       "  <tbody>\n",
       "    <tr>\n",
       "      <th>0</th>\n",
       "      <td>Abbie Murphy</td>\n",
       "      <td>F</td>\n",
       "      <td>SBD</td>\n",
       "      <td>Wraps</td>\n",
       "      <td>29.0</td>\n",
       "      <td>24-34</td>\n",
       "      <td>F-OR</td>\n",
       "      <td>59.8</td>\n",
       "      <td>60</td>\n",
       "      <td>80.0</td>\n",
       "      <td>...</td>\n",
       "      <td>324.16</td>\n",
       "      <td>286.42</td>\n",
       "      <td>511.15</td>\n",
       "      <td>NaN</td>\n",
       "      <td>NaN</td>\n",
       "      <td>GPC-AUS</td>\n",
       "      <td>2018-10-27</td>\n",
       "      <td>Australia</td>\n",
       "      <td>VIC</td>\n",
       "      <td>Melbourne Cup</td>\n",
       "    </tr>\n",
       "    <tr>\n",
       "      <th>1</th>\n",
       "      <td>Abbie Tuong</td>\n",
       "      <td>F</td>\n",
       "      <td>SBD</td>\n",
       "      <td>Wraps</td>\n",
       "      <td>29.0</td>\n",
       "      <td>24-34</td>\n",
       "      <td>F-OR</td>\n",
       "      <td>58.5</td>\n",
       "      <td>60</td>\n",
       "      <td>100.0</td>\n",
       "      <td>...</td>\n",
       "      <td>378.07</td>\n",
       "      <td>334.16</td>\n",
       "      <td>595.65</td>\n",
       "      <td>NaN</td>\n",
       "      <td>NaN</td>\n",
       "      <td>GPC-AUS</td>\n",
       "      <td>2018-10-27</td>\n",
       "      <td>Australia</td>\n",
       "      <td>VIC</td>\n",
       "      <td>Melbourne Cup</td>\n",
       "    </tr>\n",
       "    <tr>\n",
       "      <th>2</th>\n",
       "      <td>Amy Moldenhauer</td>\n",
       "      <td>F</td>\n",
       "      <td>SBD</td>\n",
       "      <td>Wraps</td>\n",
       "      <td>23.0</td>\n",
       "      <td>20-23</td>\n",
       "      <td>F-OR</td>\n",
       "      <td>60.0</td>\n",
       "      <td>60</td>\n",
       "      <td>-105.0</td>\n",
       "      <td>...</td>\n",
       "      <td>345.61</td>\n",
       "      <td>305.37</td>\n",
       "      <td>547.04</td>\n",
       "      <td>NaN</td>\n",
       "      <td>NaN</td>\n",
       "      <td>GPC-AUS</td>\n",
       "      <td>2018-10-27</td>\n",
       "      <td>Australia</td>\n",
       "      <td>VIC</td>\n",
       "      <td>Melbourne Cup</td>\n",
       "    </tr>\n",
       "    <tr>\n",
       "      <th>3</th>\n",
       "      <td>Andrea Rowan</td>\n",
       "      <td>F</td>\n",
       "      <td>SBD</td>\n",
       "      <td>Wraps</td>\n",
       "      <td>45.0</td>\n",
       "      <td>45-49</td>\n",
       "      <td>F-OR</td>\n",
       "      <td>104.0</td>\n",
       "      <td>110</td>\n",
       "      <td>120.0</td>\n",
       "      <td>...</td>\n",
       "      <td>338.91</td>\n",
       "      <td>274.56</td>\n",
       "      <td>550.08</td>\n",
       "      <td>NaN</td>\n",
       "      <td>NaN</td>\n",
       "      <td>GPC-AUS</td>\n",
       "      <td>2018-10-27</td>\n",
       "      <td>Australia</td>\n",
       "      <td>VIC</td>\n",
       "      <td>Melbourne Cup</td>\n",
       "    </tr>\n",
       "    <tr>\n",
       "      <th>4</th>\n",
       "      <td>April Alvarez</td>\n",
       "      <td>F</td>\n",
       "      <td>SBD</td>\n",
       "      <td>Wraps</td>\n",
       "      <td>37.0</td>\n",
       "      <td>35-39</td>\n",
       "      <td>F-OR</td>\n",
       "      <td>74.0</td>\n",
       "      <td>75</td>\n",
       "      <td>127.5</td>\n",
       "      <td>...</td>\n",
       "      <td>354.74</td>\n",
       "      <td>312.20</td>\n",
       "      <td>596.18</td>\n",
       "      <td>NaN</td>\n",
       "      <td>NaN</td>\n",
       "      <td>GPC-AUS</td>\n",
       "      <td>2018-10-27</td>\n",
       "      <td>Australia</td>\n",
       "      <td>VIC</td>\n",
       "      <td>Melbourne Cup</td>\n",
       "    </tr>\n",
       "  </tbody>\n",
       "</table>\n",
       "<p>5 rows × 37 columns</p>\n",
       "</div>"
      ],
      "text/plain": [
       "              Name Sex Event Equipment   Age AgeClass Division  BodyweightKg  \\\n",
       "0     Abbie Murphy   F   SBD     Wraps  29.0    24-34     F-OR          59.8   \n",
       "1      Abbie Tuong   F   SBD     Wraps  29.0    24-34     F-OR          58.5   \n",
       "2  Amy Moldenhauer   F   SBD     Wraps  23.0    20-23     F-OR          60.0   \n",
       "3     Andrea Rowan   F   SBD     Wraps  45.0    45-49     F-OR         104.0   \n",
       "4    April Alvarez   F   SBD     Wraps  37.0    35-39     F-OR          74.0   \n",
       "\n",
       "  WeightClassKg  Squat1Kg  ...  McCulloch  Glossbrenner  IPFPoints  Tested  \\\n",
       "0            60      80.0  ...     324.16        286.42     511.15     NaN   \n",
       "1            60     100.0  ...     378.07        334.16     595.65     NaN   \n",
       "2            60    -105.0  ...     345.61        305.37     547.04     NaN   \n",
       "3           110     120.0  ...     338.91        274.56     550.08     NaN   \n",
       "4            75     127.5  ...     354.74        312.20     596.18     NaN   \n",
       "\n",
       "   Country  Federation        Date  MeetCountry  MeetState       MeetName  \n",
       "0      NaN     GPC-AUS  2018-10-27    Australia        VIC  Melbourne Cup  \n",
       "1      NaN     GPC-AUS  2018-10-27    Australia        VIC  Melbourne Cup  \n",
       "2      NaN     GPC-AUS  2018-10-27    Australia        VIC  Melbourne Cup  \n",
       "3      NaN     GPC-AUS  2018-10-27    Australia        VIC  Melbourne Cup  \n",
       "4      NaN     GPC-AUS  2018-10-27    Australia        VIC  Melbourne Cup  \n",
       "\n",
       "[5 rows x 37 columns]"
      ]
     },
     "execution_count": 3,
     "metadata": {},
     "output_type": "execute_result"
    }
   ],
   "source": [
    "df.head()"
   ]
  },
  {
   "cell_type": "code",
   "execution_count": 26,
   "id": "dcd5c54c-2102-4b90-8882-38452f64634a",
   "metadata": {
    "tags": []
   },
   "outputs": [],
   "source": [
    "df_filtered = df[['Name', 'Sex', 'Equipment', 'BodyweightKg', 'Best3SquatKg', 'Best3BenchKg', 'Best3DeadliftKg', \n",
    "               'TotalKg', 'Tested']]"
   ]
  },
  {
   "cell_type": "code",
   "execution_count": 27,
   "id": "b7da8b9e-9f9f-4c8c-9b5e-5826c5052d43",
   "metadata": {
    "tags": []
   },
   "outputs": [
    {
     "data": {
      "text/html": [
       "<div>\n",
       "<style scoped>\n",
       "    .dataframe tbody tr th:only-of-type {\n",
       "        vertical-align: middle;\n",
       "    }\n",
       "\n",
       "    .dataframe tbody tr th {\n",
       "        vertical-align: top;\n",
       "    }\n",
       "\n",
       "    .dataframe thead th {\n",
       "        text-align: right;\n",
       "    }\n",
       "</style>\n",
       "<table border=\"1\" class=\"dataframe\">\n",
       "  <thead>\n",
       "    <tr style=\"text-align: right;\">\n",
       "      <th></th>\n",
       "      <th>Name</th>\n",
       "      <th>Sex</th>\n",
       "      <th>Equipment</th>\n",
       "      <th>BodyweightKg</th>\n",
       "      <th>Best3SquatKg</th>\n",
       "      <th>Best3BenchKg</th>\n",
       "      <th>Best3DeadliftKg</th>\n",
       "      <th>TotalKg</th>\n",
       "      <th>Tested</th>\n",
       "    </tr>\n",
       "  </thead>\n",
       "  <tbody>\n",
       "    <tr>\n",
       "      <th>0</th>\n",
       "      <td>Abbie Murphy</td>\n",
       "      <td>F</td>\n",
       "      <td>Wraps</td>\n",
       "      <td>59.8</td>\n",
       "      <td>105.0</td>\n",
       "      <td>55.0</td>\n",
       "      <td>130.0</td>\n",
       "      <td>290.0</td>\n",
       "      <td>NaN</td>\n",
       "    </tr>\n",
       "    <tr>\n",
       "      <th>1</th>\n",
       "      <td>Abbie Tuong</td>\n",
       "      <td>F</td>\n",
       "      <td>Wraps</td>\n",
       "      <td>58.5</td>\n",
       "      <td>120.0</td>\n",
       "      <td>67.5</td>\n",
       "      <td>145.0</td>\n",
       "      <td>332.5</td>\n",
       "      <td>NaN</td>\n",
       "    </tr>\n",
       "    <tr>\n",
       "      <th>2</th>\n",
       "      <td>Amy Moldenhauer</td>\n",
       "      <td>F</td>\n",
       "      <td>Wraps</td>\n",
       "      <td>60.0</td>\n",
       "      <td>105.0</td>\n",
       "      <td>72.5</td>\n",
       "      <td>132.5</td>\n",
       "      <td>310.0</td>\n",
       "      <td>NaN</td>\n",
       "    </tr>\n",
       "    <tr>\n",
       "      <th>3</th>\n",
       "      <td>Andrea Rowan</td>\n",
       "      <td>F</td>\n",
       "      <td>Wraps</td>\n",
       "      <td>104.0</td>\n",
       "      <td>140.0</td>\n",
       "      <td>80.0</td>\n",
       "      <td>170.0</td>\n",
       "      <td>390.0</td>\n",
       "      <td>NaN</td>\n",
       "    </tr>\n",
       "    <tr>\n",
       "      <th>4</th>\n",
       "      <td>April Alvarez</td>\n",
       "      <td>F</td>\n",
       "      <td>Wraps</td>\n",
       "      <td>74.0</td>\n",
       "      <td>142.5</td>\n",
       "      <td>82.5</td>\n",
       "      <td>145.0</td>\n",
       "      <td>370.0</td>\n",
       "      <td>NaN</td>\n",
       "    </tr>\n",
       "  </tbody>\n",
       "</table>\n",
       "</div>"
      ],
      "text/plain": [
       "              Name Sex Equipment  BodyweightKg  Best3SquatKg  Best3BenchKg  \\\n",
       "0     Abbie Murphy   F     Wraps          59.8         105.0          55.0   \n",
       "1      Abbie Tuong   F     Wraps          58.5         120.0          67.5   \n",
       "2  Amy Moldenhauer   F     Wraps          60.0         105.0          72.5   \n",
       "3     Andrea Rowan   F     Wraps         104.0         140.0          80.0   \n",
       "4    April Alvarez   F     Wraps          74.0         142.5          82.5   \n",
       "\n",
       "   Best3DeadliftKg  TotalKg Tested  \n",
       "0            130.0    290.0    NaN  \n",
       "1            145.0    332.5    NaN  \n",
       "2            132.5    310.0    NaN  \n",
       "3            170.0    390.0    NaN  \n",
       "4            145.0    370.0    NaN  "
      ]
     },
     "execution_count": 27,
     "metadata": {},
     "output_type": "execute_result"
    }
   ],
   "source": [
    "df_filtered.head()"
   ]
  },
  {
   "cell_type": "code",
   "execution_count": 28,
   "id": "7b771575-8751-489a-a8d0-3d7c7da60e3b",
   "metadata": {
    "tags": []
   },
   "outputs": [
    {
     "data": {
      "text/plain": [
       "Equipment\n",
       "Single-ply    647332\n",
       "Raw           280202\n",
       "Wraps         101686\n",
       "Multi-ply      29766\n",
       "Name: count, dtype: int64"
      ]
     },
     "execution_count": 28,
     "metadata": {},
     "output_type": "execute_result"
    }
   ],
   "source": [
    "df_filtered['Equipment'].value_counts()"
   ]
  },
  {
   "cell_type": "markdown",
   "id": "802a9d28-1029-4dc3-bb72-a56111b0260e",
   "metadata": {},
   "source": [
    "For simplicity, we consider only contestants competing with `Single-ply`:"
   ]
  },
  {
   "cell_type": "code",
   "execution_count": 29,
   "id": "36c1e257-7336-47c0-ab93-f94417704112",
   "metadata": {
    "tags": []
   },
   "outputs": [],
   "source": [
    "df_filtered = df_filtered[df_filtered['Equipment'] == 'Single-ply']"
   ]
  },
  {
   "cell_type": "code",
   "execution_count": 30,
   "id": "782dd9a7-0147-41fb-a961-965fdd50b865",
   "metadata": {
    "tags": []
   },
   "outputs": [
    {
     "data": {
      "text/html": [
       "<div>\n",
       "<style scoped>\n",
       "    .dataframe tbody tr th:only-of-type {\n",
       "        vertical-align: middle;\n",
       "    }\n",
       "\n",
       "    .dataframe tbody tr th {\n",
       "        vertical-align: top;\n",
       "    }\n",
       "\n",
       "    .dataframe thead th {\n",
       "        text-align: right;\n",
       "    }\n",
       "</style>\n",
       "<table border=\"1\" class=\"dataframe\">\n",
       "  <thead>\n",
       "    <tr style=\"text-align: right;\">\n",
       "      <th></th>\n",
       "      <th>Name</th>\n",
       "      <th>Sex</th>\n",
       "      <th>Equipment</th>\n",
       "      <th>BodyweightKg</th>\n",
       "      <th>Best3SquatKg</th>\n",
       "      <th>Best3BenchKg</th>\n",
       "      <th>Best3DeadliftKg</th>\n",
       "      <th>TotalKg</th>\n",
       "      <th>Tested</th>\n",
       "    </tr>\n",
       "  </thead>\n",
       "  <tbody>\n",
       "    <tr>\n",
       "      <th>5157</th>\n",
       "      <td>Nathan Jones</td>\n",
       "      <td>M</td>\n",
       "      <td>Single-ply</td>\n",
       "      <td>109.0</td>\n",
       "      <td>385.0</td>\n",
       "      <td>195.0</td>\n",
       "      <td>330.0</td>\n",
       "      <td>910.0</td>\n",
       "      <td>NaN</td>\n",
       "    </tr>\n",
       "    <tr>\n",
       "      <th>6638</th>\n",
       "      <td>Eric Stockdreher</td>\n",
       "      <td>M</td>\n",
       "      <td>Single-ply</td>\n",
       "      <td>96.1</td>\n",
       "      <td>275.0</td>\n",
       "      <td>170.0</td>\n",
       "      <td>240.0</td>\n",
       "      <td>685.0</td>\n",
       "      <td>Yes</td>\n",
       "    </tr>\n",
       "    <tr>\n",
       "      <th>6639</th>\n",
       "      <td>Patrizia Engeser</td>\n",
       "      <td>F</td>\n",
       "      <td>Single-ply</td>\n",
       "      <td>50.4</td>\n",
       "      <td>85.0</td>\n",
       "      <td>47.5</td>\n",
       "      <td>92.5</td>\n",
       "      <td>225.0</td>\n",
       "      <td>Yes</td>\n",
       "    </tr>\n",
       "    <tr>\n",
       "      <th>6640</th>\n",
       "      <td>Madeleine Melzer</td>\n",
       "      <td>F</td>\n",
       "      <td>Single-ply</td>\n",
       "      <td>50.6</td>\n",
       "      <td>80.0</td>\n",
       "      <td>NaN</td>\n",
       "      <td>90.0</td>\n",
       "      <td>NaN</td>\n",
       "      <td>Yes</td>\n",
       "    </tr>\n",
       "    <tr>\n",
       "      <th>6642</th>\n",
       "      <td>Katja Haindl</td>\n",
       "      <td>F</td>\n",
       "      <td>Single-ply</td>\n",
       "      <td>56.7</td>\n",
       "      <td>100.0</td>\n",
       "      <td>50.0</td>\n",
       "      <td>85.0</td>\n",
       "      <td>235.0</td>\n",
       "      <td>Yes</td>\n",
       "    </tr>\n",
       "  </tbody>\n",
       "</table>\n",
       "</div>"
      ],
      "text/plain": [
       "                  Name Sex   Equipment  BodyweightKg  Best3SquatKg  \\\n",
       "5157      Nathan Jones   M  Single-ply         109.0         385.0   \n",
       "6638  Eric Stockdreher   M  Single-ply          96.1         275.0   \n",
       "6639  Patrizia Engeser   F  Single-ply          50.4          85.0   \n",
       "6640  Madeleine Melzer   F  Single-ply          50.6          80.0   \n",
       "6642      Katja Haindl   F  Single-ply          56.7         100.0   \n",
       "\n",
       "      Best3BenchKg  Best3DeadliftKg  TotalKg Tested  \n",
       "5157         195.0            330.0    910.0    NaN  \n",
       "6638         170.0            240.0    685.0    Yes  \n",
       "6639          47.5             92.5    225.0    Yes  \n",
       "6640           NaN             90.0      NaN    Yes  \n",
       "6642          50.0             85.0    235.0    Yes  "
      ]
     },
     "execution_count": 30,
     "metadata": {},
     "output_type": "execute_result"
    }
   ],
   "source": [
    "df_filtered.head()"
   ]
  },
  {
   "cell_type": "code",
   "execution_count": 31,
   "id": "c7cb9108-0ad0-43d2-8f1a-40fae3e5ba17",
   "metadata": {
    "tags": []
   },
   "outputs": [
    {
     "data": {
      "text/plain": [
       "Tested\n",
       "Yes    608202\n",
       "Name: count, dtype: int64"
      ]
     },
     "execution_count": 31,
     "metadata": {},
     "output_type": "execute_result"
    }
   ],
   "source": [
    "df_filtered['Tested'].value_counts()"
   ]
  },
  {
   "cell_type": "markdown",
   "id": "bcd1f09f-3b2b-4323-858e-7a9fb2fb1449",
   "metadata": {},
   "source": [
    "The `Tested` column determines whether the lifter has been tested for drug use or not. There are only two values in present in this column: `Yes` or NaN. In powerlifting, a 'natural' lifter is one who does not use Performance Enhancing Drugs, whereas those who do are referred to as 'enhanced'. Thus, any lifter with the value `Yes` in this column is most certainly a natural lifter, at least when tested in time for the competition. That said, just because a lifter has not been drug tested (value NaN), does not necessarily mean that said lifter is abusing drugs. To guarantee that we are dealing with natural athletes, we filter the data to ensure that `Tested = Yes`. So we now consider the remaining entrants are natural lifters."
   ]
  },
  {
   "cell_type": "code",
   "execution_count": 32,
   "id": "c2e4855d-3581-41e8-ba86-6eb6758cb119",
   "metadata": {
    "tags": []
   },
   "outputs": [],
   "source": [
    "df_filtered = df_filtered[df_filtered['Tested'] == 'Yes']"
   ]
  },
  {
   "cell_type": "code",
   "execution_count": 33,
   "id": "6508b6af-4034-4f8e-8118-e45f8153f5af",
   "metadata": {
    "tags": []
   },
   "outputs": [
    {
     "data": {
      "text/plain": [
       "608202"
      ]
     },
     "execution_count": 33,
     "metadata": {},
     "output_type": "execute_result"
    }
   ],
   "source": [
    "len(df_filtered)"
   ]
  },
  {
   "cell_type": "code",
   "execution_count": 34,
   "id": "114495b6-d780-4a9e-9f96-46a2a735b1ef",
   "metadata": {
    "tags": []
   },
   "outputs": [
    {
     "data": {
      "text/plain": [
       "165265"
      ]
     },
     "execution_count": 34,
     "metadata": {},
     "output_type": "execute_result"
    }
   ],
   "source": [
    "df_filtered['Name'].nunique()"
   ]
  },
  {
   "cell_type": "markdown",
   "id": "c42de8da-c925-48b7-9bb8-afffa5dd2abc",
   "metadata": {},
   "source": [
    "We have competitors with more than one entry in the dataset. This could be due to participants entering multiple competitions, for example. As such, we group records by the unique entrants, aggregating with the mean for their performance metrics in the three lifts:"
   ]
  },
  {
   "cell_type": "code",
   "execution_count": 35,
   "id": "29d3c5aa-b97b-4d34-969e-04b1313a4ee1",
   "metadata": {
    "tags": []
   },
   "outputs": [],
   "source": [
    "df_filtered = df_filtered.groupby(['Name','Sex',\n",
    "                       'Tested'])[['Best3SquatKg','Best3BenchKg',\n",
    "                       'Best3DeadliftKg','TotalKg','BodyweightKg']].mean().reset_index()"
   ]
  },
  {
   "cell_type": "code",
   "execution_count": 36,
   "id": "67e26173-ab44-430e-8723-345cff3114d9",
   "metadata": {
    "tags": []
   },
   "outputs": [
    {
     "name": "stdout",
     "output_type": "stream",
     "text": [
      "165690\n",
      "154299\n"
     ]
    }
   ],
   "source": [
    "print(len(df_filtered))\n",
    "# remove rows with missing values\n",
    "df_filtered = df_filtered.dropna()\n",
    "print(len(df_filtered))"
   ]
  },
  {
   "cell_type": "code",
   "execution_count": 37,
   "id": "53d6a286-f490-422e-a0ef-f82bd589dbf7",
   "metadata": {
    "tags": []
   },
   "outputs": [
    {
     "data": {
      "text/html": [
       "<div>\n",
       "<style scoped>\n",
       "    .dataframe tbody tr th:only-of-type {\n",
       "        vertical-align: middle;\n",
       "    }\n",
       "\n",
       "    .dataframe tbody tr th {\n",
       "        vertical-align: top;\n",
       "    }\n",
       "\n",
       "    .dataframe thead th {\n",
       "        text-align: right;\n",
       "    }\n",
       "</style>\n",
       "<table border=\"1\" class=\"dataframe\">\n",
       "  <thead>\n",
       "    <tr style=\"text-align: right;\">\n",
       "      <th></th>\n",
       "      <th>Name</th>\n",
       "      <th>Sex</th>\n",
       "      <th>Tested</th>\n",
       "      <th>Best3SquatKg</th>\n",
       "      <th>Best3BenchKg</th>\n",
       "      <th>Best3DeadliftKg</th>\n",
       "      <th>TotalKg</th>\n",
       "      <th>BodyweightKg</th>\n",
       "    </tr>\n",
       "  </thead>\n",
       "  <tbody>\n",
       "    <tr>\n",
       "      <th>0</th>\n",
       "      <td>A Abduzhabarov</td>\n",
       "      <td>M</td>\n",
       "      <td>Yes</td>\n",
       "      <td>155.00</td>\n",
       "      <td>110.00</td>\n",
       "      <td>170.00</td>\n",
       "      <td>435.00</td>\n",
       "      <td>74.00</td>\n",
       "    </tr>\n",
       "    <tr>\n",
       "      <th>1</th>\n",
       "      <td>A Akins</td>\n",
       "      <td>M</td>\n",
       "      <td>Yes</td>\n",
       "      <td>115.67</td>\n",
       "      <td>90.72</td>\n",
       "      <td>129.27</td>\n",
       "      <td>335.66</td>\n",
       "      <td>107.05</td>\n",
       "    </tr>\n",
       "    <tr>\n",
       "      <th>2</th>\n",
       "      <td>A Allmehat</td>\n",
       "      <td>M</td>\n",
       "      <td>Yes</td>\n",
       "      <td>165.00</td>\n",
       "      <td>120.00</td>\n",
       "      <td>170.00</td>\n",
       "      <td>455.00</td>\n",
       "      <td>72.50</td>\n",
       "    </tr>\n",
       "    <tr>\n",
       "      <th>3</th>\n",
       "      <td>A Almeida</td>\n",
       "      <td>F</td>\n",
       "      <td>Yes</td>\n",
       "      <td>45.00</td>\n",
       "      <td>25.00</td>\n",
       "      <td>75.00</td>\n",
       "      <td>145.00</td>\n",
       "      <td>44.00</td>\n",
       "    </tr>\n",
       "    <tr>\n",
       "      <th>4</th>\n",
       "      <td>A Ashwin</td>\n",
       "      <td>M</td>\n",
       "      <td>Yes</td>\n",
       "      <td>180.00</td>\n",
       "      <td>95.00</td>\n",
       "      <td>210.00</td>\n",
       "      <td>485.00</td>\n",
       "      <td>81.70</td>\n",
       "    </tr>\n",
       "  </tbody>\n",
       "</table>\n",
       "</div>"
      ],
      "text/plain": [
       "             Name Sex Tested  Best3SquatKg  Best3BenchKg  Best3DeadliftKg  \\\n",
       "0  A Abduzhabarov   M    Yes        155.00        110.00           170.00   \n",
       "1         A Akins   M    Yes        115.67         90.72           129.27   \n",
       "2      A Allmehat   M    Yes        165.00        120.00           170.00   \n",
       "3       A Almeida   F    Yes         45.00         25.00            75.00   \n",
       "4        A Ashwin   M    Yes        180.00         95.00           210.00   \n",
       "\n",
       "   TotalKg  BodyweightKg  \n",
       "0   435.00         74.00  \n",
       "1   335.66        107.05  \n",
       "2   455.00         72.50  \n",
       "3   145.00         44.00  \n",
       "4   485.00         81.70  "
      ]
     },
     "execution_count": 37,
     "metadata": {},
     "output_type": "execute_result"
    }
   ],
   "source": [
    "df_filtered.head()"
   ]
  },
  {
   "cell_type": "markdown",
   "id": "0f1873dd-d2da-4ee4-a3a8-0ec0e3a1d8f8",
   "metadata": {},
   "source": [
    "We devise our own `WeightClassKg` column to ensure consistency across all records of data:"
   ]
  },
  {
   "cell_type": "code",
   "execution_count": 38,
   "id": "805c783a-8083-452f-bd91-6abee925b567",
   "metadata": {
    "tags": []
   },
   "outputs": [],
   "source": [
    "df_filtered['WeightClassKg'] = df_filtered['BodyweightKg'].apply(float)\n",
    "\n",
    "def weight_class(x):\n",
    "    for i in range(10, 140, 10):\n",
    "        if(x < i):\n",
    "            return f\"{str(i-10).zfill(3)} - {i} kg\"\n",
    "    return \"130+ kg\"\n",
    "    \n",
    "df_filtered['WeightClassKg'] = df_filtered['BodyweightKg'].apply( lambda x: weight_class(x))"
   ]
  },
  {
   "cell_type": "code",
   "execution_count": 39,
   "id": "fa5e836e-195e-4004-9d3d-523d03e03b1d",
   "metadata": {
    "tags": []
   },
   "outputs": [
    {
     "data": {
      "text/html": [
       "<div>\n",
       "<style scoped>\n",
       "    .dataframe tbody tr th:only-of-type {\n",
       "        vertical-align: middle;\n",
       "    }\n",
       "\n",
       "    .dataframe tbody tr th {\n",
       "        vertical-align: top;\n",
       "    }\n",
       "\n",
       "    .dataframe thead th {\n",
       "        text-align: right;\n",
       "    }\n",
       "</style>\n",
       "<table border=\"1\" class=\"dataframe\">\n",
       "  <thead>\n",
       "    <tr style=\"text-align: right;\">\n",
       "      <th></th>\n",
       "      <th>Name</th>\n",
       "      <th>Sex</th>\n",
       "      <th>Tested</th>\n",
       "      <th>Best3SquatKg</th>\n",
       "      <th>Best3BenchKg</th>\n",
       "      <th>Best3DeadliftKg</th>\n",
       "      <th>TotalKg</th>\n",
       "      <th>BodyweightKg</th>\n",
       "      <th>WeightClassKg</th>\n",
       "    </tr>\n",
       "  </thead>\n",
       "  <tbody>\n",
       "    <tr>\n",
       "      <th>0</th>\n",
       "      <td>A Abduzhabarov</td>\n",
       "      <td>M</td>\n",
       "      <td>Yes</td>\n",
       "      <td>155.00</td>\n",
       "      <td>110.00</td>\n",
       "      <td>170.00</td>\n",
       "      <td>435.00</td>\n",
       "      <td>74.00</td>\n",
       "      <td>070 - 80 kg</td>\n",
       "    </tr>\n",
       "    <tr>\n",
       "      <th>1</th>\n",
       "      <td>A Akins</td>\n",
       "      <td>M</td>\n",
       "      <td>Yes</td>\n",
       "      <td>115.67</td>\n",
       "      <td>90.72</td>\n",
       "      <td>129.27</td>\n",
       "      <td>335.66</td>\n",
       "      <td>107.05</td>\n",
       "      <td>100 - 110 kg</td>\n",
       "    </tr>\n",
       "    <tr>\n",
       "      <th>2</th>\n",
       "      <td>A Allmehat</td>\n",
       "      <td>M</td>\n",
       "      <td>Yes</td>\n",
       "      <td>165.00</td>\n",
       "      <td>120.00</td>\n",
       "      <td>170.00</td>\n",
       "      <td>455.00</td>\n",
       "      <td>72.50</td>\n",
       "      <td>070 - 80 kg</td>\n",
       "    </tr>\n",
       "    <tr>\n",
       "      <th>3</th>\n",
       "      <td>A Almeida</td>\n",
       "      <td>F</td>\n",
       "      <td>Yes</td>\n",
       "      <td>45.00</td>\n",
       "      <td>25.00</td>\n",
       "      <td>75.00</td>\n",
       "      <td>145.00</td>\n",
       "      <td>44.00</td>\n",
       "      <td>040 - 50 kg</td>\n",
       "    </tr>\n",
       "    <tr>\n",
       "      <th>4</th>\n",
       "      <td>A Ashwin</td>\n",
       "      <td>M</td>\n",
       "      <td>Yes</td>\n",
       "      <td>180.00</td>\n",
       "      <td>95.00</td>\n",
       "      <td>210.00</td>\n",
       "      <td>485.00</td>\n",
       "      <td>81.70</td>\n",
       "      <td>080 - 90 kg</td>\n",
       "    </tr>\n",
       "  </tbody>\n",
       "</table>\n",
       "</div>"
      ],
      "text/plain": [
       "             Name Sex Tested  Best3SquatKg  Best3BenchKg  Best3DeadliftKg  \\\n",
       "0  A Abduzhabarov   M    Yes        155.00        110.00           170.00   \n",
       "1         A Akins   M    Yes        115.67         90.72           129.27   \n",
       "2      A Allmehat   M    Yes        165.00        120.00           170.00   \n",
       "3       A Almeida   F    Yes         45.00         25.00            75.00   \n",
       "4        A Ashwin   M    Yes        180.00         95.00           210.00   \n",
       "\n",
       "   TotalKg  BodyweightKg WeightClassKg  \n",
       "0   435.00         74.00   070 - 80 kg  \n",
       "1   335.66        107.05  100 - 110 kg  \n",
       "2   455.00         72.50   070 - 80 kg  \n",
       "3   145.00         44.00   040 - 50 kg  \n",
       "4   485.00         81.70   080 - 90 kg  "
      ]
     },
     "execution_count": 39,
     "metadata": {},
     "output_type": "execute_result"
    }
   ],
   "source": [
    "df_filtered.head()"
   ]
  },
  {
   "cell_type": "markdown",
   "id": "a15f46d6-e3d9-49da-bb57-6eb6c7eafcb6",
   "metadata": {},
   "source": [
    "Using the zero prefix before the two-digit weights in `NewWeightClassKg` allows us to order the values in this column by comparing digits from left to right.\n",
    "\n",
    "We now construct a pivot table to understand the distribution of competitors across the weight classes by gender:"
   ]
  },
  {
   "cell_type": "code",
   "execution_count": 41,
   "id": "8e467b53-b55e-4d10-84e1-5019ec55d551",
   "metadata": {
    "tags": []
   },
   "outputs": [
    {
     "data": {
      "text/html": [
       "<div>\n",
       "<style scoped>\n",
       "    .dataframe tbody tr th:only-of-type {\n",
       "        vertical-align: middle;\n",
       "    }\n",
       "\n",
       "    .dataframe tbody tr th {\n",
       "        vertical-align: top;\n",
       "    }\n",
       "\n",
       "    .dataframe thead th {\n",
       "        text-align: right;\n",
       "    }\n",
       "</style>\n",
       "<table border=\"1\" class=\"dataframe\">\n",
       "  <thead>\n",
       "    <tr style=\"text-align: right;\">\n",
       "      <th>Sex</th>\n",
       "      <th>F</th>\n",
       "      <th>M</th>\n",
       "    </tr>\n",
       "    <tr>\n",
       "      <th>WeightClassKg</th>\n",
       "      <th></th>\n",
       "      <th></th>\n",
       "    </tr>\n",
       "  </thead>\n",
       "  <tbody>\n",
       "    <tr>\n",
       "      <th>020 - 30 kg</th>\n",
       "      <td>7</td>\n",
       "      <td>4</td>\n",
       "    </tr>\n",
       "    <tr>\n",
       "      <th>030 - 40 kg</th>\n",
       "      <td>138</td>\n",
       "      <td>68</td>\n",
       "    </tr>\n",
       "    <tr>\n",
       "      <th>040 - 50 kg</th>\n",
       "      <td>4940</td>\n",
       "      <td>1120</td>\n",
       "    </tr>\n",
       "    <tr>\n",
       "      <th>050 - 60 kg</th>\n",
       "      <td>12393</td>\n",
       "      <td>11538</td>\n",
       "    </tr>\n",
       "    <tr>\n",
       "      <th>060 - 70 kg</th>\n",
       "      <td>9315</td>\n",
       "      <td>16956</td>\n",
       "    </tr>\n",
       "    <tr>\n",
       "      <th>070 - 80 kg</th>\n",
       "      <td>5685</td>\n",
       "      <td>20818</td>\n",
       "    </tr>\n",
       "    <tr>\n",
       "      <th>080 - 90 kg</th>\n",
       "      <td>3483</td>\n",
       "      <td>21399</td>\n",
       "    </tr>\n",
       "    <tr>\n",
       "      <th>090 - 100 kg</th>\n",
       "      <td>1690</td>\n",
       "      <td>15518</td>\n",
       "    </tr>\n",
       "    <tr>\n",
       "      <th>100 - 110 kg</th>\n",
       "      <td>880</td>\n",
       "      <td>11662</td>\n",
       "    </tr>\n",
       "    <tr>\n",
       "      <th>110 - 120 kg</th>\n",
       "      <td>462</td>\n",
       "      <td>7234</td>\n",
       "    </tr>\n",
       "    <tr>\n",
       "      <th>120 - 130 kg</th>\n",
       "      <td>263</td>\n",
       "      <td>4819</td>\n",
       "    </tr>\n",
       "    <tr>\n",
       "      <th>130+ kg</th>\n",
       "      <td>195</td>\n",
       "      <td>3712</td>\n",
       "    </tr>\n",
       "  </tbody>\n",
       "</table>\n",
       "</div>"
      ],
      "text/plain": [
       "Sex                F      M\n",
       "WeightClassKg              \n",
       "020 - 30 kg        7      4\n",
       "030 - 40 kg      138     68\n",
       "040 - 50 kg     4940   1120\n",
       "050 - 60 kg    12393  11538\n",
       "060 - 70 kg     9315  16956\n",
       "070 - 80 kg     5685  20818\n",
       "080 - 90 kg     3483  21399\n",
       "090 - 100 kg    1690  15518\n",
       "100 - 110 kg     880  11662\n",
       "110 - 120 kg     462   7234\n",
       "120 - 130 kg     263   4819\n",
       "130+ kg          195   3712"
      ]
     },
     "execution_count": 41,
     "metadata": {},
     "output_type": "execute_result"
    }
   ],
   "source": [
    "pivot_df = df_filtered.groupby(['WeightClassKg', 'Sex'])['TotalKg'].count().reset_index()\n",
    "pivot_df.pivot_table(columns=['Sex'], index=['WeightClassKg'], values='TotalKg')"
   ]
  },
  {
   "cell_type": "markdown",
   "id": "84f88937-04e8-4756-90e0-21d02892f6e2",
   "metadata": {},
   "source": [
    "### Removing outliers?"
   ]
  },
  {
   "cell_type": "markdown",
   "id": "072c5053-e0b2-4707-b94f-3fbf63e5feb9",
   "metadata": {},
   "source": [
    "### Comparing males and females"
   ]
  },
  {
   "cell_type": "code",
   "execution_count": 42,
   "id": "a521bdd1-4bee-41da-87ed-2b568559f0a5",
   "metadata": {
    "tags": []
   },
   "outputs": [],
   "source": [
    "# colours for plots\n",
    "lred, dred, lblue, dblue = [\"#fb9a99\", \"#e31a1c\", \"#a6cee3\", \"#1f78b4\"]\n",
    "\n",
    "males = df_filtered[df_filtered['Sex'] == 'M']['TotalKg']\n",
    "females = df_filtered[df_filtered['Sex'] == 'F']['TotalKg']"
   ]
  },
  {
   "cell_type": "code",
   "execution_count": 55,
   "id": "e5e576b0-12d5-4e4c-be2c-63b127e704eb",
   "metadata": {
    "tags": []
   },
   "outputs": [
    {
     "name": "stdout",
     "output_type": "stream",
     "text": [
      "40.8\n",
      "74.84\n",
      "1125.71875\n",
      "668.890625\n"
     ]
    }
   ],
   "source": [
    "print(min(females))\n",
    "print(min(males))\n",
    "print(max(males))\n",
    "print(max(females))"
   ]
  },
  {
   "cell_type": "code",
   "execution_count": 109,
   "id": "787e6286-15bc-44f9-aed2-412f467395d4",
   "metadata": {
    "tags": []
   },
   "outputs": [
    {
     "name": "stderr",
     "output_type": "stream",
     "text": [
      "C:\\Users\\asale\\AppData\\Local\\Temp\\ipykernel_22124\\2872480552.py:5: UserWarning: \n",
      "\n",
      "`distplot` is a deprecated function and will be removed in seaborn v0.14.0.\n",
      "\n",
      "Please adapt your code to use either `displot` (a figure-level function with\n",
      "similar flexibility) or `histplot` (an axes-level function for histograms).\n",
      "\n",
      "For a guide to updating your code to use the new functions, please see\n",
      "https://gist.github.com/mwaskom/de44147ed2974457ad6372750bbe5751\n",
      "\n",
      "  sns.distplot(males, label ='Male', color = dblue)\n",
      "C:\\Users\\asale\\AppData\\Local\\Temp\\ipykernel_22124\\2872480552.py:6: UserWarning: \n",
      "\n",
      "`distplot` is a deprecated function and will be removed in seaborn v0.14.0.\n",
      "\n",
      "Please adapt your code to use either `displot` (a figure-level function with\n",
      "similar flexibility) or `histplot` (an axes-level function for histograms).\n",
      "\n",
      "For a guide to updating your code to use the new functions, please see\n",
      "https://gist.github.com/mwaskom/de44147ed2974457ad6372750bbe5751\n",
      "\n",
      "  sns.distplot(females, label ='Female', color = dred)\n"
     ]
    },
    {
     "data": {
      "image/png": "[encoded data removed]",
      "text/plain": [
       "<Figure size 1400x600 with 1 Axes>"
      ]
     },
     "metadata": {},
     "output_type": "display_data"
    }
   ],
   "source": [
    "plt.close('all')\n",
    "plt.figure(figsize = (14, 6))\n",
    "sns.set_context(\"notebook\", font_scale = 1.1)\n",
    "\n",
    "sns.distplot(males, label ='Male', color = dblue)\n",
    "sns.distplot(females, label ='Female', color = dred)\n",
    "# sns.histplot(males, label ='Male', kde=True, color = dblue)\n",
    "# sns.histplot(females, label ='Female', kde=True, color = dred)\n",
    "plt.legend()\n",
    "\n",
    "plt.title(\"Histograms of Total Kg Lifted by Gender\")\n",
    "#plt.yticks([])\n",
    "plt.xticks([0, 100, 200, 300, 400, 500, 600, 700, 800, 900])\n",
    "plt.xlim(50, 950)\n",
    "plt.xlabel('Total Kg Lifted')\n",
    "plt.ylabel('Density')\n",
    "plt.show()"
   ]
  },
  {
   "cell_type": "code",
   "execution_count": 154,
   "id": "7be98c11-d427-45cc-b526-a29edf5b4020",
   "metadata": {
    "tags": []
   },
   "outputs": [
    {
     "data": {
      "image/png": "[encoded data removed]",
      "text/plain": [
       "<Figure size 1400x600 with 1 Axes>"
      ]
     },
     "metadata": {},
     "output_type": "display_data"
    }
   ],
   "source": [
    "# histplot version (not deprecated)\n",
    "plt.close('all')\n",
    "plt.figure(figsize = (14, 6))\n",
    "sns.set_context(\"notebook\", font_scale = 1.1)\n",
    "\n",
    "sns.histplot(males, label ='Male', kde=True, stat='density', alpha=0.4, color = dblue,  bins=40)\n",
    "sns.histplot(females, label ='Female', kde=True, stat='density', color = dred,  bins=40)\n",
    "plt.legend()\n",
    "\n",
    "plt.title('Histograms of Total Kg Lifted by Gender')\n",
    "#plt.yticks([])\n",
    "plt.xticks([0, 100, 200, 300, 400, 500, 600, 700, 800, 900])\n",
    "plt.xlim(50, 950)\n",
    "plt.xlabel('Total Kg Lifted')\n",
    "plt.ylabel('Percentage of Competitors')\n",
    "plt.show()"
   ]
  },
  {
   "cell_type": "markdown",
   "id": "3998e974-142a-4761-aed3-2d3a1ca3cad1",
   "metadata": {},
   "source": [
    "We utilise Scipy's `percentileofscore` function to evaluate what percentage of females powerlifters can be beat by the average male powerlifter and vice versa:"
   ]
  },
  {
   "cell_type": "code",
   "execution_count": 73,
   "id": "e1bd6479-ea84-4968-88cb-e29a5023559f",
   "metadata": {
    "tags": []
   },
   "outputs": [
    {
     "name": "stdout",
     "output_type": "stream",
     "text": [
      "Average Female Total: 277.3 kg\n",
      "Average Male Total: 485.5 kg\n",
      "\n",
      "The average male powerlifter is stronger than 98.6% of female powerlifters.\n",
      "The average female powerlifter is stronger than 4.2% of male powerlifters.\n"
     ]
    }
   ],
   "source": [
    "female_mean = females.mean()\n",
    "male_mean = males.mean()\n",
    "\n",
    "Mean_male_v_females = stats.percentileofscore(females, male_mean)\n",
    "Mean_female_v_males = stats.percentileofscore(males, female_mean)\n",
    "print(f'Average Female Total: {round(female_mean, 2)}kg')\n",
    "print(f'Average Male Total: {round(male_mean, 2)}kg')\n",
    "print()\n",
    "print(f'The average male powerlifter is stronger than {round(Mean_male_v_females, 2)}% of female powerlifters.')\n",
    "print(f'The average female powerlifter is stronger than {round(Mean_female_v_males, 2)}% of male powerlifters.')"
   ]
  },
  {
   "cell_type": "markdown",
   "id": "dd969e0e-aac7-4026-b115-931fb9e5fcc9",
   "metadata": {},
   "source": [
    "In the above, we have compared the average male performance to the series of females and vice versa. Let us now formulate the problem in a more probabilistic manner to ascertain the strength of a male competitor **chosen at random** (i.e. not the average this time) compared to the series of females.\n",
    "\n",
    "We achieve this using z-scores. In particular, we consider the distribution of the difference between the male and female lifts. Suppose that $M$ is a random variable following the distribution of total kg lifted by males, and $F$ similar for females. Then the random variable representing the difference in total kg lifted between males and females is given by $D = M - F$. We cannot simply subtract the two Series from each other for the value of $D$. However, we can compute the mean and the variance of $D$. For the former, $\\mu_D = \\mu_M - \\mu_F$. For the latter, we have by the independence between the male and female data, we have that $\\sigma_D^2$ = $\\sigma_M^2$ + $\\sigma_F^2$."
   ]
  },
  {
   "cell_type": "code",
   "execution_count": 80,
   "id": "4aadbbd0-a097-4b96-8dd3-4973d2e60b99",
   "metadata": {
    "tags": []
   },
   "outputs": [
    {
     "name": "stdout",
     "output_type": "stream",
     "text": [
      "The average difference between male and female total weight lifted is 208.19kg.\n",
      "The standard deviation of the difference is 160.85kg.\n"
     ]
    }
   ],
   "source": [
    "# find the mean of the difference distribution r.v.\n",
    "diff_mean = males.mean() - females.mean()\n",
    "\n",
    "# find the variance of the distribution r.v.\n",
    "diff_var = males.std()**2 + females.std()**2\n",
    "diff_std = np.sqrt(diff_var)\n",
    "\n",
    "print(f\"The average difference between male and female total weight lifted is {round(diff_mean, 2)}kg.\")\n",
    "print(f\"The standard deviation of the difference is {round(diff_std, 2)}kg.\")"
   ]
  },
  {
   "cell_type": "markdown",
   "id": "3d8e3103-8044-4e51-bf2e-817bdb825d85",
   "metadata": {},
   "source": [
    "We now model the distribution of the random variable $D$ as a Gaussian with the parameters above. Then if $D>0$, we have the case where the r.v. for the male exceeds the r.v. of the female and so the male has a higher total weight lifted. Conversely, if $D<0$, then the r.v. for the female is able to lift more."
   ]
  },
  {
   "cell_type": "code",
   "execution_count": 155,
   "id": "3fc48af1-5189-4dc9-aae2-ab92ca819e13",
   "metadata": {
    "tags": []
   },
   "outputs": [
    {
     "name": "stdout",
     "output_type": "stream",
     "text": [
      "0.0\n"
     ]
    },
    {
     "data": {
      "image/png": "[encoded data removed]",
      "text/plain": [
       "<Figure size 1200x600 with 1 Axes>"
      ]
     },
     "metadata": {},
     "output_type": "display_data"
    }
   ],
   "source": [
    "diff_dist = np.random.normal(diff_mean, diff_std, size=100000)\n",
    "plt.figure(figsize = (12, 6))\n",
    "sns.set_context(\"notebook\", font_scale = 1.1)\n",
    "\n",
    "sns.kdeplot(diff_dist, color = dblue, fill = True)\n",
    "# create an object to reference\n",
    "ax = sns.kdeplot(diff_dist)\n",
    "x, y = ax.get_lines()[-1].get_data()\n",
    "\n",
    "# shading in female-dominant area using mask on kde\n",
    "mask = x <= 0\n",
    "x, y = x[mask], y[mask]\n",
    "ax.fill_between(x, y1=y, alpha=0.5, facecolor= dred, label = 'Female Lifts More')\n",
    "\n",
    "# shading in male-dominant area using mask on kde\n",
    "mask = x > 0\n",
    "\n",
    "# for later\n",
    "x, y = x[mask], y[mask]\n",
    "ax.fill_between(x, y1=y, alpha=0.5, facecolor= dblue, label = 'Male Lifts More')\n",
    "\n",
    "plt.title('Distribution of $D = M - F$')\n",
    "plt.legend()\n",
    "plt.xlabel('Total Kg Lifted')\n",
    "\n",
    "plt.xlim(-400, 800)\n",
    "\n",
    "area = np.trapz(y, x)\n",
    "print(area)\n",
    "\n",
    "plt.show()\n"
   ]
  },
  {
   "cell_type": "markdown",
   "id": "c07c1b8a-d4e2-4eb0-853f-21bcf019a7b4",
   "metadata": {},
   "source": [
    "We can now evaluate the desired probability by using the z-score $z = \\frac{X-\\mu}{\\sigma}$:"
   ]
  },
  {
   "cell_type": "code",
   "execution_count": 156,
   "id": "50db2b48-aa98-42d9-8fc2-74ec90c5fbb2",
   "metadata": {
    "tags": []
   },
   "outputs": [
    {
     "name": "stdout",
     "output_type": "stream",
     "text": [
      "-1.2943088309302144\n"
     ]
    }
   ],
   "source": [
    "z = 0-diff_mean/diff_std\n",
    "print(z)"
   ]
  },
  {
   "cell_type": "code",
   "execution_count": 157,
   "id": "c071e9a6-cb0f-45f6-8feb-c39076998d11",
   "metadata": {
    "tags": []
   },
   "outputs": [],
   "source": [
    "p_female = stats.norm.cdf(z)\n",
    "p_male = 1 - p_female"
   ]
  },
  {
   "cell_type": "code",
   "execution_count": 158,
   "id": "8fc3736b-200b-46a2-881a-03e57bafebc4",
   "metadata": {
    "tags": []
   },
   "outputs": [
    {
     "name": "stdout",
     "output_type": "stream",
     "text": [
      "Selecting a male competitor and female competitor at random:\n",
      "The probability that the female is stronger than the male is: 9.78%.\n",
      "The probability that the male is stronger than the female is: 90.22%.\n"
     ]
    }
   ],
   "source": [
    "print(\"Selecting a male competitor and female competitor at random:\")\n",
    "print(f\"The probability that the female is stronger than the male is: {round(p_female*100,2)}%.\")\n",
    "print(f\"The probability that the male is stronger than the female is: {round(p_male*100,2)}%.\")"
   ]
  },
  {
   "cell_type": "code",
   "execution_count": null,
   "id": "87cfdfc7-66c4-462c-ab4e-10c85ad92eeb",
   "metadata": {},
   "outputs": [],
   "source": []
  }
 ],
 "metadata": {
  "kernelspec": {
   "display_name": "Python 3 (ipykernel)",
   "language": "python",
   "name": "python3"
  },
  "language_info": {
   "codemirror_mode": {
    "name": "ipython",
    "version": 3
   },
   "file_extension": ".py",
   "mimetype": "text/x-python",
   "name": "python",
   "nbconvert_exporter": "python",
   "pygments_lexer": "ipython3",
   "version": "3.11.5"
  }
 },
 "nbformat": 4,
 "nbformat_minor": 5
}
