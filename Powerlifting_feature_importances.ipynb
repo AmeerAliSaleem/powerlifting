{
 "cells": [
  {
   "cell_type": "markdown",
   "id": "53752953-983d-421a-a6ef-06b041dcf689",
   "metadata": {
    "tags": []
   },
   "source": [
    "# u2001820 Powerlifting Project: Feature Importances\n",
    "---\n",
    "We aim to investigate the powerlifting dataset available on <a href=\"https://www.kaggle.com/datasets/open-powerlifting/powerlifting-database\">Kaggle</a>.\n",
    "\n",
    "This notebook is dedicated to exploring feature importance in the context of total weight lifted."
   ]
  },
  {
   "cell_type": "code",
   "execution_count": 1,
   "id": "89bc2b4e-6171-4df9-89d8-afd48af5315a",
   "metadata": {
    "tags": []
   },
   "outputs": [],
   "source": [
    "# imports\n",
    "import pandas as pd\n",
    "import numpy as np\n",
    "from matplotlib import pyplot as plt\n",
    "import seaborn as sns"
   ]
  },
  {
   "cell_type": "code",
   "execution_count": 2,
   "id": "ddf5ec4b-df92-4de7-8534-89e0c12e425c",
   "metadata": {
    "tags": []
   },
   "outputs": [
    {
     "name": "stderr",
     "output_type": "stream",
     "text": [
      "C:\\Users\\asale\\AppData\\Local\\Temp\\ipykernel_5204\\2428485417.py:1: DtypeWarning: Columns (35) have mixed types. Specify dtype option on import or set low_memory=False.\n",
      "  df = pd.read_csv(\"cleaned_powerlifting.csv\")\n"
     ]
    }
   ],
   "source": [
    "df = pd.read_csv(\"cleaned_powerlifting.csv\")"
   ]
  },
  {
   "cell_type": "code",
   "execution_count": 3,
   "id": "526c0cb0-eb9b-4ae3-beed-b7a5590c413c",
   "metadata": {
    "tags": []
   },
   "outputs": [
    {
     "data": {
      "text/plain": [
       "1058986"
      ]
     },
     "execution_count": 3,
     "metadata": {},
     "output_type": "execute_result"
    }
   ],
   "source": [
    "len(df)"
   ]
  },
  {
   "cell_type": "code",
   "execution_count": 4,
   "id": "7bbea512-3157-4f8b-86bf-483afe08645b",
   "metadata": {
    "tags": []
   },
   "outputs": [],
   "source": [
    "df_filtered = df[['Sex', 'Equipment', 'BodyweightKg','Best3SquatKg', 'Best3BenchKg', 'Best3DeadliftKg', \n",
    "                  'Place', 'IPFPoints', 'Country', 'Tested']]"
   ]
  },
  {
   "cell_type": "code",
   "execution_count": 5,
   "id": "39c89213-1dc7-4f67-a20c-5f9686cb031f",
   "metadata": {
    "tags": []
   },
   "outputs": [
    {
     "name": "stderr",
     "output_type": "stream",
     "text": [
      "C:\\Users\\asale\\AppData\\Local\\Temp\\ipykernel_5204\\1753155546.py:2: SettingWithCopyWarning: \n",
      "A value is trying to be set on a copy of a slice from a DataFrame\n",
      "\n",
      "See the caveats in the documentation: https://pandas.pydata.org/pandas-docs/stable/user_guide/indexing.html#returning-a-view-versus-a-copy\n",
      "  df_filtered['Tested'].fillna('No', inplace = True)\n"
     ]
    }
   ],
   "source": [
    "# relabelling values in the `Tested` column\n",
    "df_filtered['Tested'].fillna('No', inplace = True)"
   ]
  },
  {
   "cell_type": "code",
   "execution_count": 6,
   "id": "15376e1c-f9fc-4a55-aa89-e3a375b0b295",
   "metadata": {
    "tags": []
   },
   "outputs": [
    {
     "data": {
      "text/plain": [
       "Tested\n",
       "Yes    861456\n",
       "No     197530\n",
       "Name: count, dtype: int64"
      ]
     },
     "execution_count": 6,
     "metadata": {},
     "output_type": "execute_result"
    }
   ],
   "source": [
    "df_filtered['Tested'].value_counts()"
   ]
  },
  {
   "cell_type": "code",
   "execution_count": 7,
   "id": "a9f49f9f-9a0b-4997-b326-b7870030f49f",
   "metadata": {
    "tags": []
   },
   "outputs": [
    {
     "data": {
      "text/plain": [
       "0          1\n",
       "1          1\n",
       "2          1\n",
       "3          1\n",
       "4          1\n",
       "          ..\n",
       "1058981    1\n",
       "1058982    0\n",
       "1058983    1\n",
       "1058984    5\n",
       "1058985    3\n",
       "Length: 1058986, dtype: int64"
      ]
     },
     "execution_count": 7,
     "metadata": {},
     "output_type": "execute_result"
    }
   ],
   "source": [
    "df_filtered.isnull().sum(axis=1)"
   ]
  },
  {
   "cell_type": "code",
   "execution_count": 8,
   "id": "358858c7-0a7e-4bf6-8765-343a20936e09",
   "metadata": {
    "tags": []
   },
   "outputs": [
    {
     "name": "stdout",
     "output_type": "stream",
     "text": [
      "848778\n"
     ]
    }
   ],
   "source": [
    "# Counting missing values in each row\n",
    "missing_values_per_row = df_filtered.isnull().sum(axis=1)\n",
    "\n",
    "# Counting rows with missing values\n",
    "rows_with_missing_values = len(missing_values_per_row[missing_values_per_row > 0])\n",
    "print(rows_with_missing_values)"
   ]
  },
  {
   "cell_type": "markdown",
   "id": "890184f8-c79e-4a2e-8d14-f1deb1d48876",
   "metadata": {},
   "source": [
    "For convenience, we drop any rows with missing values:"
   ]
  },
  {
   "cell_type": "code",
   "execution_count": 9,
   "id": "02bb73c6-e2aa-48ac-9196-29279b6e92ce",
   "metadata": {
    "tags": []
   },
   "outputs": [],
   "source": [
    "df_dropped = df_filtered.dropna()"
   ]
  },
  {
   "cell_type": "code",
   "execution_count": 10,
   "id": "7aeee516-1c9c-4dbb-998d-11d6fe6503b2",
   "metadata": {
    "tags": []
   },
   "outputs": [
    {
     "data": {
      "text/plain": [
       "210208"
      ]
     },
     "execution_count": 10,
     "metadata": {},
     "output_type": "execute_result"
    }
   ],
   "source": [
    "len(df_dropped)"
   ]
  },
  {
   "cell_type": "code",
   "execution_count": 11,
   "id": "a944a9de-515a-4802-9bf9-7380476dc4f6",
   "metadata": {
    "tags": []
   },
   "outputs": [],
   "source": [
    "df_dropped.to_csv('powerlifting_feature_importances.csv', index=False)"
   ]
  }
 ],
 "metadata": {
  "kernelspec": {
   "display_name": "Python 3 (ipykernel)",
   "language": "python",
   "name": "python3"
  },
  "language_info": {
   "codemirror_mode": {
    "name": "ipython",
    "version": 3
   },
   "file_extension": ".py",
   "mimetype": "text/x-python",
   "name": "python",
   "nbconvert_exporter": "python",
   "pygments_lexer": "ipython3",
   "version": "3.11.5"
  }
 },
 "nbformat": 4,
 "nbformat_minor": 5
}
