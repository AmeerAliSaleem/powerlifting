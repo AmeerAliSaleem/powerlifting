{
 "cells": [
  {
   "cell_type": "markdown",
   "id": "582b70f4-1767-46a6-8a87-00f11cdd14e0",
   "metadata": {},
   "source": [
    "# u2001820 Powerlifting Project: Correlations\n",
    "---\n",
    "We aim to investigate the powerlifting dataset available on <a href=\"https://www.kaggle.com/datasets/open-powerlifting/powerlifting-database\">Kaggle</a>.\n",
    "\n",
    "This notebook is dedicated to exploring the correlations between variables."
   ]
  },
  {
   "cell_type": "markdown",
   "id": "4dcd3575-1c85-45e3-af2a-62d8e32650bc",
   "metadata": {},
   "source": [
    "### Numeric variables"
   ]
  },
  {
   "cell_type": "code",
   "execution_count": 1,
   "id": "20ec9ba4-a738-4458-a271-6548f93aa1e6",
   "metadata": {
    "tags": []
   },
   "outputs": [],
   "source": [
    "# imports\n",
    "import pandas as pd\n",
    "import numpy as np\n",
    "from matplotlib import pyplot as plt\n",
    "import seaborn as sns"
   ]
  },
  {
   "cell_type": "code",
   "execution_count": 2,
   "id": "966bafd0-e68e-4f5d-9e7f-43c754505b1a",
   "metadata": {
    "tags": []
   },
   "outputs": [
    {
     "name": "stderr",
     "output_type": "stream",
     "text": [
      "C:\\Users\\asale\\AppData\\Local\\Temp\\ipykernel_880\\2428485417.py:1: DtypeWarning: Columns (35) have mixed types. Specify dtype option on import or set low_memory=False.\n",
      "  df = pd.read_csv(\"cleaned_powerlifting.csv\")\n"
     ]
    }
   ],
   "source": [
    "df = pd.read_csv(\"cleaned_powerlifting.csv\")"
   ]
  },
  {
   "cell_type": "code",
   "execution_count": 22,
   "id": "26fa4b94-69d1-4af8-a036-6fc4d09f522b",
   "metadata": {
    "tags": []
   },
   "outputs": [],
   "source": [
    "df_filtered = df[['Sex', 'Equipment', 'BodyweightKg','Best3SquatKg', 'Best3BenchKg', 'Best3DeadliftKg', \n",
    "                  'Wilks', 'Place']]"
   ]
  },
  {
   "cell_type": "code",
   "execution_count": 23,
   "id": "3e2ef3da-4bf2-422a-9cfc-78d3b37d7c21",
   "metadata": {
    "tags": []
   },
   "outputs": [
    {
     "data": {
      "text/html": [
       "<div>\n",
       "<style scoped>\n",
       "    .dataframe tbody tr th:only-of-type {\n",
       "        vertical-align: middle;\n",
       "    }\n",
       "\n",
       "    .dataframe tbody tr th {\n",
       "        vertical-align: top;\n",
       "    }\n",
       "\n",
       "    .dataframe thead th {\n",
       "        text-align: right;\n",
       "    }\n",
       "</style>\n",
       "<table border=\"1\" class=\"dataframe\">\n",
       "  <thead>\n",
       "    <tr style=\"text-align: right;\">\n",
       "      <th></th>\n",
       "      <th>Sex</th>\n",
       "      <th>Equipment</th>\n",
       "      <th>BodyweightKg</th>\n",
       "      <th>Best3SquatKg</th>\n",
       "      <th>Best3BenchKg</th>\n",
       "      <th>Best3DeadliftKg</th>\n",
       "      <th>Wilks</th>\n",
       "      <th>Place</th>\n",
       "    </tr>\n",
       "  </thead>\n",
       "  <tbody>\n",
       "    <tr>\n",
       "      <th>0</th>\n",
       "      <td>F</td>\n",
       "      <td>Wraps</td>\n",
       "      <td>59.8</td>\n",
       "      <td>105.0</td>\n",
       "      <td>55.0</td>\n",
       "      <td>130.0</td>\n",
       "      <td>324.16</td>\n",
       "      <td>4</td>\n",
       "    </tr>\n",
       "    <tr>\n",
       "      <th>1</th>\n",
       "      <td>F</td>\n",
       "      <td>Wraps</td>\n",
       "      <td>58.5</td>\n",
       "      <td>120.0</td>\n",
       "      <td>67.5</td>\n",
       "      <td>145.0</td>\n",
       "      <td>378.07</td>\n",
       "      <td>2</td>\n",
       "    </tr>\n",
       "    <tr>\n",
       "      <th>2</th>\n",
       "      <td>F</td>\n",
       "      <td>Wraps</td>\n",
       "      <td>60.0</td>\n",
       "      <td>105.0</td>\n",
       "      <td>72.5</td>\n",
       "      <td>132.5</td>\n",
       "      <td>345.61</td>\n",
       "      <td>3</td>\n",
       "    </tr>\n",
       "    <tr>\n",
       "      <th>3</th>\n",
       "      <td>F</td>\n",
       "      <td>Wraps</td>\n",
       "      <td>104.0</td>\n",
       "      <td>140.0</td>\n",
       "      <td>80.0</td>\n",
       "      <td>170.0</td>\n",
       "      <td>321.25</td>\n",
       "      <td>3</td>\n",
       "    </tr>\n",
       "    <tr>\n",
       "      <th>4</th>\n",
       "      <td>F</td>\n",
       "      <td>Wraps</td>\n",
       "      <td>74.0</td>\n",
       "      <td>142.5</td>\n",
       "      <td>82.5</td>\n",
       "      <td>145.0</td>\n",
       "      <td>354.74</td>\n",
       "      <td>5</td>\n",
       "    </tr>\n",
       "  </tbody>\n",
       "</table>\n",
       "</div>"
      ],
      "text/plain": [
       "  Sex Equipment  BodyweightKg  Best3SquatKg  Best3BenchKg  Best3DeadliftKg  \\\n",
       "0   F     Wraps          59.8         105.0          55.0            130.0   \n",
       "1   F     Wraps          58.5         120.0          67.5            145.0   \n",
       "2   F     Wraps          60.0         105.0          72.5            132.5   \n",
       "3   F     Wraps         104.0         140.0          80.0            170.0   \n",
       "4   F     Wraps          74.0         142.5          82.5            145.0   \n",
       "\n",
       "    Wilks Place  \n",
       "0  324.16     4  \n",
       "1  378.07     2  \n",
       "2  345.61     3  \n",
       "3  321.25     3  \n",
       "4  354.74     5  "
      ]
     },
     "execution_count": 23,
     "metadata": {},
     "output_type": "execute_result"
    }
   ],
   "source": [
    "df_filtered.head()"
   ]
  },
  {
   "cell_type": "code",
   "execution_count": 24,
   "id": "43796e91-f183-4a32-8132-34be70bf85d2",
   "metadata": {
    "tags": []
   },
   "outputs": [
    {
     "data": {
      "text/plain": [
       "Sex                    0\n",
       "Equipment              0\n",
       "BodyweightKg           0\n",
       "Best3SquatKg       41909\n",
       "Best3BenchKg       60555\n",
       "Best3DeadliftKg    67596\n",
       "Wilks              81228\n",
       "Place                  0\n",
       "dtype: int64"
      ]
     },
     "execution_count": 24,
     "metadata": {},
     "output_type": "execute_result"
    }
   ],
   "source": [
    "df_filtered.isnull().sum()"
   ]
  },
  {
   "cell_type": "code",
   "execution_count": 25,
   "id": "d297dda9-f78e-4e62-9169-1e5db87b74e1",
   "metadata": {
    "tags": []
   },
   "outputs": [
    {
     "name": "stderr",
     "output_type": "stream",
     "text": [
      "C:\\Users\\asale\\AppData\\Local\\Temp\\ipykernel_880\\2386786122.py:2: SettingWithCopyWarning: \n",
      "A value is trying to be set on a copy of a slice from a DataFrame\n",
      "\n",
      "See the caveats in the documentation: https://pandas.pydata.org/pandas-docs/stable/user_guide/indexing.html#returning-a-view-versus-a-copy\n",
      "  df_filtered.dropna(subset=['Best3SquatKg', 'Best3BenchKg', 'Best3DeadliftKg', 'Wilks'], inplace=True)\n"
     ]
    }
   ],
   "source": [
    "# removing rows with missing values for convenience\n",
    "df_filtered.dropna(subset=['Best3SquatKg', 'Best3BenchKg', 'Best3DeadliftKg', 'Wilks'], inplace=True)"
   ]
  },
  {
   "cell_type": "code",
   "execution_count": 26,
   "id": "5dcd7f1d-e618-4565-aced-f84aed3943b6",
   "metadata": {
    "tags": []
   },
   "outputs": [
    {
     "data": {
      "text/plain": [
       "Sex                0\n",
       "Equipment          0\n",
       "BodyweightKg       0\n",
       "Best3SquatKg       0\n",
       "Best3BenchKg       0\n",
       "Best3DeadliftKg    0\n",
       "Wilks              0\n",
       "Place              0\n",
       "dtype: int64"
      ]
     },
     "execution_count": 26,
     "metadata": {},
     "output_type": "execute_result"
    }
   ],
   "source": [
    "df_filtered.isnull().sum()"
   ]
  },
  {
   "cell_type": "code",
   "execution_count": 27,
   "id": "a05d8d9e-231a-462f-b98c-f5538adfb8b6",
   "metadata": {
    "tags": []
   },
   "outputs": [
    {
     "data": {
      "text/plain": [
       "Place\n",
       "1      342106\n",
       "2      158612\n",
       "3      106552\n",
       "4       78257\n",
       "5       60374\n",
       "        ...  \n",
       "108         1\n",
       "106         1\n",
       "105         1\n",
       "104         1\n",
       "120         1\n",
       "Name: count, Length: 121, dtype: int64"
      ]
     },
     "execution_count": 27,
     "metadata": {},
     "output_type": "execute_result"
    }
   ],
   "source": [
    "df_filtered['Place'].value_counts()"
   ]
  },
  {
   "cell_type": "code",
   "execution_count": 28,
   "id": "8a8c38f0-e4b3-47d2-8e61-1d22bbfaea24",
   "metadata": {
    "tags": []
   },
   "outputs": [
    {
     "data": {
      "text/plain": [
       "array(['4', '2', '3', '5', '1', '7', '6', '9', '8', '11', '12', '13',\n",
       "       '15', '10', '14', '18', '16', '17', '19', '25', '32', '23', '24',\n",
       "       '27', '28', '29', '21', '26', '31', '22', '30', '20', '33', 'G',\n",
       "       '34', '35', '36', '37', '38', '39', '40', '41', '42', '43', '44',\n",
       "       '45', '46', '47', '48', '49', '50', '51', '52', '53', '54', '55',\n",
       "       '56', '99', '57', '58', '59', '60', '61', '62', '63', '64', '65',\n",
       "       '66', '67', '68', '69', '70', '71', '72', '73', '74', '75', '76',\n",
       "       '77', '78', '79', '80', '81', '82', '83', '84', '85', '86', '87',\n",
       "       '88', '89', '90', '91', '92', '93', '94', '95', '96', '97', '98',\n",
       "       '100', '101', '102', '103', '104', '105', '106', '107', '108',\n",
       "       '109', '110', '111', '112', '113', '114', '115', '116', '117',\n",
       "       '118', '119', '120'], dtype=object)"
      ]
     },
     "execution_count": 28,
     "metadata": {},
     "output_type": "execute_result"
    }
   ],
   "source": [
    "df_filtered['Place'].unique()"
   ]
  },
  {
   "cell_type": "markdown",
   "id": "923686de-e6f6-4b52-ba62-5d5d1f6b923e",
   "metadata": {},
   "source": [
    "We drop rows with placement values of either 'DQ' (disqualified) or 'NS' (non-scorer):"
   ]
  },
  {
   "cell_type": "code",
   "execution_count": 29,
   "id": "d10f9b38-e93b-4219-af0a-0091e2ddfd07",
   "metadata": {
    "tags": []
   },
   "outputs": [],
   "source": [
    "df_filtered = df_filtered[(df_filtered['Place'] != 'DQ') & \n",
    "                          (df_filtered['Place'] != 'NS') & \n",
    "                          (df_filtered['Place'] != 'G') & \n",
    "                         (df_filtered['Place'] != 'DD')]"
   ]
  },
  {
   "cell_type": "code",
   "execution_count": 30,
   "id": "2b634601-a350-4ff2-b752-9e603d87c43f",
   "metadata": {
    "tags": []
   },
   "outputs": [
    {
     "data": {
      "text/plain": [
       "array(['4', '2', '3', '5', '1', '7', '6', '9', '8', '11', '12', '13',\n",
       "       '15', '10', '14', '18', '16', '17', '19', '25', '32', '23', '24',\n",
       "       '27', '28', '29', '21', '26', '31', '22', '30', '20', '33', '34',\n",
       "       '35', '36', '37', '38', '39', '40', '41', '42', '43', '44', '45',\n",
       "       '46', '47', '48', '49', '50', '51', '52', '53', '54', '55', '56',\n",
       "       '99', '57', '58', '59', '60', '61', '62', '63', '64', '65', '66',\n",
       "       '67', '68', '69', '70', '71', '72', '73', '74', '75', '76', '77',\n",
       "       '78', '79', '80', '81', '82', '83', '84', '85', '86', '87', '88',\n",
       "       '89', '90', '91', '92', '93', '94', '95', '96', '97', '98', '100',\n",
       "       '101', '102', '103', '104', '105', '106', '107', '108', '109',\n",
       "       '110', '111', '112', '113', '114', '115', '116', '117', '118',\n",
       "       '119', '120'], dtype=object)"
      ]
     },
     "execution_count": 30,
     "metadata": {},
     "output_type": "execute_result"
    }
   ],
   "source": [
    "df_filtered['Place'].unique()"
   ]
  },
  {
   "cell_type": "code",
   "execution_count": 31,
   "id": "e2aa05f5-d51d-4e86-901e-d80d586cd737",
   "metadata": {
    "tags": []
   },
   "outputs": [
    {
     "data": {
      "text/plain": [
       "str"
      ]
     },
     "execution_count": 31,
     "metadata": {},
     "output_type": "execute_result"
    }
   ],
   "source": [
    "type(df_filtered['Place'][0])"
   ]
  },
  {
   "cell_type": "code",
   "execution_count": 32,
   "id": "5c914a44-0e5f-4d82-af61-231e433bc912",
   "metadata": {
    "tags": []
   },
   "outputs": [],
   "source": [
    "df_filtered['Place'] = df_filtered['Place'].astype(int)"
   ]
  },
  {
   "cell_type": "code",
   "execution_count": 33,
   "id": "684acf71-9f99-4fe6-97e3-9a017b3f8838",
   "metadata": {
    "tags": []
   },
   "outputs": [],
   "source": [
    "# encoding cateogorical columns\n",
    "from sklearn.preprocessing import LabelEncoder\n",
    "\n",
    "label_encoder = LabelEncoder()\n",
    "df_filtered['Sex_encoded'] = label_encoder.fit_transform(df_filtered['Sex'])\n",
    "# df_filtered['Equipment_encoded'] = label_encoder.fit_transform(df_filtered['Equipment'])"
   ]
  },
  {
   "cell_type": "code",
   "execution_count": 34,
   "id": "152661eb-4379-4824-a5f2-d7f425f7eb2c",
   "metadata": {
    "tags": []
   },
   "outputs": [
    {
     "data": {
      "text/html": [
       "<div>\n",
       "<style scoped>\n",
       "    .dataframe tbody tr th:only-of-type {\n",
       "        vertical-align: middle;\n",
       "    }\n",
       "\n",
       "    .dataframe tbody tr th {\n",
       "        vertical-align: top;\n",
       "    }\n",
       "\n",
       "    .dataframe thead th {\n",
       "        text-align: right;\n",
       "    }\n",
       "</style>\n",
       "<table border=\"1\" class=\"dataframe\">\n",
       "  <thead>\n",
       "    <tr style=\"text-align: right;\">\n",
       "      <th></th>\n",
       "      <th>Sex</th>\n",
       "      <th>Equipment</th>\n",
       "      <th>BodyweightKg</th>\n",
       "      <th>Best3SquatKg</th>\n",
       "      <th>Best3BenchKg</th>\n",
       "      <th>Best3DeadliftKg</th>\n",
       "      <th>Wilks</th>\n",
       "      <th>Place</th>\n",
       "      <th>Sex_encoded</th>\n",
       "    </tr>\n",
       "  </thead>\n",
       "  <tbody>\n",
       "    <tr>\n",
       "      <th>0</th>\n",
       "      <td>F</td>\n",
       "      <td>Wraps</td>\n",
       "      <td>59.8</td>\n",
       "      <td>105.0</td>\n",
       "      <td>55.0</td>\n",
       "      <td>130.0</td>\n",
       "      <td>324.16</td>\n",
       "      <td>4</td>\n",
       "      <td>0</td>\n",
       "    </tr>\n",
       "    <tr>\n",
       "      <th>1</th>\n",
       "      <td>F</td>\n",
       "      <td>Wraps</td>\n",
       "      <td>58.5</td>\n",
       "      <td>120.0</td>\n",
       "      <td>67.5</td>\n",
       "      <td>145.0</td>\n",
       "      <td>378.07</td>\n",
       "      <td>2</td>\n",
       "      <td>0</td>\n",
       "    </tr>\n",
       "    <tr>\n",
       "      <th>2</th>\n",
       "      <td>F</td>\n",
       "      <td>Wraps</td>\n",
       "      <td>60.0</td>\n",
       "      <td>105.0</td>\n",
       "      <td>72.5</td>\n",
       "      <td>132.5</td>\n",
       "      <td>345.61</td>\n",
       "      <td>3</td>\n",
       "      <td>0</td>\n",
       "    </tr>\n",
       "    <tr>\n",
       "      <th>3</th>\n",
       "      <td>F</td>\n",
       "      <td>Wraps</td>\n",
       "      <td>104.0</td>\n",
       "      <td>140.0</td>\n",
       "      <td>80.0</td>\n",
       "      <td>170.0</td>\n",
       "      <td>321.25</td>\n",
       "      <td>3</td>\n",
       "      <td>0</td>\n",
       "    </tr>\n",
       "    <tr>\n",
       "      <th>4</th>\n",
       "      <td>F</td>\n",
       "      <td>Wraps</td>\n",
       "      <td>74.0</td>\n",
       "      <td>142.5</td>\n",
       "      <td>82.5</td>\n",
       "      <td>145.0</td>\n",
       "      <td>354.74</td>\n",
       "      <td>5</td>\n",
       "      <td>0</td>\n",
       "    </tr>\n",
       "  </tbody>\n",
       "</table>\n",
       "</div>"
      ],
      "text/plain": [
       "  Sex Equipment  BodyweightKg  Best3SquatKg  Best3BenchKg  Best3DeadliftKg  \\\n",
       "0   F     Wraps          59.8         105.0          55.0            130.0   \n",
       "1   F     Wraps          58.5         120.0          67.5            145.0   \n",
       "2   F     Wraps          60.0         105.0          72.5            132.5   \n",
       "3   F     Wraps         104.0         140.0          80.0            170.0   \n",
       "4   F     Wraps          74.0         142.5          82.5            145.0   \n",
       "\n",
       "    Wilks  Place  Sex_encoded  \n",
       "0  324.16      4            0  \n",
       "1  378.07      2            0  \n",
       "2  345.61      3            0  \n",
       "3  321.25      3            0  \n",
       "4  354.74      5            0  "
      ]
     },
     "execution_count": 34,
     "metadata": {},
     "output_type": "execute_result"
    }
   ],
   "source": [
    "df_filtered.head()"
   ]
  },
  {
   "cell_type": "code",
   "execution_count": 35,
   "id": "0f945875-c322-44b4-8299-d6198b389f59",
   "metadata": {
    "tags": []
   },
   "outputs": [
    {
     "data": {
      "text/html": [
       "<div>\n",
       "<style scoped>\n",
       "    .dataframe tbody tr th:only-of-type {\n",
       "        vertical-align: middle;\n",
       "    }\n",
       "\n",
       "    .dataframe tbody tr th {\n",
       "        vertical-align: top;\n",
       "    }\n",
       "\n",
       "    .dataframe thead th {\n",
       "        text-align: right;\n",
       "    }\n",
       "</style>\n",
       "<table border=\"1\" class=\"dataframe\">\n",
       "  <thead>\n",
       "    <tr style=\"text-align: right;\">\n",
       "      <th></th>\n",
       "      <th>BodyweightKg</th>\n",
       "      <th>Best3SquatKg</th>\n",
       "      <th>Best3BenchKg</th>\n",
       "      <th>Best3DeadliftKg</th>\n",
       "      <th>Wilks</th>\n",
       "      <th>Place</th>\n",
       "      <th>Sex</th>\n",
       "    </tr>\n",
       "  </thead>\n",
       "  <tbody>\n",
       "    <tr>\n",
       "      <th>0</th>\n",
       "      <td>59.8</td>\n",
       "      <td>105.0</td>\n",
       "      <td>55.0</td>\n",
       "      <td>130.0</td>\n",
       "      <td>324.16</td>\n",
       "      <td>4</td>\n",
       "      <td>0</td>\n",
       "    </tr>\n",
       "    <tr>\n",
       "      <th>1</th>\n",
       "      <td>58.5</td>\n",
       "      <td>120.0</td>\n",
       "      <td>67.5</td>\n",
       "      <td>145.0</td>\n",
       "      <td>378.07</td>\n",
       "      <td>2</td>\n",
       "      <td>0</td>\n",
       "    </tr>\n",
       "    <tr>\n",
       "      <th>2</th>\n",
       "      <td>60.0</td>\n",
       "      <td>105.0</td>\n",
       "      <td>72.5</td>\n",
       "      <td>132.5</td>\n",
       "      <td>345.61</td>\n",
       "      <td>3</td>\n",
       "      <td>0</td>\n",
       "    </tr>\n",
       "    <tr>\n",
       "      <th>3</th>\n",
       "      <td>104.0</td>\n",
       "      <td>140.0</td>\n",
       "      <td>80.0</td>\n",
       "      <td>170.0</td>\n",
       "      <td>321.25</td>\n",
       "      <td>3</td>\n",
       "      <td>0</td>\n",
       "    </tr>\n",
       "    <tr>\n",
       "      <th>4</th>\n",
       "      <td>74.0</td>\n",
       "      <td>142.5</td>\n",
       "      <td>82.5</td>\n",
       "      <td>145.0</td>\n",
       "      <td>354.74</td>\n",
       "      <td>5</td>\n",
       "      <td>0</td>\n",
       "    </tr>\n",
       "  </tbody>\n",
       "</table>\n",
       "</div>"
      ],
      "text/plain": [
       "   BodyweightKg  Best3SquatKg  Best3BenchKg  Best3DeadliftKg   Wilks  Place  \\\n",
       "0          59.8         105.0          55.0            130.0  324.16      4   \n",
       "1          58.5         120.0          67.5            145.0  378.07      2   \n",
       "2          60.0         105.0          72.5            132.5  345.61      3   \n",
       "3         104.0         140.0          80.0            170.0  321.25      3   \n",
       "4          74.0         142.5          82.5            145.0  354.74      5   \n",
       "\n",
       "   Sex  \n",
       "0    0  \n",
       "1    0  \n",
       "2    0  \n",
       "3    0  \n",
       "4    0  "
      ]
     },
     "execution_count": 35,
     "metadata": {},
     "output_type": "execute_result"
    }
   ],
   "source": [
    "df_numerical = df_filtered.drop(df_filtered.columns[:2], axis=1)\n",
    "df_numerical = df_numerical.rename(columns={'Sex_encoded': 'Sex'})\n",
    "df_numerical.head()"
   ]
  },
  {
   "cell_type": "code",
   "execution_count": 36,
   "id": "3e026289-949c-4491-838e-67f1c2b1a5ab",
   "metadata": {
    "tags": []
   },
   "outputs": [
    {
     "data": {
      "text/html": [
       "<div>\n",
       "<style scoped>\n",
       "    .dataframe tbody tr th:only-of-type {\n",
       "        vertical-align: middle;\n",
       "    }\n",
       "\n",
       "    .dataframe tbody tr th {\n",
       "        vertical-align: top;\n",
       "    }\n",
       "\n",
       "    .dataframe thead th {\n",
       "        text-align: right;\n",
       "    }\n",
       "</style>\n",
       "<table border=\"1\" class=\"dataframe\">\n",
       "  <thead>\n",
       "    <tr style=\"text-align: right;\">\n",
       "      <th></th>\n",
       "      <th>Sex</th>\n",
       "      <th>BodyweightKg</th>\n",
       "      <th>Best3SquatKg</th>\n",
       "      <th>Best3BenchKg</th>\n",
       "      <th>Best3DeadliftKg</th>\n",
       "      <th>Wilks</th>\n",
       "      <th>Place</th>\n",
       "    </tr>\n",
       "  </thead>\n",
       "  <tbody>\n",
       "    <tr>\n",
       "      <th>0</th>\n",
       "      <td>0</td>\n",
       "      <td>59.8</td>\n",
       "      <td>105.0</td>\n",
       "      <td>55.0</td>\n",
       "      <td>130.0</td>\n",
       "      <td>324.16</td>\n",
       "      <td>4</td>\n",
       "    </tr>\n",
       "    <tr>\n",
       "      <th>1</th>\n",
       "      <td>0</td>\n",
       "      <td>58.5</td>\n",
       "      <td>120.0</td>\n",
       "      <td>67.5</td>\n",
       "      <td>145.0</td>\n",
       "      <td>378.07</td>\n",
       "      <td>2</td>\n",
       "    </tr>\n",
       "    <tr>\n",
       "      <th>2</th>\n",
       "      <td>0</td>\n",
       "      <td>60.0</td>\n",
       "      <td>105.0</td>\n",
       "      <td>72.5</td>\n",
       "      <td>132.5</td>\n",
       "      <td>345.61</td>\n",
       "      <td>3</td>\n",
       "    </tr>\n",
       "    <tr>\n",
       "      <th>3</th>\n",
       "      <td>0</td>\n",
       "      <td>104.0</td>\n",
       "      <td>140.0</td>\n",
       "      <td>80.0</td>\n",
       "      <td>170.0</td>\n",
       "      <td>321.25</td>\n",
       "      <td>3</td>\n",
       "    </tr>\n",
       "    <tr>\n",
       "      <th>4</th>\n",
       "      <td>0</td>\n",
       "      <td>74.0</td>\n",
       "      <td>142.5</td>\n",
       "      <td>82.5</td>\n",
       "      <td>145.0</td>\n",
       "      <td>354.74</td>\n",
       "      <td>5</td>\n",
       "    </tr>\n",
       "  </tbody>\n",
       "</table>\n",
       "</div>"
      ],
      "text/plain": [
       "   Sex  BodyweightKg  Best3SquatKg  Best3BenchKg  Best3DeadliftKg   Wilks  \\\n",
       "0    0          59.8         105.0          55.0            130.0  324.16   \n",
       "1    0          58.5         120.0          67.5            145.0  378.07   \n",
       "2    0          60.0         105.0          72.5            132.5  345.61   \n",
       "3    0         104.0         140.0          80.0            170.0  321.25   \n",
       "4    0          74.0         142.5          82.5            145.0  354.74   \n",
       "\n",
       "   Place  \n",
       "0      4  \n",
       "1      2  \n",
       "2      3  \n",
       "3      3  \n",
       "4      5  "
      ]
     },
     "execution_count": 36,
     "metadata": {},
     "output_type": "execute_result"
    }
   ],
   "source": [
    "# reordering columns for a more logical matrix layout\n",
    "reordering = ['Sex', 'BodyweightKg', 'Best3SquatKg', 'Best3BenchKg', 'Best3DeadliftKg', 'Wilks', 'Place']\n",
    "\n",
    "df_numerical = df_numerical[reordering]\n",
    "df_numerical.head()"
   ]
  },
  {
   "cell_type": "code",
   "execution_count": 40,
   "id": "ed24a610-3667-452b-9f48-d208bf049710",
   "metadata": {
    "tags": []
   },
   "outputs": [],
   "source": [
    "df_numerical = df_numerical.drop(columns = 'BodyweightKg')"
   ]
  },
  {
   "cell_type": "code",
   "execution_count": 41,
   "id": "9417f94f-1b74-4008-9ee1-8779c341d5fe",
   "metadata": {
    "tags": []
   },
   "outputs": [
    {
     "data": {
      "text/html": [
       "<div>\n",
       "<style scoped>\n",
       "    .dataframe tbody tr th:only-of-type {\n",
       "        vertical-align: middle;\n",
       "    }\n",
       "\n",
       "    .dataframe tbody tr th {\n",
       "        vertical-align: top;\n",
       "    }\n",
       "\n",
       "    .dataframe thead th {\n",
       "        text-align: right;\n",
       "    }\n",
       "</style>\n",
       "<table border=\"1\" class=\"dataframe\">\n",
       "  <thead>\n",
       "    <tr style=\"text-align: right;\">\n",
       "      <th></th>\n",
       "      <th>Sex</th>\n",
       "      <th>Best3SquatKg</th>\n",
       "      <th>Best3BenchKg</th>\n",
       "      <th>Best3DeadliftKg</th>\n",
       "      <th>Wilks</th>\n",
       "      <th>Place</th>\n",
       "    </tr>\n",
       "  </thead>\n",
       "  <tbody>\n",
       "    <tr>\n",
       "      <th>0</th>\n",
       "      <td>0</td>\n",
       "      <td>105.0</td>\n",
       "      <td>55.0</td>\n",
       "      <td>130.0</td>\n",
       "      <td>324.16</td>\n",
       "      <td>4</td>\n",
       "    </tr>\n",
       "    <tr>\n",
       "      <th>1</th>\n",
       "      <td>0</td>\n",
       "      <td>120.0</td>\n",
       "      <td>67.5</td>\n",
       "      <td>145.0</td>\n",
       "      <td>378.07</td>\n",
       "      <td>2</td>\n",
       "    </tr>\n",
       "    <tr>\n",
       "      <th>2</th>\n",
       "      <td>0</td>\n",
       "      <td>105.0</td>\n",
       "      <td>72.5</td>\n",
       "      <td>132.5</td>\n",
       "      <td>345.61</td>\n",
       "      <td>3</td>\n",
       "    </tr>\n",
       "    <tr>\n",
       "      <th>3</th>\n",
       "      <td>0</td>\n",
       "      <td>140.0</td>\n",
       "      <td>80.0</td>\n",
       "      <td>170.0</td>\n",
       "      <td>321.25</td>\n",
       "      <td>3</td>\n",
       "    </tr>\n",
       "    <tr>\n",
       "      <th>4</th>\n",
       "      <td>0</td>\n",
       "      <td>142.5</td>\n",
       "      <td>82.5</td>\n",
       "      <td>145.0</td>\n",
       "      <td>354.74</td>\n",
       "      <td>5</td>\n",
       "    </tr>\n",
       "  </tbody>\n",
       "</table>\n",
       "</div>"
      ],
      "text/plain": [
       "   Sex  Best3SquatKg  Best3BenchKg  Best3DeadliftKg   Wilks  Place\n",
       "0    0         105.0          55.0            130.0  324.16      4\n",
       "1    0         120.0          67.5            145.0  378.07      2\n",
       "2    0         105.0          72.5            132.5  345.61      3\n",
       "3    0         140.0          80.0            170.0  321.25      3\n",
       "4    0         142.5          82.5            145.0  354.74      5"
      ]
     },
     "execution_count": 41,
     "metadata": {},
     "output_type": "execute_result"
    }
   ],
   "source": [
    "df_numerical.head()"
   ]
  },
  {
   "cell_type": "code",
   "execution_count": 42,
   "id": "911263e9-4d40-47d7-b8e4-5bb71d4fc087",
   "metadata": {
    "tags": []
   },
   "outputs": [
    {
     "data": {
      "image/png": "[encoded data removed]",
      "text/plain": [
       "<Figure size 640x480 with 2 Axes>"
      ]
     },
     "metadata": {},
     "output_type": "display_data"
    }
   ],
   "source": [
    "# Produce heatmap for variables\n",
    "correlation = df_numerical.corr()\n",
    "sns.heatmap(correlation, xticklabels=correlation.columns, yticklabels=correlation.columns, annot=True)\n",
    "plt.xticks(rotation=45)\n",
    "plt.show()"
   ]
  },
  {
   "cell_type": "markdown",
   "id": "a28a63ff-40c1-499d-b169-f76b850472b2",
   "metadata": {},
   "source": [
    "We also try one-hot encoding the `Equipment` column and checking its correlation with the lift weights:"
   ]
  },
  {
   "cell_type": "code",
   "execution_count": 19,
   "id": "82fe8845-412c-4535-9a55-10f0834e3953",
   "metadata": {
    "tags": []
   },
   "outputs": [],
   "source": [
    "one_hot_equipment = pd.get_dummies(df_filtered, columns=['Equipment'])"
   ]
  },
  {
   "cell_type": "code",
   "execution_count": 20,
   "id": "dfed7972-11ee-4634-af43-574994df6860",
   "metadata": {
    "tags": []
   },
   "outputs": [
    {
     "data": {
      "text/html": [
       "<div>\n",
       "<style scoped>\n",
       "    .dataframe tbody tr th:only-of-type {\n",
       "        vertical-align: middle;\n",
       "    }\n",
       "\n",
       "    .dataframe tbody tr th {\n",
       "        vertical-align: top;\n",
       "    }\n",
       "\n",
       "    .dataframe thead th {\n",
       "        text-align: right;\n",
       "    }\n",
       "</style>\n",
       "<table border=\"1\" class=\"dataframe\">\n",
       "  <thead>\n",
       "    <tr style=\"text-align: right;\">\n",
       "      <th></th>\n",
       "      <th>Sex</th>\n",
       "      <th>BodyweightKg</th>\n",
       "      <th>Best3SquatKg</th>\n",
       "      <th>Best3BenchKg</th>\n",
       "      <th>Best3DeadliftKg</th>\n",
       "      <th>Place</th>\n",
       "      <th>Sex_encoded</th>\n",
       "      <th>Equipment_Multi-ply</th>\n",
       "      <th>Equipment_Raw</th>\n",
       "      <th>Equipment_Single-ply</th>\n",
       "      <th>Equipment_Wraps</th>\n",
       "    </tr>\n",
       "  </thead>\n",
       "  <tbody>\n",
       "    <tr>\n",
       "      <th>0</th>\n",
       "      <td>F</td>\n",
       "      <td>59.8</td>\n",
       "      <td>105.0</td>\n",
       "      <td>55.0</td>\n",
       "      <td>130.0</td>\n",
       "      <td>4</td>\n",
       "      <td>0</td>\n",
       "      <td>False</td>\n",
       "      <td>False</td>\n",
       "      <td>False</td>\n",
       "      <td>True</td>\n",
       "    </tr>\n",
       "    <tr>\n",
       "      <th>1</th>\n",
       "      <td>F</td>\n",
       "      <td>58.5</td>\n",
       "      <td>120.0</td>\n",
       "      <td>67.5</td>\n",
       "      <td>145.0</td>\n",
       "      <td>2</td>\n",
       "      <td>0</td>\n",
       "      <td>False</td>\n",
       "      <td>False</td>\n",
       "      <td>False</td>\n",
       "      <td>True</td>\n",
       "    </tr>\n",
       "    <tr>\n",
       "      <th>2</th>\n",
       "      <td>F</td>\n",
       "      <td>60.0</td>\n",
       "      <td>105.0</td>\n",
       "      <td>72.5</td>\n",
       "      <td>132.5</td>\n",
       "      <td>3</td>\n",
       "      <td>0</td>\n",
       "      <td>False</td>\n",
       "      <td>False</td>\n",
       "      <td>False</td>\n",
       "      <td>True</td>\n",
       "    </tr>\n",
       "    <tr>\n",
       "      <th>3</th>\n",
       "      <td>F</td>\n",
       "      <td>104.0</td>\n",
       "      <td>140.0</td>\n",
       "      <td>80.0</td>\n",
       "      <td>170.0</td>\n",
       "      <td>3</td>\n",
       "      <td>0</td>\n",
       "      <td>False</td>\n",
       "      <td>False</td>\n",
       "      <td>False</td>\n",
       "      <td>True</td>\n",
       "    </tr>\n",
       "    <tr>\n",
       "      <th>4</th>\n",
       "      <td>F</td>\n",
       "      <td>74.0</td>\n",
       "      <td>142.5</td>\n",
       "      <td>82.5</td>\n",
       "      <td>145.0</td>\n",
       "      <td>5</td>\n",
       "      <td>0</td>\n",
       "      <td>False</td>\n",
       "      <td>False</td>\n",
       "      <td>False</td>\n",
       "      <td>True</td>\n",
       "    </tr>\n",
       "  </tbody>\n",
       "</table>\n",
       "</div>"
      ],
      "text/plain": [
       "  Sex  BodyweightKg  Best3SquatKg  Best3BenchKg  Best3DeadliftKg  Place  \\\n",
       "0   F          59.8         105.0          55.0            130.0      4   \n",
       "1   F          58.5         120.0          67.5            145.0      2   \n",
       "2   F          60.0         105.0          72.5            132.5      3   \n",
       "3   F         104.0         140.0          80.0            170.0      3   \n",
       "4   F          74.0         142.5          82.5            145.0      5   \n",
       "\n",
       "   Sex_encoded  Equipment_Multi-ply  Equipment_Raw  Equipment_Single-ply  \\\n",
       "0            0                False          False                 False   \n",
       "1            0                False          False                 False   \n",
       "2            0                False          False                 False   \n",
       "3            0                False          False                 False   \n",
       "4            0                False          False                 False   \n",
       "\n",
       "   Equipment_Wraps  \n",
       "0             True  \n",
       "1             True  \n",
       "2             True  \n",
       "3             True  \n",
       "4             True  "
      ]
     },
     "execution_count": 20,
     "metadata": {},
     "output_type": "execute_result"
    }
   ],
   "source": [
    "one_hot_equipment.head()"
   ]
  },
  {
   "cell_type": "code",
   "execution_count": 21,
   "id": "d119961d-a517-4426-b037-6256ba6f8108",
   "metadata": {
    "tags": []
   },
   "outputs": [
    {
     "ename": "KeyError",
     "evalue": "\"['Equipment_encoded'] not found in axis\"",
     "output_type": "error",
     "traceback": [
      "\u001b[1;31m---------------------------------------------------------------------------\u001b[0m",
      "\u001b[1;31mKeyError\u001b[0m                                  Traceback (most recent call last)",
      "Cell \u001b[1;32mIn[21], line 1\u001b[0m\n\u001b[1;32m----> 1\u001b[0m one_hot_equipment \u001b[38;5;241m=\u001b[39m one_hot_equipment\u001b[38;5;241m.\u001b[39mdrop(columns\u001b[38;5;241m=\u001b[39m[\u001b[38;5;124m'\u001b[39m\u001b[38;5;124mSex\u001b[39m\u001b[38;5;124m'\u001b[39m,\u001b[38;5;124m'\u001b[39m\u001b[38;5;124mEquipment_encoded\u001b[39m\u001b[38;5;124m'\u001b[39m,\u001b[38;5;124m'\u001b[39m\u001b[38;5;124mPlace\u001b[39m\u001b[38;5;124m'\u001b[39m,\u001b[38;5;124m'\u001b[39m\u001b[38;5;124mSex_encoded\u001b[39m\u001b[38;5;124m'\u001b[39m])\n",
      "File \u001b[1;32m~\\anaconda3\\Lib\\site-packages\\pandas\\core\\frame.py:5258\u001b[0m, in \u001b[0;36mDataFrame.drop\u001b[1;34m(self, labels, axis, index, columns, level, inplace, errors)\u001b[0m\n\u001b[0;32m   5110\u001b[0m \u001b[38;5;28;01mdef\u001b[39;00m \u001b[38;5;21mdrop\u001b[39m(\n\u001b[0;32m   5111\u001b[0m     \u001b[38;5;28mself\u001b[39m,\n\u001b[0;32m   5112\u001b[0m     labels: IndexLabel \u001b[38;5;241m=\u001b[39m \u001b[38;5;28;01mNone\u001b[39;00m,\n\u001b[1;32m   (...)\u001b[0m\n\u001b[0;32m   5119\u001b[0m     errors: IgnoreRaise \u001b[38;5;241m=\u001b[39m \u001b[38;5;124m\"\u001b[39m\u001b[38;5;124mraise\u001b[39m\u001b[38;5;124m\"\u001b[39m,\n\u001b[0;32m   5120\u001b[0m ) \u001b[38;5;241m-\u001b[39m\u001b[38;5;241m>\u001b[39m DataFrame \u001b[38;5;241m|\u001b[39m \u001b[38;5;28;01mNone\u001b[39;00m:\n\u001b[0;32m   5121\u001b[0m \u001b[38;5;250m    \u001b[39m\u001b[38;5;124;03m\"\"\"\u001b[39;00m\n\u001b[0;32m   5122\u001b[0m \u001b[38;5;124;03m    Drop specified labels from rows or columns.\u001b[39;00m\n\u001b[0;32m   5123\u001b[0m \n\u001b[1;32m   (...)\u001b[0m\n\u001b[0;32m   5256\u001b[0m \u001b[38;5;124;03m            weight  1.0     0.8\u001b[39;00m\n\u001b[0;32m   5257\u001b[0m \u001b[38;5;124;03m    \"\"\"\u001b[39;00m\n\u001b[1;32m-> 5258\u001b[0m     \u001b[38;5;28;01mreturn\u001b[39;00m \u001b[38;5;28msuper\u001b[39m()\u001b[38;5;241m.\u001b[39mdrop(\n\u001b[0;32m   5259\u001b[0m         labels\u001b[38;5;241m=\u001b[39mlabels,\n\u001b[0;32m   5260\u001b[0m         axis\u001b[38;5;241m=\u001b[39maxis,\n\u001b[0;32m   5261\u001b[0m         index\u001b[38;5;241m=\u001b[39mindex,\n\u001b[0;32m   5262\u001b[0m         columns\u001b[38;5;241m=\u001b[39mcolumns,\n\u001b[0;32m   5263\u001b[0m         level\u001b[38;5;241m=\u001b[39mlevel,\n\u001b[0;32m   5264\u001b[0m         inplace\u001b[38;5;241m=\u001b[39minplace,\n\u001b[0;32m   5265\u001b[0m         errors\u001b[38;5;241m=\u001b[39merrors,\n\u001b[0;32m   5266\u001b[0m     )\n",
      "File \u001b[1;32m~\\anaconda3\\Lib\\site-packages\\pandas\\core\\generic.py:4549\u001b[0m, in \u001b[0;36mNDFrame.drop\u001b[1;34m(self, labels, axis, index, columns, level, inplace, errors)\u001b[0m\n\u001b[0;32m   4547\u001b[0m \u001b[38;5;28;01mfor\u001b[39;00m axis, labels \u001b[38;5;129;01min\u001b[39;00m axes\u001b[38;5;241m.\u001b[39mitems():\n\u001b[0;32m   4548\u001b[0m     \u001b[38;5;28;01mif\u001b[39;00m labels \u001b[38;5;129;01mis\u001b[39;00m \u001b[38;5;129;01mnot\u001b[39;00m \u001b[38;5;28;01mNone\u001b[39;00m:\n\u001b[1;32m-> 4549\u001b[0m         obj \u001b[38;5;241m=\u001b[39m obj\u001b[38;5;241m.\u001b[39m_drop_axis(labels, axis, level\u001b[38;5;241m=\u001b[39mlevel, errors\u001b[38;5;241m=\u001b[39merrors)\n\u001b[0;32m   4551\u001b[0m \u001b[38;5;28;01mif\u001b[39;00m inplace:\n\u001b[0;32m   4552\u001b[0m     \u001b[38;5;28mself\u001b[39m\u001b[38;5;241m.\u001b[39m_update_inplace(obj)\n",
      "File \u001b[1;32m~\\anaconda3\\Lib\\site-packages\\pandas\\core\\generic.py:4591\u001b[0m, in \u001b[0;36mNDFrame._drop_axis\u001b[1;34m(self, labels, axis, level, errors, only_slice)\u001b[0m\n\u001b[0;32m   4589\u001b[0m         new_axis \u001b[38;5;241m=\u001b[39m axis\u001b[38;5;241m.\u001b[39mdrop(labels, level\u001b[38;5;241m=\u001b[39mlevel, errors\u001b[38;5;241m=\u001b[39merrors)\n\u001b[0;32m   4590\u001b[0m     \u001b[38;5;28;01melse\u001b[39;00m:\n\u001b[1;32m-> 4591\u001b[0m         new_axis \u001b[38;5;241m=\u001b[39m axis\u001b[38;5;241m.\u001b[39mdrop(labels, errors\u001b[38;5;241m=\u001b[39merrors)\n\u001b[0;32m   4592\u001b[0m     indexer \u001b[38;5;241m=\u001b[39m axis\u001b[38;5;241m.\u001b[39mget_indexer(new_axis)\n\u001b[0;32m   4594\u001b[0m \u001b[38;5;66;03m# Case for non-unique axis\u001b[39;00m\n\u001b[0;32m   4595\u001b[0m \u001b[38;5;28;01melse\u001b[39;00m:\n",
      "File \u001b[1;32m~\\anaconda3\\Lib\\site-packages\\pandas\\core\\indexes\\base.py:6699\u001b[0m, in \u001b[0;36mIndex.drop\u001b[1;34m(self, labels, errors)\u001b[0m\n\u001b[0;32m   6697\u001b[0m \u001b[38;5;28;01mif\u001b[39;00m mask\u001b[38;5;241m.\u001b[39many():\n\u001b[0;32m   6698\u001b[0m     \u001b[38;5;28;01mif\u001b[39;00m errors \u001b[38;5;241m!=\u001b[39m \u001b[38;5;124m\"\u001b[39m\u001b[38;5;124mignore\u001b[39m\u001b[38;5;124m\"\u001b[39m:\n\u001b[1;32m-> 6699\u001b[0m         \u001b[38;5;28;01mraise\u001b[39;00m \u001b[38;5;167;01mKeyError\u001b[39;00m(\u001b[38;5;124mf\u001b[39m\u001b[38;5;124m\"\u001b[39m\u001b[38;5;132;01m{\u001b[39;00m\u001b[38;5;28mlist\u001b[39m(labels[mask])\u001b[38;5;132;01m}\u001b[39;00m\u001b[38;5;124m not found in axis\u001b[39m\u001b[38;5;124m\"\u001b[39m)\n\u001b[0;32m   6700\u001b[0m     indexer \u001b[38;5;241m=\u001b[39m indexer[\u001b[38;5;241m~\u001b[39mmask]\n\u001b[0;32m   6701\u001b[0m \u001b[38;5;28;01mreturn\u001b[39;00m \u001b[38;5;28mself\u001b[39m\u001b[38;5;241m.\u001b[39mdelete(indexer)\n",
      "\u001b[1;31mKeyError\u001b[0m: \"['Equipment_encoded'] not found in axis\""
     ]
    }
   ],
   "source": [
    "one_hot_equipment = one_hot_equipment.drop(columns=['Sex','Equipment_encoded','Place','Sex_encoded'])"
   ]
  },
  {
   "cell_type": "code",
   "execution_count": null,
   "id": "8c4373a7-3455-43bc-8802-3585c62ab89b",
   "metadata": {
    "tags": []
   },
   "outputs": [],
   "source": [
    "one_hot_equipment.head()"
   ]
  },
  {
   "cell_type": "code",
   "execution_count": null,
   "id": "6c3134ed-00ff-4f6d-af7a-a2a748c71bd1",
   "metadata": {
    "tags": []
   },
   "outputs": [],
   "source": [
    "one_hot_equipment = one_hot_equipment.rename(columns={'Equipment_Multi-ply': 'Multi-ply', \n",
    "                                                      'Equipment_Raw': 'Raw', \n",
    "                                                      'Equipment_Single-ply': 'Single-ply', \n",
    "                                                      'Equipment_Wraps': 'Wraps'})"
   ]
  },
  {
   "cell_type": "code",
   "execution_count": null,
   "id": "f2345822-cbff-4c84-8dc2-d35ca020e187",
   "metadata": {
    "tags": []
   },
   "outputs": [],
   "source": [
    "one_hot_equipment.head()"
   ]
  },
  {
   "cell_type": "code",
   "execution_count": null,
   "id": "2d2f12ef-384a-4dbb-bfd4-e962c3754a31",
   "metadata": {
    "tags": []
   },
   "outputs": [],
   "source": [
    "# new heatmap, this time with 'Equipment' one-hot encoded\n",
    "correlation = one_hot_equipment.corr()\n",
    "sns.heatmap(correlation, xticklabels=correlation.columns, yticklabels=correlation.columns, annot=True)\n",
    "plt.xticks(rotation=45)\n",
    "plt.show()"
   ]
  },
  {
   "cell_type": "code",
   "execution_count": null,
   "id": "5c9a477f-ce07-40f6-bf77-1a58c7471bff",
   "metadata": {},
   "outputs": [],
   "source": []
  }
 ],
 "metadata": {
  "kernelspec": {
   "display_name": "Python 3 (ipykernel)",
   "language": "python",
   "name": "python3"
  },
  "language_info": {
   "codemirror_mode": {
    "name": "ipython",
    "version": 3
   },
   "file_extension": ".py",
   "mimetype": "text/x-python",
   "name": "python",
   "nbconvert_exporter": "python",
   "pygments_lexer": "ipython3",
   "version": "3.11.5"
  }
 },
 "nbformat": 4,
 "nbformat_minor": 5
}
