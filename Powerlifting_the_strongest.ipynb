{
 "cells": [
  {
   "cell_type": "markdown",
   "id": "e454da57-225a-496b-8f13-0ee169f62af2",
   "metadata": {},
   "source": [
    "# u2001820 Powerlifting Project: Equipment & The Strongest Competitors\n",
    "---\n",
    "We aim to investigate the powerlifting dataset available on <a href=\"https://www.kaggle.com/datasets/open-powerlifting/powerlifting-database\">Kaggle</a>.\n",
    "\n",
    "This notebook is dedicated to exploring the impact of equipment on the weight lifted, as well as some brief analysis of the strongest lifters in the dataset."
   ]
  },
  {
   "cell_type": "code",
   "execution_count": 1,
   "id": "e4621c26-de2f-4ddd-a9b8-41a1f2e4ae12",
   "metadata": {
    "tags": []
   },
   "outputs": [],
   "source": [
    "# imports\n",
    "import pandas as pd\n",
    "import numpy as np\n",
    "from matplotlib import pyplot as plt\n",
    "import seaborn as sns"
   ]
  },
  {
   "cell_type": "code",
   "execution_count": 118,
   "id": "d9e5e804-28cb-4f11-b8fb-aa14e9cc3507",
   "metadata": {
    "tags": []
   },
   "outputs": [
    {
     "name": "stderr",
     "output_type": "stream",
     "text": [
      "C:\\Users\\asale\\AppData\\Local\\Temp\\ipykernel_9148\\2428485417.py:1: DtypeWarning: Columns (35) have mixed types. Specify dtype option on import or set low_memory=False.\n",
      "  df = pd.read_csv(\"cleaned_powerlifting.csv\")\n"
     ]
    }
   ],
   "source": [
    "df = pd.read_csv(\"cleaned_powerlifting.csv\")"
   ]
  },
  {
   "cell_type": "markdown",
   "id": "2952ed42-8fce-4003-8913-06bf1bffafcb",
   "metadata": {},
   "source": [
    "### Impact of equipment on lifts"
   ]
  },
  {
   "cell_type": "code",
   "execution_count": 119,
   "id": "2026e9d9-f1e6-411e-9587-0fb910a79afa",
   "metadata": {
    "tags": []
   },
   "outputs": [
    {
     "data": {
      "text/html": [
       "<div>\n",
       "<style scoped>\n",
       "    .dataframe tbody tr th:only-of-type {\n",
       "        vertical-align: middle;\n",
       "    }\n",
       "\n",
       "    .dataframe tbody tr th {\n",
       "        vertical-align: top;\n",
       "    }\n",
       "\n",
       "    .dataframe thead th {\n",
       "        text-align: right;\n",
       "    }\n",
       "</style>\n",
       "<table border=\"1\" class=\"dataframe\">\n",
       "  <thead>\n",
       "    <tr style=\"text-align: right;\">\n",
       "      <th></th>\n",
       "      <th>Name</th>\n",
       "      <th>Sex</th>\n",
       "      <th>Event</th>\n",
       "      <th>Equipment</th>\n",
       "      <th>Age</th>\n",
       "      <th>AgeClass</th>\n",
       "      <th>Division</th>\n",
       "      <th>BodyweightKg</th>\n",
       "      <th>WeightClassKg</th>\n",
       "      <th>Squat1Kg</th>\n",
       "      <th>...</th>\n",
       "      <th>McCulloch</th>\n",
       "      <th>Glossbrenner</th>\n",
       "      <th>IPFPoints</th>\n",
       "      <th>Tested</th>\n",
       "      <th>Country</th>\n",
       "      <th>Federation</th>\n",
       "      <th>Date</th>\n",
       "      <th>MeetCountry</th>\n",
       "      <th>MeetState</th>\n",
       "      <th>MeetName</th>\n",
       "    </tr>\n",
       "  </thead>\n",
       "  <tbody>\n",
       "    <tr>\n",
       "      <th>0</th>\n",
       "      <td>Abbie Murphy</td>\n",
       "      <td>F</td>\n",
       "      <td>SBD</td>\n",
       "      <td>Wraps</td>\n",
       "      <td>29.0</td>\n",
       "      <td>24-34</td>\n",
       "      <td>F-OR</td>\n",
       "      <td>59.8</td>\n",
       "      <td>60</td>\n",
       "      <td>80.0</td>\n",
       "      <td>...</td>\n",
       "      <td>324.16</td>\n",
       "      <td>286.42</td>\n",
       "      <td>511.15</td>\n",
       "      <td>NaN</td>\n",
       "      <td>NaN</td>\n",
       "      <td>GPC-AUS</td>\n",
       "      <td>2018-10-27</td>\n",
       "      <td>Australia</td>\n",
       "      <td>VIC</td>\n",
       "      <td>Melbourne Cup</td>\n",
       "    </tr>\n",
       "    <tr>\n",
       "      <th>1</th>\n",
       "      <td>Abbie Tuong</td>\n",
       "      <td>F</td>\n",
       "      <td>SBD</td>\n",
       "      <td>Wraps</td>\n",
       "      <td>29.0</td>\n",
       "      <td>24-34</td>\n",
       "      <td>F-OR</td>\n",
       "      <td>58.5</td>\n",
       "      <td>60</td>\n",
       "      <td>100.0</td>\n",
       "      <td>...</td>\n",
       "      <td>378.07</td>\n",
       "      <td>334.16</td>\n",
       "      <td>595.65</td>\n",
       "      <td>NaN</td>\n",
       "      <td>NaN</td>\n",
       "      <td>GPC-AUS</td>\n",
       "      <td>2018-10-27</td>\n",
       "      <td>Australia</td>\n",
       "      <td>VIC</td>\n",
       "      <td>Melbourne Cup</td>\n",
       "    </tr>\n",
       "    <tr>\n",
       "      <th>2</th>\n",
       "      <td>Amy Moldenhauer</td>\n",
       "      <td>F</td>\n",
       "      <td>SBD</td>\n",
       "      <td>Wraps</td>\n",
       "      <td>23.0</td>\n",
       "      <td>20-23</td>\n",
       "      <td>F-OR</td>\n",
       "      <td>60.0</td>\n",
       "      <td>60</td>\n",
       "      <td>-105.0</td>\n",
       "      <td>...</td>\n",
       "      <td>345.61</td>\n",
       "      <td>305.37</td>\n",
       "      <td>547.04</td>\n",
       "      <td>NaN</td>\n",
       "      <td>NaN</td>\n",
       "      <td>GPC-AUS</td>\n",
       "      <td>2018-10-27</td>\n",
       "      <td>Australia</td>\n",
       "      <td>VIC</td>\n",
       "      <td>Melbourne Cup</td>\n",
       "    </tr>\n",
       "    <tr>\n",
       "      <th>3</th>\n",
       "      <td>Andrea Rowan</td>\n",
       "      <td>F</td>\n",
       "      <td>SBD</td>\n",
       "      <td>Wraps</td>\n",
       "      <td>45.0</td>\n",
       "      <td>45-49</td>\n",
       "      <td>F-OR</td>\n",
       "      <td>104.0</td>\n",
       "      <td>110</td>\n",
       "      <td>120.0</td>\n",
       "      <td>...</td>\n",
       "      <td>338.91</td>\n",
       "      <td>274.56</td>\n",
       "      <td>550.08</td>\n",
       "      <td>NaN</td>\n",
       "      <td>NaN</td>\n",
       "      <td>GPC-AUS</td>\n",
       "      <td>2018-10-27</td>\n",
       "      <td>Australia</td>\n",
       "      <td>VIC</td>\n",
       "      <td>Melbourne Cup</td>\n",
       "    </tr>\n",
       "    <tr>\n",
       "      <th>4</th>\n",
       "      <td>April Alvarez</td>\n",
       "      <td>F</td>\n",
       "      <td>SBD</td>\n",
       "      <td>Wraps</td>\n",
       "      <td>37.0</td>\n",
       "      <td>35-39</td>\n",
       "      <td>F-OR</td>\n",
       "      <td>74.0</td>\n",
       "      <td>75</td>\n",
       "      <td>127.5</td>\n",
       "      <td>...</td>\n",
       "      <td>354.74</td>\n",
       "      <td>312.20</td>\n",
       "      <td>596.18</td>\n",
       "      <td>NaN</td>\n",
       "      <td>NaN</td>\n",
       "      <td>GPC-AUS</td>\n",
       "      <td>2018-10-27</td>\n",
       "      <td>Australia</td>\n",
       "      <td>VIC</td>\n",
       "      <td>Melbourne Cup</td>\n",
       "    </tr>\n",
       "  </tbody>\n",
       "</table>\n",
       "<p>5 rows × 37 columns</p>\n",
       "</div>"
      ],
      "text/plain": [
       "              Name Sex Event Equipment   Age AgeClass Division  BodyweightKg  \\\n",
       "0     Abbie Murphy   F   SBD     Wraps  29.0    24-34     F-OR          59.8   \n",
       "1      Abbie Tuong   F   SBD     Wraps  29.0    24-34     F-OR          58.5   \n",
       "2  Amy Moldenhauer   F   SBD     Wraps  23.0    20-23     F-OR          60.0   \n",
       "3     Andrea Rowan   F   SBD     Wraps  45.0    45-49     F-OR         104.0   \n",
       "4    April Alvarez   F   SBD     Wraps  37.0    35-39     F-OR          74.0   \n",
       "\n",
       "  WeightClassKg  Squat1Kg  ...  McCulloch  Glossbrenner  IPFPoints  Tested  \\\n",
       "0            60      80.0  ...     324.16        286.42     511.15     NaN   \n",
       "1            60     100.0  ...     378.07        334.16     595.65     NaN   \n",
       "2            60    -105.0  ...     345.61        305.37     547.04     NaN   \n",
       "3           110     120.0  ...     338.91        274.56     550.08     NaN   \n",
       "4            75     127.5  ...     354.74        312.20     596.18     NaN   \n",
       "\n",
       "   Country  Federation        Date  MeetCountry  MeetState       MeetName  \n",
       "0      NaN     GPC-AUS  2018-10-27    Australia        VIC  Melbourne Cup  \n",
       "1      NaN     GPC-AUS  2018-10-27    Australia        VIC  Melbourne Cup  \n",
       "2      NaN     GPC-AUS  2018-10-27    Australia        VIC  Melbourne Cup  \n",
       "3      NaN     GPC-AUS  2018-10-27    Australia        VIC  Melbourne Cup  \n",
       "4      NaN     GPC-AUS  2018-10-27    Australia        VIC  Melbourne Cup  \n",
       "\n",
       "[5 rows x 37 columns]"
      ]
     },
     "execution_count": 119,
     "metadata": {},
     "output_type": "execute_result"
    }
   ],
   "source": [
    "df.head()"
   ]
  },
  {
   "cell_type": "code",
   "execution_count": 120,
   "id": "6abbebb8-9e68-4c0a-9682-1209f58a9c6b",
   "metadata": {
    "tags": []
   },
   "outputs": [
    {
     "data": {
      "text/plain": [
       "Name                     0\n",
       "Sex                      0\n",
       "Event                    0\n",
       "Equipment                0\n",
       "Age                 562589\n",
       "AgeClass            544676\n",
       "Division              5890\n",
       "BodyweightKg             0\n",
       "WeightClassKg            0\n",
       "Squat1Kg            725671\n",
       "Squat2Kg            729771\n",
       "Squat3Kg            738995\n",
       "Squat4Kg           1055440\n",
       "Best3SquatKg         41909\n",
       "Bench1Kg            730531\n",
       "Bench2Kg            734369\n",
       "Bench3Kg            743806\n",
       "Bench4Kg           1055908\n",
       "Best3BenchKg         60555\n",
       "Deadlift1Kg         733202\n",
       "Deadlift2Kg         739732\n",
       "Deadlift3Kg         753660\n",
       "Deadlift4Kg        1053822\n",
       "Best3DeadliftKg      67596\n",
       "TotalKg              81228\n",
       "Place                    0\n",
       "Wilks                81228\n",
       "McCulloch            81318\n",
       "Glossbrenner         81228\n",
       "IPFPoints            82572\n",
       "Tested              197530\n",
       "Country             834245\n",
       "Federation               0\n",
       "Date                     0\n",
       "MeetCountry              0\n",
       "MeetState           275340\n",
       "MeetName                 0\n",
       "dtype: int64"
      ]
     },
     "execution_count": 120,
     "metadata": {},
     "output_type": "execute_result"
    }
   ],
   "source": [
    "df.isnull().sum()"
   ]
  },
  {
   "cell_type": "code",
   "execution_count": 121,
   "id": "1f88fcdf-ebc5-4159-8b5f-4b5d04640267",
   "metadata": {
    "tags": []
   },
   "outputs": [],
   "source": [
    "df_eq = df[['Name', 'Sex', 'Equipment', 'Age', 'AgeClass', 'BodyweightKg', 'WeightClassKg', \n",
    "            'Best3SquatKg', 'Best3BenchKg', 'Best3DeadliftKg', 'TotalKg', 'Place', 'Tested', 'Date']]"
   ]
  },
  {
   "cell_type": "code",
   "execution_count": 122,
   "id": "c709db88-41b5-4dd9-a4b3-35b7914a2786",
   "metadata": {
    "tags": []
   },
   "outputs": [
    {
     "data": {
      "text/plain": [
       "Name                    0\n",
       "Sex                     0\n",
       "Equipment               0\n",
       "Age                562589\n",
       "AgeClass           544676\n",
       "BodyweightKg            0\n",
       "WeightClassKg           0\n",
       "Best3SquatKg        41909\n",
       "Best3BenchKg        60555\n",
       "Best3DeadliftKg     67596\n",
       "TotalKg             81228\n",
       "Place                   0\n",
       "Tested             197530\n",
       "Date                    0\n",
       "dtype: int64"
      ]
     },
     "execution_count": 122,
     "metadata": {},
     "output_type": "execute_result"
    }
   ],
   "source": [
    "df_eq.isnull().sum()"
   ]
  },
  {
   "cell_type": "code",
   "execution_count": 123,
   "id": "5cdd4a10-824b-4e0d-b8bb-b129f62e0379",
   "metadata": {
    "tags": []
   },
   "outputs": [
    {
     "name": "stderr",
     "output_type": "stream",
     "text": [
      "C:\\Users\\asale\\AppData\\Local\\Temp\\ipykernel_9148\\2624274008.py:1: SettingWithCopyWarning: \n",
      "A value is trying to be set on a copy of a slice from a DataFrame\n",
      "\n",
      "See the caveats in the documentation: https://pandas.pydata.org/pandas-docs/stable/user_guide/indexing.html#returning-a-view-versus-a-copy\n",
      "  df_eq['Tested'].fillna('No', inplace = True)\n"
     ]
    }
   ],
   "source": [
    "df_eq['Tested'].fillna('No', inplace = True)"
   ]
  },
  {
   "cell_type": "code",
   "execution_count": 127,
   "id": "bc19100c-29af-42b0-b369-1b86e5251585",
   "metadata": {
    "tags": []
   },
   "outputs": [
    {
     "name": "stderr",
     "output_type": "stream",
     "text": [
      "C:\\Users\\asale\\AppData\\Local\\Temp\\ipykernel_9148\\1819932245.py:1: SettingWithCopyWarning: \n",
      "A value is trying to be set on a copy of a slice from a DataFrame\n",
      "\n",
      "See the caveats in the documentation: https://pandas.pydata.org/pandas-docs/stable/user_guide/indexing.html#returning-a-view-versus-a-copy\n",
      "  df_eq.dropna(inplace=True)\n"
     ]
    }
   ],
   "source": [
    "df_eq.dropna(inplace=True)"
   ]
  },
  {
   "cell_type": "code",
   "execution_count": 128,
   "id": "25805dac-a4f9-481b-9bea-ad91224c925d",
   "metadata": {
    "tags": []
   },
   "outputs": [
    {
     "data": {
      "text/plain": [
       "Name               0\n",
       "Sex                0\n",
       "Equipment          0\n",
       "Age                0\n",
       "AgeClass           0\n",
       "BodyweightKg       0\n",
       "WeightClassKg      0\n",
       "Best3SquatKg       0\n",
       "Best3BenchKg       0\n",
       "Best3DeadliftKg    0\n",
       "TotalKg            0\n",
       "Place              0\n",
       "Tested             0\n",
       "Date               0\n",
       "dtype: int64"
      ]
     },
     "execution_count": 128,
     "metadata": {},
     "output_type": "execute_result"
    }
   ],
   "source": [
    "df_eq.isnull().sum()"
   ]
  },
  {
   "cell_type": "code",
   "execution_count": 158,
   "id": "cef793cc-83c4-4f0f-8196-3ba46f09493f",
   "metadata": {
    "tags": []
   },
   "outputs": [
    {
     "data": {
      "image/png": "[encoded data removed]",
      "text/plain": [
       "<Figure size 1000x600 with 1 Axes>"
      ]
     },
     "metadata": {},
     "output_type": "display_data"
    }
   ],
   "source": [
    "plt.figure(figsize = (10, 6))\n",
    "sns.boxplot(x=df_eq['Equipment'], y = df_eq['TotalKg'], linewidth=.75, fliersize=.5)\n",
    "plt.xlabel(\"Equipment\", fontsize=12)\n",
    "plt.ylabel(\"Total Weight Lifted (kg)\", fontsize=12)\n",
    "plt.ylim(0,1400)\n",
    "plt.title(\"Weight Lifted by Equipment Used\", fontsize=14)\n",
    "plt.show()"
   ]
  },
  {
   "cell_type": "code",
   "execution_count": 169,
   "id": "c19968c3-39f6-404d-8115-e2eb429eb916",
   "metadata": {
    "tags": []
   },
   "outputs": [],
   "source": [
    "equipment = df_eq['Equipment'].unique().tolist()"
   ]
  },
  {
   "cell_type": "code",
   "execution_count": 174,
   "id": "12e2cd90-00d2-412b-8490-1fc4ecae7e5c",
   "metadata": {
    "tags": []
   },
   "outputs": [
    {
     "name": "stdout",
     "output_type": "stream",
     "text": [
      "The mean for the Wraps category is 542.5kg, with IQR 267.48kg.\n",
      "The mean for the Raw category is 467.5kg, with IQR 255.0kg.\n",
      "The mean for the Multi-ply category is 695.0kg, with IQR 297.5kg.\n",
      "The mean for the Single-ply category is 539.845kg, with IQR 282.5kg.\n"
     ]
    }
   ],
   "source": [
    "for item in equipment:\n",
    "    series = df_eq['TotalKg'][df_eq['Equipment'] == item]\n",
    "    q1 = series.quantile(0.25)\n",
    "    q3 = series.quantile(0.75)\n",
    "    IQR = q3 - q1    \n",
    "    print(f\"The mean for the {item} category is {series.quantile(0.5)}kg, with IQR {IQR}kg.\")"
   ]
  },
  {
   "cell_type": "markdown",
   "id": "a8daa37c-da92-4654-b794-6f3aa77ee066",
   "metadata": {},
   "source": [
    "We now investigate the relationship between the equipment used and the three individual lifts. Note that negative values correspond to failed lifts."
   ]
  },
  {
   "cell_type": "code",
   "execution_count": 209,
   "id": "a37e17bd-d8e9-457b-b3b0-1c14697de85a",
   "metadata": {
    "tags": []
   },
   "outputs": [
    {
     "data": {
      "image/png": "[encoded data removed]",
      "text/plain": [
       "<Figure size 1000x600 with 1 Axes>"
      ]
     },
     "metadata": {},
     "output_type": "display_data"
    }
   ],
   "source": [
    "plt.figure(figsize = (10, 6))\n",
    "sns.boxplot(x=df_eq['Equipment'], y = df_eq['Best3SquatKg'], linewidth=.75, fliersize=.5)\n",
    "plt.xlabel(\"Equipment\", fontsize=12)\n",
    "plt.ylabel(\"Squat (kg)\", fontsize=12)\n",
    "# plt.ylim(0,1400)\n",
    "plt.title(\"Weight Lifted by Equipment Used\", fontsize=14)\n",
    "plt.show()"
   ]
  },
  {
   "cell_type": "code",
   "execution_count": 210,
   "id": "ba4ba432-14c2-4135-8382-154073569579",
   "metadata": {
    "tags": []
   },
   "outputs": [
    {
     "data": {
      "image/png": "[encoded data removed]",
      "text/plain": [
       "<Figure size 1000x600 with 1 Axes>"
      ]
     },
     "metadata": {},
     "output_type": "display_data"
    }
   ],
   "source": [
    "plt.figure(figsize = (10, 6))\n",
    "sns.boxplot(x=df_eq['Equipment'], y = df_eq['Best3BenchKg'], linewidth=.75, fliersize=.5)\n",
    "plt.xlabel(\"Equipment\", fontsize=12)\n",
    "plt.ylabel(\"Bench (kg)\", fontsize=12)\n",
    "# plt.ylim(0,1400)\n",
    "plt.title(\"Weight Lifted by Equipment Used\", fontsize=14)\n",
    "plt.show()"
   ]
  },
  {
   "cell_type": "code",
   "execution_count": 211,
   "id": "2b10a1a9-3c91-4add-b76d-ef91c6578cb5",
   "metadata": {
    "tags": []
   },
   "outputs": [
    {
     "data": {
      "image/png": "[encoded data removed]",
      "text/plain": [
       "<Figure size 1000x600 with 1 Axes>"
      ]
     },
     "metadata": {},
     "output_type": "display_data"
    }
   ],
   "source": [
    "plt.figure(figsize = (10, 6))\n",
    "sns.boxplot(x=df_eq['Equipment'], y = df_eq['Best3DeadliftKg'], linewidth=.75, fliersize=.5)\n",
    "plt.xlabel(\"Equipment\", fontsize=12)\n",
    "plt.ylabel(\"Deadlift (kg)\", fontsize=12)\n",
    "# plt.ylim(0,1400)\n",
    "plt.title(\"Weight Lifted by Equipment Used\", fontsize=14)\n",
    "plt.show()"
   ]
  },
  {
   "cell_type": "markdown",
   "id": "ba57f13e-4f6f-40cd-a4a7-fc90f92982c7",
   "metadata": {
    "tags": []
   },
   "source": [
    "We now investigate how equipment use has evolved over time:"
   ]
  },
  {
   "cell_type": "code",
   "execution_count": 213,
   "id": "e81b2c59-03fb-40ae-839e-bde1158eb32a",
   "metadata": {
    "tags": []
   },
   "outputs": [
    {
     "name": "stderr",
     "output_type": "stream",
     "text": [
      "C:\\Users\\asale\\AppData\\Local\\Temp\\ipykernel_9148\\1710692497.py:1: SettingWithCopyWarning: \n",
      "A value is trying to be set on a copy of a slice from a DataFrame.\n",
      "Try using .loc[row_indexer,col_indexer] = value instead\n",
      "\n",
      "See the caveats in the documentation: https://pandas.pydata.org/pandas-docs/stable/user_guide/indexing.html#returning-a-view-versus-a-copy\n",
      "  df_eq['Date'] = pd.to_datetime(df_eq['Date'])\n"
     ]
    }
   ],
   "source": [
    "df_eq['Date'] = pd.to_datetime(df_eq['Date'])"
   ]
  },
  {
   "cell_type": "code",
   "execution_count": 215,
   "id": "e8db3a36-66b5-41b2-b66c-1699af6663e2",
   "metadata": {
    "tags": []
   },
   "outputs": [
    {
     "data": {
      "text/plain": [
       "pandas._libs.tslibs.timestamps.Timestamp"
      ]
     },
     "execution_count": 215,
     "metadata": {},
     "output_type": "execute_result"
    }
   ],
   "source": [
    "type(df_eq['Date'][0])"
   ]
  },
  {
   "cell_type": "code",
   "execution_count": 217,
   "id": "54be9373-03ce-43e5-bb68-b6f9543b30fa",
   "metadata": {
    "tags": []
   },
   "outputs": [
    {
     "name": "stderr",
     "output_type": "stream",
     "text": [
      "C:\\Users\\asale\\AppData\\Local\\Temp\\ipykernel_9148\\2924811379.py:1: SettingWithCopyWarning: \n",
      "A value is trying to be set on a copy of a slice from a DataFrame.\n",
      "Try using .loc[row_indexer,col_indexer] = value instead\n",
      "\n",
      "See the caveats in the documentation: https://pandas.pydata.org/pandas-docs/stable/user_guide/indexing.html#returning-a-view-versus-a-copy\n",
      "  df_eq['Year'] = df_eq['Date'].dt.year\n"
     ]
    }
   ],
   "source": [
    "df_eq['Year'] = df_eq['Date'].dt.year"
   ]
  },
  {
   "cell_type": "code",
   "execution_count": 218,
   "id": "db907df2-17fd-4d32-ba05-86f9c99ee19d",
   "metadata": {
    "tags": []
   },
   "outputs": [
    {
     "data": {
      "text/html": [
       "<div>\n",
       "<style scoped>\n",
       "    .dataframe tbody tr th:only-of-type {\n",
       "        vertical-align: middle;\n",
       "    }\n",
       "\n",
       "    .dataframe tbody tr th {\n",
       "        vertical-align: top;\n",
       "    }\n",
       "\n",
       "    .dataframe thead th {\n",
       "        text-align: right;\n",
       "    }\n",
       "</style>\n",
       "<table border=\"1\" class=\"dataframe\">\n",
       "  <thead>\n",
       "    <tr style=\"text-align: right;\">\n",
       "      <th></th>\n",
       "      <th>Name</th>\n",
       "      <th>Sex</th>\n",
       "      <th>Equipment</th>\n",
       "      <th>Age</th>\n",
       "      <th>AgeClass</th>\n",
       "      <th>BodyweightKg</th>\n",
       "      <th>WeightClassKg</th>\n",
       "      <th>Best3SquatKg</th>\n",
       "      <th>Best3BenchKg</th>\n",
       "      <th>Best3DeadliftKg</th>\n",
       "      <th>TotalKg</th>\n",
       "      <th>Place</th>\n",
       "      <th>Tested</th>\n",
       "      <th>Date</th>\n",
       "      <th>Year</th>\n",
       "    </tr>\n",
       "  </thead>\n",
       "  <tbody>\n",
       "    <tr>\n",
       "      <th>0</th>\n",
       "      <td>Abbie Murphy</td>\n",
       "      <td>F</td>\n",
       "      <td>Wraps</td>\n",
       "      <td>29.0</td>\n",
       "      <td>24-34</td>\n",
       "      <td>59.8</td>\n",
       "      <td>60</td>\n",
       "      <td>105.0</td>\n",
       "      <td>55.0</td>\n",
       "      <td>130.0</td>\n",
       "      <td>290.0</td>\n",
       "      <td>4</td>\n",
       "      <td>No</td>\n",
       "      <td>2018-10-27</td>\n",
       "      <td>2018</td>\n",
       "    </tr>\n",
       "    <tr>\n",
       "      <th>1</th>\n",
       "      <td>Abbie Tuong</td>\n",
       "      <td>F</td>\n",
       "      <td>Wraps</td>\n",
       "      <td>29.0</td>\n",
       "      <td>24-34</td>\n",
       "      <td>58.5</td>\n",
       "      <td>60</td>\n",
       "      <td>120.0</td>\n",
       "      <td>67.5</td>\n",
       "      <td>145.0</td>\n",
       "      <td>332.5</td>\n",
       "      <td>2</td>\n",
       "      <td>No</td>\n",
       "      <td>2018-10-27</td>\n",
       "      <td>2018</td>\n",
       "    </tr>\n",
       "    <tr>\n",
       "      <th>2</th>\n",
       "      <td>Amy Moldenhauer</td>\n",
       "      <td>F</td>\n",
       "      <td>Wraps</td>\n",
       "      <td>23.0</td>\n",
       "      <td>20-23</td>\n",
       "      <td>60.0</td>\n",
       "      <td>60</td>\n",
       "      <td>105.0</td>\n",
       "      <td>72.5</td>\n",
       "      <td>132.5</td>\n",
       "      <td>310.0</td>\n",
       "      <td>3</td>\n",
       "      <td>No</td>\n",
       "      <td>2018-10-27</td>\n",
       "      <td>2018</td>\n",
       "    </tr>\n",
       "    <tr>\n",
       "      <th>3</th>\n",
       "      <td>Andrea Rowan</td>\n",
       "      <td>F</td>\n",
       "      <td>Wraps</td>\n",
       "      <td>45.0</td>\n",
       "      <td>45-49</td>\n",
       "      <td>104.0</td>\n",
       "      <td>110</td>\n",
       "      <td>140.0</td>\n",
       "      <td>80.0</td>\n",
       "      <td>170.0</td>\n",
       "      <td>390.0</td>\n",
       "      <td>3</td>\n",
       "      <td>No</td>\n",
       "      <td>2018-10-27</td>\n",
       "      <td>2018</td>\n",
       "    </tr>\n",
       "    <tr>\n",
       "      <th>4</th>\n",
       "      <td>April Alvarez</td>\n",
       "      <td>F</td>\n",
       "      <td>Wraps</td>\n",
       "      <td>37.0</td>\n",
       "      <td>35-39</td>\n",
       "      <td>74.0</td>\n",
       "      <td>75</td>\n",
       "      <td>142.5</td>\n",
       "      <td>82.5</td>\n",
       "      <td>145.0</td>\n",
       "      <td>370.0</td>\n",
       "      <td>5</td>\n",
       "      <td>No</td>\n",
       "      <td>2018-10-27</td>\n",
       "      <td>2018</td>\n",
       "    </tr>\n",
       "  </tbody>\n",
       "</table>\n",
       "</div>"
      ],
      "text/plain": [
       "              Name Sex Equipment   Age AgeClass  BodyweightKg WeightClassKg  \\\n",
       "0     Abbie Murphy   F     Wraps  29.0    24-34          59.8            60   \n",
       "1      Abbie Tuong   F     Wraps  29.0    24-34          58.5            60   \n",
       "2  Amy Moldenhauer   F     Wraps  23.0    20-23          60.0            60   \n",
       "3     Andrea Rowan   F     Wraps  45.0    45-49         104.0           110   \n",
       "4    April Alvarez   F     Wraps  37.0    35-39          74.0            75   \n",
       "\n",
       "   Best3SquatKg  Best3BenchKg  Best3DeadliftKg  TotalKg Place Tested  \\\n",
       "0         105.0          55.0            130.0    290.0     4     No   \n",
       "1         120.0          67.5            145.0    332.5     2     No   \n",
       "2         105.0          72.5            132.5    310.0     3     No   \n",
       "3         140.0          80.0            170.0    390.0     3     No   \n",
       "4         142.5          82.5            145.0    370.0     5     No   \n",
       "\n",
       "        Date  Year  \n",
       "0 2018-10-27  2018  \n",
       "1 2018-10-27  2018  \n",
       "2 2018-10-27  2018  \n",
       "3 2018-10-27  2018  \n",
       "4 2018-10-27  2018  "
      ]
     },
     "execution_count": 218,
     "metadata": {},
     "output_type": "execute_result"
    }
   ],
   "source": [
    "df_eq.head()"
   ]
  },
  {
   "cell_type": "code",
   "execution_count": 254,
   "id": "4b640bfc-dc5a-4826-90d4-37568821a462",
   "metadata": {
    "tags": []
   },
   "outputs": [],
   "source": [
    "df_year = df_eq.groupby(['Year'])[['Best3SquatKg','Best3BenchKg',\n",
    "                       'Best3DeadliftKg','TotalKg','BodyweightKg']].max().reset_index()"
   ]
  },
  {
   "cell_type": "code",
   "execution_count": 255,
   "id": "b6d32908-4ae3-4911-8677-20ff3ae44401",
   "metadata": {
    "tags": []
   },
   "outputs": [
    {
     "data": {
      "text/html": [
       "<div>\n",
       "<style scoped>\n",
       "    .dataframe tbody tr th:only-of-type {\n",
       "        vertical-align: middle;\n",
       "    }\n",
       "\n",
       "    .dataframe tbody tr th {\n",
       "        vertical-align: top;\n",
       "    }\n",
       "\n",
       "    .dataframe thead th {\n",
       "        text-align: right;\n",
       "    }\n",
       "</style>\n",
       "<table border=\"1\" class=\"dataframe\">\n",
       "  <thead>\n",
       "    <tr style=\"text-align: right;\">\n",
       "      <th></th>\n",
       "      <th>Year</th>\n",
       "      <th>Best3SquatKg</th>\n",
       "      <th>Best3BenchKg</th>\n",
       "      <th>Best3DeadliftKg</th>\n",
       "      <th>TotalKg</th>\n",
       "      <th>BodyweightKg</th>\n",
       "    </tr>\n",
       "  </thead>\n",
       "  <tbody>\n",
       "    <tr>\n",
       "      <th>0</th>\n",
       "      <td>1964</td>\n",
       "      <td>272.16</td>\n",
       "      <td>213.19</td>\n",
       "      <td>322.05</td>\n",
       "      <td>807.40</td>\n",
       "      <td>143.79</td>\n",
       "    </tr>\n",
       "    <tr>\n",
       "      <th>1</th>\n",
       "      <td>1965</td>\n",
       "      <td>306.18</td>\n",
       "      <td>216.36</td>\n",
       "      <td>335.66</td>\n",
       "      <td>858.20</td>\n",
       "      <td>151.61</td>\n",
       "    </tr>\n",
       "    <tr>\n",
       "      <th>2</th>\n",
       "      <td>1966</td>\n",
       "      <td>294.84</td>\n",
       "      <td>204.12</td>\n",
       "      <td>326.59</td>\n",
       "      <td>825.54</td>\n",
       "      <td>129.73</td>\n",
       "    </tr>\n",
       "    <tr>\n",
       "      <th>3</th>\n",
       "      <td>1967</td>\n",
       "      <td>319.78</td>\n",
       "      <td>204.12</td>\n",
       "      <td>323.41</td>\n",
       "      <td>824.63</td>\n",
       "      <td>110.00</td>\n",
       "    </tr>\n",
       "    <tr>\n",
       "      <th>4</th>\n",
       "      <td>1968</td>\n",
       "      <td>322.05</td>\n",
       "      <td>217.72</td>\n",
       "      <td>328.40</td>\n",
       "      <td>861.37</td>\n",
       "      <td>110.00</td>\n",
       "    </tr>\n",
       "  </tbody>\n",
       "</table>\n",
       "</div>"
      ],
      "text/plain": [
       "   Year  Best3SquatKg  Best3BenchKg  Best3DeadliftKg  TotalKg  BodyweightKg\n",
       "0  1964        272.16        213.19           322.05   807.40        143.79\n",
       "1  1965        306.18        216.36           335.66   858.20        151.61\n",
       "2  1966        294.84        204.12           326.59   825.54        129.73\n",
       "3  1967        319.78        204.12           323.41   824.63        110.00\n",
       "4  1968        322.05        217.72           328.40   861.37        110.00"
      ]
     },
     "execution_count": 255,
     "metadata": {},
     "output_type": "execute_result"
    }
   ],
   "source": [
    "df_year.head()"
   ]
  },
  {
   "cell_type": "code",
   "execution_count": 256,
   "id": "a459a0f8-dc89-42b5-b029-a7c5263fc912",
   "metadata": {
    "tags": []
   },
   "outputs": [
    {
     "data": {
      "text/plain": [
       "array([1964, 1965, 1966, 1967, 1968, 1969, 1970, 1971, 1972, 1973, 1974,\n",
       "       1975, 1976, 1977, 1978, 1979, 1980, 1981, 1982, 1983, 1984, 1985,\n",
       "       1986, 1987, 1988, 1989, 1990, 1991, 1992, 1993, 1994, 1995, 1996,\n",
       "       1997, 1998, 1999, 2000, 2001, 2002, 2003, 2004, 2005, 2006, 2007,\n",
       "       2008, 2009, 2010, 2011, 2012, 2013, 2014, 2015, 2016, 2017, 2018,\n",
       "       2019])"
      ]
     },
     "execution_count": 256,
     "metadata": {},
     "output_type": "execute_result"
    }
   ],
   "source": [
    "df_year['Year'].unique()"
   ]
  },
  {
   "cell_type": "code",
   "execution_count": 257,
   "id": "ddfd5c17-e2bf-447f-9fac-ad7460d37c9f",
   "metadata": {
    "tags": []
   },
   "outputs": [
    {
     "data": {
      "image/png": "[encoded data removed]",
      "text/plain": [
       "<Figure size 640x480 with 1 Axes>"
      ]
     },
     "metadata": {},
     "output_type": "display_data"
    }
   ],
   "source": [
    "sns.lineplot(x = df_year['Year'], y = df_year['Best3SquatKg'], label='Squat')\n",
    "sns.lineplot(x = df_year['Year'], y = df_year['Best3BenchKg'], label='Bench')\n",
    "sns.lineplot(x = df_year['Year'], y = df_year['Best3DeadliftKg'], label='Deadlift')\n",
    "plt.legend()\n",
    "plt.xlabel('Year')\n",
    "plt.ylabel('Weight lifted (kg)')\n",
    "plt.show()"
   ]
  },
  {
   "cell_type": "code",
   "execution_count": 248,
   "id": "e63832c1-674d-4892-8cd7-2d4fa7e808fd",
   "metadata": {
    "tags": []
   },
   "outputs": [
    {
     "data": {
      "text/plain": [
       "<Axes: xlabel='Year', ylabel='TotalKg'>"
      ]
     },
     "execution_count": 248,
     "metadata": {},
     "output_type": "execute_result"
    },
    {
     "data": {
      "image/png": "[encoded data removed]",
      "text/plain": [
       "<Figure size 640x480 with 1 Axes>"
      ]
     },
     "metadata": {},
     "output_type": "display_data"
    }
   ],
   "source": [
    "sns.lineplot(x = df_year['Year'], y = df_year['TotalKg'])"
   ]
  },
  {
   "cell_type": "markdown",
   "id": "3b5c7cc7-7205-4c52-87ec-e01b3172fea9",
   "metadata": {},
   "source": [
    "The above time series were produced using the max lift values of each year. If you use the mean values instead, each time series ends up decreasing on average. This is because powerlifting is far more popular now than in the previous century, meaning more data to average over in recent decades, hence modern averages decreasing far more as opposed to the 1970s, 80s, etc."
   ]
  },
  {
   "cell_type": "markdown",
   "id": "9f2dabe5-9c9d-4778-81a7-4e973ffb046d",
   "metadata": {},
   "source": [
    "Next, we observe the results of a correlation matrix"
   ]
  },
  {
   "cell_type": "code",
   "execution_count": 199,
   "id": "9062192c-a7ce-4550-9cef-23bd545be1d0",
   "metadata": {
    "tags": []
   },
   "outputs": [],
   "source": [
    "df_onehot = pd.get_dummies(df_eq, columns=['Equipment'])"
   ]
  },
  {
   "cell_type": "code",
   "execution_count": 200,
   "id": "63be991c-16e3-4dde-ab24-f0c0947e1a90",
   "metadata": {
    "tags": []
   },
   "outputs": [],
   "source": [
    "df_onehot = df_onehot.rename(columns={'Equipment_Multi-ply': 'Multi-ply', \n",
    "                                                      'Equipment_Raw': 'Raw', \n",
    "                                                      'Equipment_Single-ply': 'Single-ply', \n",
    "                                                      'Equipment_Wraps': 'Wraps'})"
   ]
  },
  {
   "cell_type": "code",
   "execution_count": 201,
   "id": "551505ac-5b61-4cd7-af43-11f361e30583",
   "metadata": {
    "tags": []
   },
   "outputs": [
    {
     "data": {
      "text/html": [
       "<div>\n",
       "<style scoped>\n",
       "    .dataframe tbody tr th:only-of-type {\n",
       "        vertical-align: middle;\n",
       "    }\n",
       "\n",
       "    .dataframe tbody tr th {\n",
       "        vertical-align: top;\n",
       "    }\n",
       "\n",
       "    .dataframe thead th {\n",
       "        text-align: right;\n",
       "    }\n",
       "</style>\n",
       "<table border=\"1\" class=\"dataframe\">\n",
       "  <thead>\n",
       "    <tr style=\"text-align: right;\">\n",
       "      <th></th>\n",
       "      <th>Name</th>\n",
       "      <th>Sex</th>\n",
       "      <th>Age</th>\n",
       "      <th>AgeClass</th>\n",
       "      <th>BodyweightKg</th>\n",
       "      <th>WeightClassKg</th>\n",
       "      <th>Best3SquatKg</th>\n",
       "      <th>Best3BenchKg</th>\n",
       "      <th>Best3DeadliftKg</th>\n",
       "      <th>TotalKg</th>\n",
       "      <th>Place</th>\n",
       "      <th>Tested</th>\n",
       "      <th>Date</th>\n",
       "      <th>Multi-ply</th>\n",
       "      <th>Raw</th>\n",
       "      <th>Single-ply</th>\n",
       "      <th>Wraps</th>\n",
       "    </tr>\n",
       "  </thead>\n",
       "  <tbody>\n",
       "    <tr>\n",
       "      <th>0</th>\n",
       "      <td>Abbie Murphy</td>\n",
       "      <td>F</td>\n",
       "      <td>29.0</td>\n",
       "      <td>24-34</td>\n",
       "      <td>59.8</td>\n",
       "      <td>60</td>\n",
       "      <td>105.0</td>\n",
       "      <td>55.0</td>\n",
       "      <td>130.0</td>\n",
       "      <td>290.0</td>\n",
       "      <td>4</td>\n",
       "      <td>No</td>\n",
       "      <td>2018-10-27</td>\n",
       "      <td>False</td>\n",
       "      <td>False</td>\n",
       "      <td>False</td>\n",
       "      <td>True</td>\n",
       "    </tr>\n",
       "    <tr>\n",
       "      <th>1</th>\n",
       "      <td>Abbie Tuong</td>\n",
       "      <td>F</td>\n",
       "      <td>29.0</td>\n",
       "      <td>24-34</td>\n",
       "      <td>58.5</td>\n",
       "      <td>60</td>\n",
       "      <td>120.0</td>\n",
       "      <td>67.5</td>\n",
       "      <td>145.0</td>\n",
       "      <td>332.5</td>\n",
       "      <td>2</td>\n",
       "      <td>No</td>\n",
       "      <td>2018-10-27</td>\n",
       "      <td>False</td>\n",
       "      <td>False</td>\n",
       "      <td>False</td>\n",
       "      <td>True</td>\n",
       "    </tr>\n",
       "    <tr>\n",
       "      <th>2</th>\n",
       "      <td>Amy Moldenhauer</td>\n",
       "      <td>F</td>\n",
       "      <td>23.0</td>\n",
       "      <td>20-23</td>\n",
       "      <td>60.0</td>\n",
       "      <td>60</td>\n",
       "      <td>105.0</td>\n",
       "      <td>72.5</td>\n",
       "      <td>132.5</td>\n",
       "      <td>310.0</td>\n",
       "      <td>3</td>\n",
       "      <td>No</td>\n",
       "      <td>2018-10-27</td>\n",
       "      <td>False</td>\n",
       "      <td>False</td>\n",
       "      <td>False</td>\n",
       "      <td>True</td>\n",
       "    </tr>\n",
       "    <tr>\n",
       "      <th>3</th>\n",
       "      <td>Andrea Rowan</td>\n",
       "      <td>F</td>\n",
       "      <td>45.0</td>\n",
       "      <td>45-49</td>\n",
       "      <td>104.0</td>\n",
       "      <td>110</td>\n",
       "      <td>140.0</td>\n",
       "      <td>80.0</td>\n",
       "      <td>170.0</td>\n",
       "      <td>390.0</td>\n",
       "      <td>3</td>\n",
       "      <td>No</td>\n",
       "      <td>2018-10-27</td>\n",
       "      <td>False</td>\n",
       "      <td>False</td>\n",
       "      <td>False</td>\n",
       "      <td>True</td>\n",
       "    </tr>\n",
       "    <tr>\n",
       "      <th>4</th>\n",
       "      <td>April Alvarez</td>\n",
       "      <td>F</td>\n",
       "      <td>37.0</td>\n",
       "      <td>35-39</td>\n",
       "      <td>74.0</td>\n",
       "      <td>75</td>\n",
       "      <td>142.5</td>\n",
       "      <td>82.5</td>\n",
       "      <td>145.0</td>\n",
       "      <td>370.0</td>\n",
       "      <td>5</td>\n",
       "      <td>No</td>\n",
       "      <td>2018-10-27</td>\n",
       "      <td>False</td>\n",
       "      <td>False</td>\n",
       "      <td>False</td>\n",
       "      <td>True</td>\n",
       "    </tr>\n",
       "  </tbody>\n",
       "</table>\n",
       "</div>"
      ],
      "text/plain": [
       "              Name Sex   Age AgeClass  BodyweightKg WeightClassKg  \\\n",
       "0     Abbie Murphy   F  29.0    24-34          59.8            60   \n",
       "1      Abbie Tuong   F  29.0    24-34          58.5            60   \n",
       "2  Amy Moldenhauer   F  23.0    20-23          60.0            60   \n",
       "3     Andrea Rowan   F  45.0    45-49         104.0           110   \n",
       "4    April Alvarez   F  37.0    35-39          74.0            75   \n",
       "\n",
       "   Best3SquatKg  Best3BenchKg  Best3DeadliftKg  TotalKg Place Tested  \\\n",
       "0         105.0          55.0            130.0    290.0     4     No   \n",
       "1         120.0          67.5            145.0    332.5     2     No   \n",
       "2         105.0          72.5            132.5    310.0     3     No   \n",
       "3         140.0          80.0            170.0    390.0     3     No   \n",
       "4         142.5          82.5            145.0    370.0     5     No   \n",
       "\n",
       "         Date  Multi-ply    Raw  Single-ply  Wraps  \n",
       "0  2018-10-27      False  False       False   True  \n",
       "1  2018-10-27      False  False       False   True  \n",
       "2  2018-10-27      False  False       False   True  \n",
       "3  2018-10-27      False  False       False   True  \n",
       "4  2018-10-27      False  False       False   True  "
      ]
     },
     "execution_count": 201,
     "metadata": {},
     "output_type": "execute_result"
    }
   ],
   "source": [
    "df_onehot.head()"
   ]
  },
  {
   "cell_type": "code",
   "execution_count": 202,
   "id": "d763ff75-a681-40ee-bfd2-45514a69b499",
   "metadata": {
    "tags": []
   },
   "outputs": [],
   "source": [
    "df_onehot = df_onehot.drop(columns=['Name', 'Sex', 'Age', 'AgeClass', 'BodyweightKg', 'WeightClassKg', 'Place', 'Tested', 'Date'])"
   ]
  },
  {
   "cell_type": "code",
   "execution_count": 203,
   "id": "bb6a9059-2350-4556-b38e-14e53b35070e",
   "metadata": {
    "tags": []
   },
   "outputs": [
    {
     "data": {
      "text/html": [
       "<div>\n",
       "<style scoped>\n",
       "    .dataframe tbody tr th:only-of-type {\n",
       "        vertical-align: middle;\n",
       "    }\n",
       "\n",
       "    .dataframe tbody tr th {\n",
       "        vertical-align: top;\n",
       "    }\n",
       "\n",
       "    .dataframe thead th {\n",
       "        text-align: right;\n",
       "    }\n",
       "</style>\n",
       "<table border=\"1\" class=\"dataframe\">\n",
       "  <thead>\n",
       "    <tr style=\"text-align: right;\">\n",
       "      <th></th>\n",
       "      <th>Best3SquatKg</th>\n",
       "      <th>Best3BenchKg</th>\n",
       "      <th>Best3DeadliftKg</th>\n",
       "      <th>TotalKg</th>\n",
       "      <th>Multi-ply</th>\n",
       "      <th>Raw</th>\n",
       "      <th>Single-ply</th>\n",
       "      <th>Wraps</th>\n",
       "    </tr>\n",
       "  </thead>\n",
       "  <tbody>\n",
       "    <tr>\n",
       "      <th>0</th>\n",
       "      <td>105.0</td>\n",
       "      <td>55.0</td>\n",
       "      <td>130.0</td>\n",
       "      <td>290.0</td>\n",
       "      <td>False</td>\n",
       "      <td>False</td>\n",
       "      <td>False</td>\n",
       "      <td>True</td>\n",
       "    </tr>\n",
       "    <tr>\n",
       "      <th>1</th>\n",
       "      <td>120.0</td>\n",
       "      <td>67.5</td>\n",
       "      <td>145.0</td>\n",
       "      <td>332.5</td>\n",
       "      <td>False</td>\n",
       "      <td>False</td>\n",
       "      <td>False</td>\n",
       "      <td>True</td>\n",
       "    </tr>\n",
       "    <tr>\n",
       "      <th>2</th>\n",
       "      <td>105.0</td>\n",
       "      <td>72.5</td>\n",
       "      <td>132.5</td>\n",
       "      <td>310.0</td>\n",
       "      <td>False</td>\n",
       "      <td>False</td>\n",
       "      <td>False</td>\n",
       "      <td>True</td>\n",
       "    </tr>\n",
       "    <tr>\n",
       "      <th>3</th>\n",
       "      <td>140.0</td>\n",
       "      <td>80.0</td>\n",
       "      <td>170.0</td>\n",
       "      <td>390.0</td>\n",
       "      <td>False</td>\n",
       "      <td>False</td>\n",
       "      <td>False</td>\n",
       "      <td>True</td>\n",
       "    </tr>\n",
       "    <tr>\n",
       "      <th>4</th>\n",
       "      <td>142.5</td>\n",
       "      <td>82.5</td>\n",
       "      <td>145.0</td>\n",
       "      <td>370.0</td>\n",
       "      <td>False</td>\n",
       "      <td>False</td>\n",
       "      <td>False</td>\n",
       "      <td>True</td>\n",
       "    </tr>\n",
       "  </tbody>\n",
       "</table>\n",
       "</div>"
      ],
      "text/plain": [
       "   Best3SquatKg  Best3BenchKg  Best3DeadliftKg  TotalKg  Multi-ply    Raw  \\\n",
       "0         105.0          55.0            130.0    290.0      False  False   \n",
       "1         120.0          67.5            145.0    332.5      False  False   \n",
       "2         105.0          72.5            132.5    310.0      False  False   \n",
       "3         140.0          80.0            170.0    390.0      False  False   \n",
       "4         142.5          82.5            145.0    370.0      False  False   \n",
       "\n",
       "   Single-ply  Wraps  \n",
       "0       False   True  \n",
       "1       False   True  \n",
       "2       False   True  \n",
       "3       False   True  \n",
       "4       False   True  "
      ]
     },
     "execution_count": 203,
     "metadata": {},
     "output_type": "execute_result"
    }
   ],
   "source": [
    "df_onehot.head()"
   ]
  },
  {
   "cell_type": "code",
   "execution_count": 206,
   "id": "d8bf8235-7415-4ff3-b3bb-66d8e7e940bf",
   "metadata": {
    "tags": []
   },
   "outputs": [
    {
     "data": {
      "image/png": "[encoded data removed]",
      "text/plain": [
       "<Figure size 640x480 with 2 Axes>"
      ]
     },
     "metadata": {},
     "output_type": "display_data"
    }
   ],
   "source": [
    "correlation = df_onehot.corr()\n",
    "\n",
    "# # Create a mask for the upper triangle\n",
    "# mask = np.triu(np.ones_like(correlation, dtype=bool))\n",
    "# sns.heatmap(correlation, mask=mask, xticklabels=correlation.columns, yticklabels=correlation.columns, annot=True)\n",
    "sns.heatmap(correlation, xticklabels=correlation.columns, yticklabels=correlation.columns, annot=True)\n",
    "plt.xticks(rotation=45)\n",
    "plt.show()"
   ]
  },
  {
   "cell_type": "markdown",
   "id": "db8b826f-9f33-4ed0-baa1-a997f88c61ed",
   "metadata": {},
   "source": [
    "### The strongest competitors"
   ]
  },
  {
   "cell_type": "markdown",
   "id": "75f494d1-f16a-4047-9bb0-f4b9476f5d67",
   "metadata": {},
   "source": [
    "In the following, we only consider competitors lifting without any equipment:"
   ]
  },
  {
   "cell_type": "code",
   "execution_count": 30,
   "id": "f2a685c1-cb3a-4f0c-b9dc-ab90544a3ac5",
   "metadata": {
    "tags": []
   },
   "outputs": [
    {
     "data": {
      "text/html": [
       "<div>\n",
       "<style scoped>\n",
       "    .dataframe tbody tr th:only-of-type {\n",
       "        vertical-align: middle;\n",
       "    }\n",
       "\n",
       "    .dataframe tbody tr th {\n",
       "        vertical-align: top;\n",
       "    }\n",
       "\n",
       "    .dataframe thead th {\n",
       "        text-align: right;\n",
       "    }\n",
       "</style>\n",
       "<table border=\"1\" class=\"dataframe\">\n",
       "  <thead>\n",
       "    <tr style=\"text-align: right;\">\n",
       "      <th></th>\n",
       "      <th>Name</th>\n",
       "      <th>Sex</th>\n",
       "      <th>Event</th>\n",
       "      <th>Equipment</th>\n",
       "      <th>Age</th>\n",
       "      <th>AgeClass</th>\n",
       "      <th>Division</th>\n",
       "      <th>BodyweightKg</th>\n",
       "      <th>WeightClassKg</th>\n",
       "      <th>Squat1Kg</th>\n",
       "      <th>...</th>\n",
       "      <th>McCulloch</th>\n",
       "      <th>Glossbrenner</th>\n",
       "      <th>IPFPoints</th>\n",
       "      <th>Tested</th>\n",
       "      <th>Country</th>\n",
       "      <th>Federation</th>\n",
       "      <th>Date</th>\n",
       "      <th>MeetCountry</th>\n",
       "      <th>MeetState</th>\n",
       "      <th>MeetName</th>\n",
       "    </tr>\n",
       "  </thead>\n",
       "  <tbody>\n",
       "    <tr>\n",
       "      <th>10</th>\n",
       "      <td>Christina Tsatsoulis</td>\n",
       "      <td>F</td>\n",
       "      <td>SBD</td>\n",
       "      <td>Raw</td>\n",
       "      <td>27.0</td>\n",
       "      <td>24-34</td>\n",
       "      <td>F-OR</td>\n",
       "      <td>102.0</td>\n",
       "      <td>110</td>\n",
       "      <td>135.0</td>\n",
       "      <td>...</td>\n",
       "      <td>333.24</td>\n",
       "      <td>285.55</td>\n",
       "      <td>571.03</td>\n",
       "      <td>NaN</td>\n",
       "      <td>NaN</td>\n",
       "      <td>GPC-AUS</td>\n",
       "      <td>2018-10-27</td>\n",
       "      <td>Australia</td>\n",
       "      <td>VIC</td>\n",
       "      <td>Melbourne Cup</td>\n",
       "    </tr>\n",
       "    <tr>\n",
       "      <th>13</th>\n",
       "      <td>Elizabeth Ciortuz</td>\n",
       "      <td>F</td>\n",
       "      <td>SBD</td>\n",
       "      <td>Raw</td>\n",
       "      <td>19.0</td>\n",
       "      <td>18-19</td>\n",
       "      <td>F-OR</td>\n",
       "      <td>72.7</td>\n",
       "      <td>75</td>\n",
       "      <td>95.0</td>\n",
       "      <td>...</td>\n",
       "      <td>302.58</td>\n",
       "      <td>256.21</td>\n",
       "      <td>486.30</td>\n",
       "      <td>NaN</td>\n",
       "      <td>NaN</td>\n",
       "      <td>GPC-AUS</td>\n",
       "      <td>2018-10-27</td>\n",
       "      <td>Australia</td>\n",
       "      <td>VIC</td>\n",
       "      <td>Melbourne Cup</td>\n",
       "    </tr>\n",
       "    <tr>\n",
       "      <th>18</th>\n",
       "      <td>Jasmine Hoare</td>\n",
       "      <td>F</td>\n",
       "      <td>SBD</td>\n",
       "      <td>Raw</td>\n",
       "      <td>31.0</td>\n",
       "      <td>24-34</td>\n",
       "      <td>F-OR</td>\n",
       "      <td>77.7</td>\n",
       "      <td>82.5</td>\n",
       "      <td>130.0</td>\n",
       "      <td>...</td>\n",
       "      <td>353.56</td>\n",
       "      <td>310.54</td>\n",
       "      <td>599.76</td>\n",
       "      <td>NaN</td>\n",
       "      <td>NaN</td>\n",
       "      <td>GPC-AUS</td>\n",
       "      <td>2018-10-27</td>\n",
       "      <td>Australia</td>\n",
       "      <td>VIC</td>\n",
       "      <td>Melbourne Cup</td>\n",
       "    </tr>\n",
       "    <tr>\n",
       "      <th>20</th>\n",
       "      <td>Joelle Savgy</td>\n",
       "      <td>F</td>\n",
       "      <td>SBD</td>\n",
       "      <td>Raw</td>\n",
       "      <td>29.0</td>\n",
       "      <td>24-34</td>\n",
       "      <td>F-OR</td>\n",
       "      <td>72.1</td>\n",
       "      <td>75</td>\n",
       "      <td>90.0</td>\n",
       "      <td>...</td>\n",
       "      <td>294.98</td>\n",
       "      <td>259.82</td>\n",
       "      <td>492.05</td>\n",
       "      <td>NaN</td>\n",
       "      <td>NaN</td>\n",
       "      <td>GPC-AUS</td>\n",
       "      <td>2018-10-27</td>\n",
       "      <td>Australia</td>\n",
       "      <td>VIC</td>\n",
       "      <td>Melbourne Cup</td>\n",
       "    </tr>\n",
       "    <tr>\n",
       "      <th>30</th>\n",
       "      <td>Nicole Brown</td>\n",
       "      <td>F</td>\n",
       "      <td>SBD</td>\n",
       "      <td>Raw</td>\n",
       "      <td>28.0</td>\n",
       "      <td>24-34</td>\n",
       "      <td>F-OR</td>\n",
       "      <td>57.7</td>\n",
       "      <td>60</td>\n",
       "      <td>82.5</td>\n",
       "      <td>...</td>\n",
       "      <td>284.47</td>\n",
       "      <td>251.48</td>\n",
       "      <td>439.90</td>\n",
       "      <td>NaN</td>\n",
       "      <td>NaN</td>\n",
       "      <td>GPC-AUS</td>\n",
       "      <td>2018-10-27</td>\n",
       "      <td>Australia</td>\n",
       "      <td>VIC</td>\n",
       "      <td>Melbourne Cup</td>\n",
       "    </tr>\n",
       "  </tbody>\n",
       "</table>\n",
       "<p>5 rows × 37 columns</p>\n",
       "</div>"
      ],
      "text/plain": [
       "                    Name Sex Event Equipment   Age AgeClass Division  \\\n",
       "10  Christina Tsatsoulis   F   SBD       Raw  27.0    24-34     F-OR   \n",
       "13     Elizabeth Ciortuz   F   SBD       Raw  19.0    18-19     F-OR   \n",
       "18         Jasmine Hoare   F   SBD       Raw  31.0    24-34     F-OR   \n",
       "20          Joelle Savgy   F   SBD       Raw  29.0    24-34     F-OR   \n",
       "30          Nicole Brown   F   SBD       Raw  28.0    24-34     F-OR   \n",
       "\n",
       "    BodyweightKg WeightClassKg  Squat1Kg  ...  McCulloch  Glossbrenner  \\\n",
       "10         102.0           110     135.0  ...     333.24        285.55   \n",
       "13          72.7            75      95.0  ...     302.58        256.21   \n",
       "18          77.7          82.5     130.0  ...     353.56        310.54   \n",
       "20          72.1            75      90.0  ...     294.98        259.82   \n",
       "30          57.7            60      82.5  ...     284.47        251.48   \n",
       "\n",
       "    IPFPoints  Tested  Country  Federation        Date  MeetCountry  \\\n",
       "10     571.03     NaN      NaN     GPC-AUS  2018-10-27    Australia   \n",
       "13     486.30     NaN      NaN     GPC-AUS  2018-10-27    Australia   \n",
       "18     599.76     NaN      NaN     GPC-AUS  2018-10-27    Australia   \n",
       "20     492.05     NaN      NaN     GPC-AUS  2018-10-27    Australia   \n",
       "30     439.90     NaN      NaN     GPC-AUS  2018-10-27    Australia   \n",
       "\n",
       "    MeetState       MeetName  \n",
       "10        VIC  Melbourne Cup  \n",
       "13        VIC  Melbourne Cup  \n",
       "18        VIC  Melbourne Cup  \n",
       "20        VIC  Melbourne Cup  \n",
       "30        VIC  Melbourne Cup  \n",
       "\n",
       "[5 rows x 37 columns]"
      ]
     },
     "execution_count": 30,
     "metadata": {},
     "output_type": "execute_result"
    }
   ],
   "source": [
    "df_new = df[df['Equipment'] == 'Raw']\n",
    "\n",
    "df_new.head()"
   ]
  },
  {
   "cell_type": "code",
   "execution_count": 31,
   "id": "e23e0ac0-f6ac-4a73-a603-b85fff0f01ea",
   "metadata": {
    "tags": []
   },
   "outputs": [
    {
     "data": {
      "text/plain": [
       "280202"
      ]
     },
     "execution_count": 31,
     "metadata": {},
     "output_type": "execute_result"
    }
   ],
   "source": [
    "len(df_new)"
   ]
  },
  {
   "cell_type": "code",
   "execution_count": 32,
   "id": "68559ba7-26e0-4b65-a96d-e4aa383369a9",
   "metadata": {
    "tags": []
   },
   "outputs": [
    {
     "data": {
      "text/plain": [
       "121434"
      ]
     },
     "execution_count": 32,
     "metadata": {},
     "output_type": "execute_result"
    }
   ],
   "source": [
    "df_new['Name'].nunique()"
   ]
  },
  {
   "cell_type": "markdown",
   "id": "b1a81b5f-36cd-42db-99f6-18f6b43cc70f",
   "metadata": {},
   "source": [
    "Many competitors have entered multiple powerlifting competitions. We only wish to consider the best performance of each competitor, so we aggregate weights lifted by taking the maximum across each person's competition performances rather than the average value."
   ]
  },
  {
   "cell_type": "code",
   "execution_count": 33,
   "id": "05baa9e7-df4b-4d4e-b374-f0ae2346c89b",
   "metadata": {
    "tags": []
   },
   "outputs": [],
   "source": [
    "df_agg = df_new.groupby(['Name','Sex',])[['Best3SquatKg','Best3BenchKg',\n",
    "                       'Best3DeadliftKg','TotalKg','BodyweightKg']].max().reset_index()"
   ]
  },
  {
   "cell_type": "code",
   "execution_count": 34,
   "id": "0d724495-651a-4df0-92ea-da774edbb90b",
   "metadata": {
    "tags": []
   },
   "outputs": [
    {
     "data": {
      "text/html": [
       "<div>\n",
       "<style scoped>\n",
       "    .dataframe tbody tr th:only-of-type {\n",
       "        vertical-align: middle;\n",
       "    }\n",
       "\n",
       "    .dataframe tbody tr th {\n",
       "        vertical-align: top;\n",
       "    }\n",
       "\n",
       "    .dataframe thead th {\n",
       "        text-align: right;\n",
       "    }\n",
       "</style>\n",
       "<table border=\"1\" class=\"dataframe\">\n",
       "  <thead>\n",
       "    <tr style=\"text-align: right;\">\n",
       "      <th></th>\n",
       "      <th>Name</th>\n",
       "      <th>Sex</th>\n",
       "      <th>Best3SquatKg</th>\n",
       "      <th>Best3BenchKg</th>\n",
       "      <th>Best3DeadliftKg</th>\n",
       "      <th>TotalKg</th>\n",
       "      <th>BodyweightKg</th>\n",
       "    </tr>\n",
       "  </thead>\n",
       "  <tbody>\n",
       "    <tr>\n",
       "      <th>0</th>\n",
       "      <td>A Ajeesha</td>\n",
       "      <td>F</td>\n",
       "      <td>112.5</td>\n",
       "      <td>55.0</td>\n",
       "      <td>132.5</td>\n",
       "      <td>300.0</td>\n",
       "      <td>71.1</td>\n",
       "    </tr>\n",
       "    <tr>\n",
       "      <th>1</th>\n",
       "      <td>A Jay Montanez</td>\n",
       "      <td>M</td>\n",
       "      <td>225.0</td>\n",
       "      <td>165.0</td>\n",
       "      <td>270.0</td>\n",
       "      <td>660.0</td>\n",
       "      <td>123.9</td>\n",
       "    </tr>\n",
       "    <tr>\n",
       "      <th>2</th>\n",
       "      <td>A Kashirin</td>\n",
       "      <td>M</td>\n",
       "      <td>NaN</td>\n",
       "      <td>145.0</td>\n",
       "      <td>NaN</td>\n",
       "      <td>NaN</td>\n",
       "      <td>73.5</td>\n",
       "    </tr>\n",
       "    <tr>\n",
       "      <th>3</th>\n",
       "      <td>A Sazanov</td>\n",
       "      <td>M</td>\n",
       "      <td>120.0</td>\n",
       "      <td>77.5</td>\n",
       "      <td>135.0</td>\n",
       "      <td>332.5</td>\n",
       "      <td>58.4</td>\n",
       "    </tr>\n",
       "    <tr>\n",
       "      <th>4</th>\n",
       "      <td>A Yang</td>\n",
       "      <td>M</td>\n",
       "      <td>210.0</td>\n",
       "      <td>110.0</td>\n",
       "      <td>235.0</td>\n",
       "      <td>555.0</td>\n",
       "      <td>67.1</td>\n",
       "    </tr>\n",
       "  </tbody>\n",
       "</table>\n",
       "</div>"
      ],
      "text/plain": [
       "             Name Sex  Best3SquatKg  Best3BenchKg  Best3DeadliftKg  TotalKg  \\\n",
       "0       A Ajeesha   F         112.5          55.0            132.5    300.0   \n",
       "1  A Jay Montanez   M         225.0         165.0            270.0    660.0   \n",
       "2      A Kashirin   M           NaN         145.0              NaN      NaN   \n",
       "3       A Sazanov   M         120.0          77.5            135.0    332.5   \n",
       "4          A Yang   M         210.0         110.0            235.0    555.0   \n",
       "\n",
       "   BodyweightKg  \n",
       "0          71.1  \n",
       "1         123.9  \n",
       "2          73.5  \n",
       "3          58.4  \n",
       "4          67.1  "
      ]
     },
     "execution_count": 34,
     "metadata": {},
     "output_type": "execute_result"
    }
   ],
   "source": [
    "df_agg.head()"
   ]
  },
  {
   "cell_type": "code",
   "execution_count": 35,
   "id": "8eab1783-04f1-41e6-8173-d7e0ec709375",
   "metadata": {
    "tags": []
   },
   "outputs": [],
   "source": [
    "df_agg = df_agg.dropna()"
   ]
  },
  {
   "cell_type": "code",
   "execution_count": 36,
   "id": "8e0e5cf0-0433-4815-b407-fb6108288f4e",
   "metadata": {
    "tags": []
   },
   "outputs": [
    {
     "data": {
      "text/html": [
       "<div>\n",
       "<style scoped>\n",
       "    .dataframe tbody tr th:only-of-type {\n",
       "        vertical-align: middle;\n",
       "    }\n",
       "\n",
       "    .dataframe tbody tr th {\n",
       "        vertical-align: top;\n",
       "    }\n",
       "\n",
       "    .dataframe thead th {\n",
       "        text-align: right;\n",
       "    }\n",
       "</style>\n",
       "<table border=\"1\" class=\"dataframe\">\n",
       "  <thead>\n",
       "    <tr style=\"text-align: right;\">\n",
       "      <th></th>\n",
       "      <th>Name</th>\n",
       "      <th>Sex</th>\n",
       "      <th>Best3SquatKg</th>\n",
       "      <th>Best3BenchKg</th>\n",
       "      <th>Best3DeadliftKg</th>\n",
       "      <th>TotalKg</th>\n",
       "      <th>BodyweightKg</th>\n",
       "    </tr>\n",
       "  </thead>\n",
       "  <tbody>\n",
       "    <tr>\n",
       "      <th>0</th>\n",
       "      <td>A Ajeesha</td>\n",
       "      <td>F</td>\n",
       "      <td>112.5</td>\n",
       "      <td>55.0</td>\n",
       "      <td>132.5</td>\n",
       "      <td>300.0</td>\n",
       "      <td>71.1</td>\n",
       "    </tr>\n",
       "    <tr>\n",
       "      <th>1</th>\n",
       "      <td>A Jay Montanez</td>\n",
       "      <td>M</td>\n",
       "      <td>225.0</td>\n",
       "      <td>165.0</td>\n",
       "      <td>270.0</td>\n",
       "      <td>660.0</td>\n",
       "      <td>123.9</td>\n",
       "    </tr>\n",
       "    <tr>\n",
       "      <th>3</th>\n",
       "      <td>A Sazanov</td>\n",
       "      <td>M</td>\n",
       "      <td>120.0</td>\n",
       "      <td>77.5</td>\n",
       "      <td>135.0</td>\n",
       "      <td>332.5</td>\n",
       "      <td>58.4</td>\n",
       "    </tr>\n",
       "    <tr>\n",
       "      <th>4</th>\n",
       "      <td>A Yang</td>\n",
       "      <td>M</td>\n",
       "      <td>210.0</td>\n",
       "      <td>110.0</td>\n",
       "      <td>235.0</td>\n",
       "      <td>555.0</td>\n",
       "      <td>67.1</td>\n",
       "    </tr>\n",
       "    <tr>\n",
       "      <th>5</th>\n",
       "      <td>A'Dren Hye</td>\n",
       "      <td>M</td>\n",
       "      <td>287.5</td>\n",
       "      <td>195.0</td>\n",
       "      <td>280.0</td>\n",
       "      <td>757.5</td>\n",
       "      <td>104.1</td>\n",
       "    </tr>\n",
       "  </tbody>\n",
       "</table>\n",
       "</div>"
      ],
      "text/plain": [
       "             Name Sex  Best3SquatKg  Best3BenchKg  Best3DeadliftKg  TotalKg  \\\n",
       "0       A Ajeesha   F         112.5          55.0            132.5    300.0   \n",
       "1  A Jay Montanez   M         225.0         165.0            270.0    660.0   \n",
       "3       A Sazanov   M         120.0          77.5            135.0    332.5   \n",
       "4          A Yang   M         210.0         110.0            235.0    555.0   \n",
       "5      A'Dren Hye   M         287.5         195.0            280.0    757.5   \n",
       "\n",
       "   BodyweightKg  \n",
       "0          71.1  \n",
       "1         123.9  \n",
       "3          58.4  \n",
       "4          67.1  \n",
       "5         104.1  "
      ]
     },
     "execution_count": 36,
     "metadata": {},
     "output_type": "execute_result"
    }
   ],
   "source": [
    "df_agg.head()"
   ]
  },
  {
   "cell_type": "markdown",
   "id": "99c23f8a-93b7-4ffa-8110-143efba0ae92",
   "metadata": {},
   "source": [
    "We look into the 200 strongest competitors, i.e. the 200 competitors who were able to lift the most weight in total:"
   ]
  },
  {
   "cell_type": "code",
   "execution_count": 37,
   "id": "3d4707e7-c24e-4b92-b344-71ff73115aa4",
   "metadata": {
    "tags": []
   },
   "outputs": [
    {
     "data": {
      "text/plain": [
       "117807"
      ]
     },
     "execution_count": 37,
     "metadata": {},
     "output_type": "execute_result"
    }
   ],
   "source": [
    "len(df_agg)"
   ]
  },
  {
   "cell_type": "code",
   "execution_count": 38,
   "id": "630f8fec-c3e3-4735-b5db-096fa781db61",
   "metadata": {
    "tags": []
   },
   "outputs": [],
   "source": [
    "result = df_agg.nlargest(200, 'TotalKg')"
   ]
  },
  {
   "cell_type": "code",
   "execution_count": 39,
   "id": "6d218884-7675-43ef-885d-e9b1a5d2aaad",
   "metadata": {
    "tags": []
   },
   "outputs": [
    {
     "data": {
      "text/html": [
       "<div>\n",
       "<style scoped>\n",
       "    .dataframe tbody tr th:only-of-type {\n",
       "        vertical-align: middle;\n",
       "    }\n",
       "\n",
       "    .dataframe tbody tr th {\n",
       "        vertical-align: top;\n",
       "    }\n",
       "\n",
       "    .dataframe thead th {\n",
       "        text-align: right;\n",
       "    }\n",
       "</style>\n",
       "<table border=\"1\" class=\"dataframe\">\n",
       "  <thead>\n",
       "    <tr style=\"text-align: right;\">\n",
       "      <th></th>\n",
       "      <th>Name</th>\n",
       "      <th>Sex</th>\n",
       "      <th>Best3SquatKg</th>\n",
       "      <th>Best3BenchKg</th>\n",
       "      <th>Best3DeadliftKg</th>\n",
       "      <th>TotalKg</th>\n",
       "      <th>BodyweightKg</th>\n",
       "    </tr>\n",
       "  </thead>\n",
       "  <tbody>\n",
       "    <tr>\n",
       "      <th>94269</th>\n",
       "      <td>Ray Williams #1</td>\n",
       "      <td>M</td>\n",
       "      <td>490.0</td>\n",
       "      <td>247.5</td>\n",
       "      <td>398.5</td>\n",
       "      <td>1112.5</td>\n",
       "      <td>190.40</td>\n",
       "    </tr>\n",
       "    <tr>\n",
       "      <th>59624</th>\n",
       "      <td>Josh Morris #1</td>\n",
       "      <td>M</td>\n",
       "      <td>417.5</td>\n",
       "      <td>290.3</td>\n",
       "      <td>410.0</td>\n",
       "      <td>1077.5</td>\n",
       "      <td>187.97</td>\n",
       "    </tr>\n",
       "    <tr>\n",
       "      <th>36972</th>\n",
       "      <td>Eric Lilliebridge</td>\n",
       "      <td>M</td>\n",
       "      <td>417.5</td>\n",
       "      <td>250.0</td>\n",
       "      <td>410.0</td>\n",
       "      <td>1075.0</td>\n",
       "      <td>138.80</td>\n",
       "    </tr>\n",
       "    <tr>\n",
       "      <th>66693</th>\n",
       "      <td>Kirill Sarychev</td>\n",
       "      <td>M</td>\n",
       "      <td>350.0</td>\n",
       "      <td>320.0</td>\n",
       "      <td>402.5</td>\n",
       "      <td>1072.5</td>\n",
       "      <td>177.40</td>\n",
       "    </tr>\n",
       "    <tr>\n",
       "      <th>47056</th>\n",
       "      <td>JP Price</td>\n",
       "      <td>M</td>\n",
       "      <td>435.0</td>\n",
       "      <td>290.0</td>\n",
       "      <td>345.0</td>\n",
       "      <td>1070.0</td>\n",
       "      <td>170.37</td>\n",
       "    </tr>\n",
       "  </tbody>\n",
       "</table>\n",
       "</div>"
      ],
      "text/plain": [
       "                    Name Sex  Best3SquatKg  Best3BenchKg  Best3DeadliftKg  \\\n",
       "94269    Ray Williams #1   M         490.0         247.5            398.5   \n",
       "59624     Josh Morris #1   M         417.5         290.3            410.0   \n",
       "36972  Eric Lilliebridge   M         417.5         250.0            410.0   \n",
       "66693    Kirill Sarychev   M         350.0         320.0            402.5   \n",
       "47056           JP Price   M         435.0         290.0            345.0   \n",
       "\n",
       "       TotalKg  BodyweightKg  \n",
       "94269   1112.5        190.40  \n",
       "59624   1077.5        187.97  \n",
       "36972   1075.0        138.80  \n",
       "66693   1072.5        177.40  \n",
       "47056   1070.0        170.37  "
      ]
     },
     "execution_count": 39,
     "metadata": {},
     "output_type": "execute_result"
    }
   ],
   "source": [
    "result.head()"
   ]
  },
  {
   "cell_type": "code",
   "execution_count": 42,
   "id": "6a5b3fc1-129e-41d5-ba38-ea2f0f7f1b50",
   "metadata": {
    "tags": []
   },
   "outputs": [
    {
     "name": "stdout",
     "output_type": "stream",
     "text": [
      "['Ray Williams #1' 'Josh Morris #1' 'Eric Lilliebridge' 'Kirill Sarychev'\n",
      " 'JP Price' 'Jezza Uepa' 'Larry Williams #1' 'Bryan Hartsel'\n",
      " 'Don Reinhoudt' 'Daniel Bell #1' 'Derek Kendall' 'Kelly Branton'\n",
      " 'Shawn Doyle' 'Brandon Allen #1' 'Dennis Cornelius' 'Jake Johns'\n",
      " 'Luke Richardson #1' 'Pavlo Nakonechnyy' 'Chad Wesley Smith'\n",
      " 'Stan Efferding' 'Mikhail Koklyaev' 'Scott Weech' 'Blaine Sumner'\n",
      " 'Rob Hall' 'Erick Lewis' 'Matt Wenning' 'Andy Huang #1' 'Robb Philippus'\n",
      " 'Konstantīn Konstantīnovs' 'Brian Siders' 'Dane Dillon' 'Zac Meyers'\n",
      " 'Dan Kovacs' 'Beau Moore #1' 'Zach Smith' 'Domenick Minnici'\n",
      " 'Cooper Wage' 'Kevin Oak' 'James Searcy' 'Mohamed Bouafia' 'Zack Meyers'\n",
      " 'Joseph Whittaker' 'Ivan Podrez' 'Jeff Younker' 'Martins Kruze'\n",
      " 'Paul Wrenn' 'Jason Byrne #1' 'Aleksandr Pirogov' 'Aria Attia'\n",
      " 'Jason Belcher' 'Andrew Herbert' 'Nikolai Fesaniuk' 'Shane Haller'\n",
      " 'Siim Rast' 'Dan Green' 'George McLaren' 'James Heely' 'James Strickland'\n",
      " 'Michael Carter' 'Pete Rubish' 'Tee Popoola' 'Perry Ellis Jr'\n",
      " 'John Rivas' 'Oliva Kirisome' 'Foster Parnell' 'Ivan Tsigelnik'\n",
      " 'Jon McDonald' 'Hifon Smith' 'Tyron Senituli' 'Chris Hughes #3'\n",
      " 'Craig Foster' 'Michael Brinson' 'Aaron Palko' 'Ilyes Boughalem'\n",
      " 'Tommy Hawks' 'Andrey Konovalov #1' 'Kamil Kamiński' 'Artem Kovalchuk'\n",
      " 'Jaisyn Mike' 'Kirk Karwoski' 'Tyree Dunn' 'Hugh Cassidy' 'Andy Askow'\n",
      " 'Michael Tuchscherer' 'Adrian Tullo' 'Joseph Peña #1' 'Kade Weber'\n",
      " 'Scott Smith' 'Tony Reinmuth' 'Daniel Curry' 'Daniel Hawkins'\n",
      " 'Ivaylo Hristov' 'Mojtaba Maleki' 'Trevor Thomas Jr' 'Carlos Reyes #1'\n",
      " 'Ettore Ewen' 'Josh Lentz' 'Kamo Simonyan' 'Garrett Denham'\n",
      " 'Jesse Norris' 'Razim Huseynov' 'Alexei Malunin' 'Adam Leidigh'\n",
      " 'Aleksey Malunin' 'Alexander Clarke' 'Andrey Belyaev #1'\n",
      " 'Brad Gillingham' 'David Lupáč' 'Jimmy Paquet' 'Josh Garrison'\n",
      " 'Mark Macqueen' 'Valeriy Snigirev' 'Matt Disbrow' 'Aleksandr Kim'\n",
      " 'Doug Allen' 'Jeff Barnes' 'Tony Cliffe' 'Jeremy Hamilton' 'Nick Weite'\n",
      " 'Rufat Agaev' 'Ryan Barletto' 'Ryan Brent' 'Nam Shartzer' 'Brad Arbic'\n",
      " 'David Zyski' 'Phillip Mardis' 'Rubén Rico Martín' 'Bryan Alm'\n",
      " 'Chris Lee' 'Erik Willis' 'Freyded Rankyn Bejerano' 'Joe Sullivan'\n",
      " 'Matt Sohmer' 'Michael Zivanovich' 'Nathan Brandhorst'\n",
      " 'Amandas Paulauskas' 'BJ Whitehead' 'Cailer Woolam' 'Chris Gordert'\n",
      " 'Chris Jones #2' 'Edward McKinnis' 'James Dollman Jr' 'Jeffrey Seath'\n",
      " 'Martin Borgland Rønning' 'Rudy Harbin' 'Thomas Paynter'\n",
      " 'Vladimir Golubev' 'William Burrell' 'Jamie Seguin' 'Kevin Smith'\n",
      " 'Patrick Maguire' 'Larry Pacifico' 'Joseph White #1' 'Aleksey Grin'\n",
      " 'Matt Baller' 'Krzysztof Wierzbicki' 'Tuomas Hautala' 'Adam Rodriguez'\n",
      " 'Christophe Rebreyend' 'Dimitrios Rallis' 'Jamal Browner'\n",
      " 'Jordan McLaughlin' 'Murad Alibegov' 'Piotr Sadowski'\n",
      " 'Stanislav Shvetsov' 'Steven Carozza' 'Wayne Howlett' 'Joey DeGiovine'\n",
      " 'Mehdi Mafi Gholami' 'Shawn Boyd' 'Steve Ringoot' 'Aaron Reed'\n",
      " 'Alec Williamson' 'Anthony Harris' 'Júlían J.K. Jóhannsson'\n",
      " 'Lakeem BradBerry' 'Mahdi Mafi Gholami' 'Jari Saario' 'Barrett Prudue'\n",
      " 'Jared Martin' 'Jeremy Avilla' 'Joshua Earnest' 'LaRodrick Duncan'\n",
      " 'Lucas Banks' 'Michael Jones' 'Michael Sinclair' 'Preston Turner'\n",
      " 'Sebastiaan Tempelaars' 'Henry Fera' 'Aleksandr Lipatov' 'Anthony Gray'\n",
      " 'Benedict Bucarizza' 'Bryce Lewis' 'David Puckett' 'Didzis Zarins'\n",
      " 'Dmitriy Pys' 'Jackson Spencer' 'Mikhail Korostin' 'Nicholas Donte McCoy'\n",
      " 'Randall Harris']\n"
     ]
    }
   ],
   "source": [
    "top200 = result['Name'].values\n",
    "print(top200)"
   ]
  },
  {
   "cell_type": "markdown",
   "id": "0bbf776d-0c69-4910-8813-530626238eaf",
   "metadata": {},
   "source": [
    "Now we return to the original cleaned dataset filter it for these top 200 competitors:"
   ]
  },
  {
   "cell_type": "code",
   "execution_count": 43,
   "id": "3f2a0d28-7d83-4f4b-bf6d-08565d419293",
   "metadata": {
    "tags": []
   },
   "outputs": [],
   "source": [
    "df_top = df_new[df_new['Name'].isin(top200)]"
   ]
  },
  {
   "cell_type": "code",
   "execution_count": 44,
   "id": "1edd74b1-ab1c-4bec-b727-71df1614ee15",
   "metadata": {
    "tags": []
   },
   "outputs": [
    {
     "data": {
      "text/html": [
       "<div>\n",
       "<style scoped>\n",
       "    .dataframe tbody tr th:only-of-type {\n",
       "        vertical-align: middle;\n",
       "    }\n",
       "\n",
       "    .dataframe tbody tr th {\n",
       "        vertical-align: top;\n",
       "    }\n",
       "\n",
       "    .dataframe thead th {\n",
       "        text-align: right;\n",
       "    }\n",
       "</style>\n",
       "<table border=\"1\" class=\"dataframe\">\n",
       "  <thead>\n",
       "    <tr style=\"text-align: right;\">\n",
       "      <th></th>\n",
       "      <th>Name</th>\n",
       "      <th>Sex</th>\n",
       "      <th>Event</th>\n",
       "      <th>Equipment</th>\n",
       "      <th>Age</th>\n",
       "      <th>AgeClass</th>\n",
       "      <th>Division</th>\n",
       "      <th>BodyweightKg</th>\n",
       "      <th>WeightClassKg</th>\n",
       "      <th>Squat1Kg</th>\n",
       "      <th>...</th>\n",
       "      <th>McCulloch</th>\n",
       "      <th>Glossbrenner</th>\n",
       "      <th>IPFPoints</th>\n",
       "      <th>Tested</th>\n",
       "      <th>Country</th>\n",
       "      <th>Federation</th>\n",
       "      <th>Date</th>\n",
       "      <th>MeetCountry</th>\n",
       "      <th>MeetState</th>\n",
       "      <th>MeetName</th>\n",
       "    </tr>\n",
       "  </thead>\n",
       "  <tbody>\n",
       "    <tr>\n",
       "      <th>5605</th>\n",
       "      <td>George McLaren</td>\n",
       "      <td>M</td>\n",
       "      <td>SBD</td>\n",
       "      <td>Raw</td>\n",
       "      <td>32.0</td>\n",
       "      <td>24-34</td>\n",
       "      <td>M-OR</td>\n",
       "      <td>160.0</td>\n",
       "      <td>140+</td>\n",
       "      <td>300.0</td>\n",
       "      <td>...</td>\n",
       "      <td>470.09</td>\n",
       "      <td>442.23</td>\n",
       "      <td>612.67</td>\n",
       "      <td>NaN</td>\n",
       "      <td>Australia</td>\n",
       "      <td>GPC-AUS</td>\n",
       "      <td>2016-07-08</td>\n",
       "      <td>Australia</td>\n",
       "      <td>QLD</td>\n",
       "      <td>Nationals</td>\n",
       "    </tr>\n",
       "    <tr>\n",
       "      <th>14542</th>\n",
       "      <td>Jason Belcher</td>\n",
       "      <td>M</td>\n",
       "      <td>SBD</td>\n",
       "      <td>Raw</td>\n",
       "      <td>36.5</td>\n",
       "      <td>35-39</td>\n",
       "      <td>Open</td>\n",
       "      <td>140.0</td>\n",
       "      <td>140</td>\n",
       "      <td>NaN</td>\n",
       "      <td>...</td>\n",
       "      <td>535.06</td>\n",
       "      <td>506.91</td>\n",
       "      <td>741.66</td>\n",
       "      <td>NaN</td>\n",
       "      <td>NaN</td>\n",
       "      <td>USPF</td>\n",
       "      <td>2018-06-02</td>\n",
       "      <td>USA</td>\n",
       "      <td>WV</td>\n",
       "      <td>Nationals</td>\n",
       "    </tr>\n",
       "    <tr>\n",
       "      <th>14739</th>\n",
       "      <td>Thomas Paynter</td>\n",
       "      <td>M</td>\n",
       "      <td>SBD</td>\n",
       "      <td>Raw</td>\n",
       "      <td>23.0</td>\n",
       "      <td>20-23</td>\n",
       "      <td>Juniors 20-23</td>\n",
       "      <td>140.0</td>\n",
       "      <td>140</td>\n",
       "      <td>NaN</td>\n",
       "      <td>...</td>\n",
       "      <td>378.59</td>\n",
       "      <td>358.67</td>\n",
       "      <td>500.06</td>\n",
       "      <td>NaN</td>\n",
       "      <td>NaN</td>\n",
       "      <td>USPF</td>\n",
       "      <td>2015-03-28</td>\n",
       "      <td>USA</td>\n",
       "      <td>WV</td>\n",
       "      <td>WV State Open</td>\n",
       "    </tr>\n",
       "    <tr>\n",
       "      <th>15459</th>\n",
       "      <td>Kade Weber</td>\n",
       "      <td>M</td>\n",
       "      <td>SBD</td>\n",
       "      <td>Raw</td>\n",
       "      <td>23.0</td>\n",
       "      <td>20-23</td>\n",
       "      <td>M-H</td>\n",
       "      <td>109.2</td>\n",
       "      <td>110</td>\n",
       "      <td>310.0</td>\n",
       "      <td>...</td>\n",
       "      <td>547.06</td>\n",
       "      <td>524.20</td>\n",
       "      <td>818.75</td>\n",
       "      <td>NaN</td>\n",
       "      <td>Canada</td>\n",
       "      <td>RUPC</td>\n",
       "      <td>2013-02-24</td>\n",
       "      <td>USA</td>\n",
       "      <td>FL</td>\n",
       "      <td>Raw Unity VI</td>\n",
       "    </tr>\n",
       "    <tr>\n",
       "      <th>15463</th>\n",
       "      <td>Scott Weech</td>\n",
       "      <td>M</td>\n",
       "      <td>SBD</td>\n",
       "      <td>Raw</td>\n",
       "      <td>27.0</td>\n",
       "      <td>24-34</td>\n",
       "      <td>M-H</td>\n",
       "      <td>148.2</td>\n",
       "      <td>140+</td>\n",
       "      <td>360.0</td>\n",
       "      <td>...</td>\n",
       "      <td>544.54</td>\n",
       "      <td>514.70</td>\n",
       "      <td>741.66</td>\n",
       "      <td>NaN</td>\n",
       "      <td>USA</td>\n",
       "      <td>RUPC</td>\n",
       "      <td>2013-02-24</td>\n",
       "      <td>USA</td>\n",
       "      <td>FL</td>\n",
       "      <td>Raw Unity VI</td>\n",
       "    </tr>\n",
       "  </tbody>\n",
       "</table>\n",
       "<p>5 rows × 37 columns</p>\n",
       "</div>"
      ],
      "text/plain": [
       "                 Name Sex Event Equipment   Age AgeClass       Division  \\\n",
       "5605   George McLaren   M   SBD       Raw  32.0    24-34           M-OR   \n",
       "14542   Jason Belcher   M   SBD       Raw  36.5    35-39           Open   \n",
       "14739  Thomas Paynter   M   SBD       Raw  23.0    20-23  Juniors 20-23   \n",
       "15459      Kade Weber   M   SBD       Raw  23.0    20-23            M-H   \n",
       "15463     Scott Weech   M   SBD       Raw  27.0    24-34            M-H   \n",
       "\n",
       "       BodyweightKg WeightClassKg  Squat1Kg  ...  McCulloch  Glossbrenner  \\\n",
       "5605          160.0          140+     300.0  ...     470.09        442.23   \n",
       "14542         140.0           140       NaN  ...     535.06        506.91   \n",
       "14739         140.0           140       NaN  ...     378.59        358.67   \n",
       "15459         109.2           110     310.0  ...     547.06        524.20   \n",
       "15463         148.2          140+     360.0  ...     544.54        514.70   \n",
       "\n",
       "       IPFPoints  Tested    Country  Federation        Date  MeetCountry  \\\n",
       "5605      612.67     NaN  Australia     GPC-AUS  2016-07-08    Australia   \n",
       "14542     741.66     NaN        NaN        USPF  2018-06-02          USA   \n",
       "14739     500.06     NaN        NaN        USPF  2015-03-28          USA   \n",
       "15459     818.75     NaN     Canada        RUPC  2013-02-24          USA   \n",
       "15463     741.66     NaN        USA        RUPC  2013-02-24          USA   \n",
       "\n",
       "       MeetState       MeetName  \n",
       "5605         QLD      Nationals  \n",
       "14542         WV      Nationals  \n",
       "14739         WV  WV State Open  \n",
       "15459         FL   Raw Unity VI  \n",
       "15463         FL   Raw Unity VI  \n",
       "\n",
       "[5 rows x 37 columns]"
      ]
     },
     "execution_count": 44,
     "metadata": {},
     "output_type": "execute_result"
    }
   ],
   "source": [
    "df_top.head()"
   ]
  },
  {
   "cell_type": "code",
   "execution_count": 45,
   "id": "20f5b865-f4d0-405f-b7fb-aa1496ffff5b",
   "metadata": {
    "tags": []
   },
   "outputs": [
    {
     "data": {
      "text/plain": [
       "1334"
      ]
     },
     "execution_count": 45,
     "metadata": {},
     "output_type": "execute_result"
    }
   ],
   "source": [
    "len(df_top)"
   ]
  },
  {
   "cell_type": "code",
   "execution_count": 48,
   "id": "9570d808-13b4-4870-a2ed-bd0fc74d44a0",
   "metadata": {
    "tags": []
   },
   "outputs": [
    {
     "data": {
      "text/html": [
       "<div>\n",
       "<style scoped>\n",
       "    .dataframe tbody tr th:only-of-type {\n",
       "        vertical-align: middle;\n",
       "    }\n",
       "\n",
       "    .dataframe tbody tr th {\n",
       "        vertical-align: top;\n",
       "    }\n",
       "\n",
       "    .dataframe thead th {\n",
       "        text-align: right;\n",
       "    }\n",
       "</style>\n",
       "<table border=\"1\" class=\"dataframe\">\n",
       "  <thead>\n",
       "    <tr style=\"text-align: right;\">\n",
       "      <th></th>\n",
       "      <th>Name</th>\n",
       "      <th>Sex</th>\n",
       "      <th>Event</th>\n",
       "      <th>Equipment</th>\n",
       "      <th>Age</th>\n",
       "      <th>AgeClass</th>\n",
       "      <th>Division</th>\n",
       "      <th>BodyweightKg</th>\n",
       "      <th>WeightClassKg</th>\n",
       "      <th>Squat1Kg</th>\n",
       "      <th>...</th>\n",
       "      <th>McCulloch</th>\n",
       "      <th>Glossbrenner</th>\n",
       "      <th>IPFPoints</th>\n",
       "      <th>Tested</th>\n",
       "      <th>Country</th>\n",
       "      <th>Federation</th>\n",
       "      <th>Date</th>\n",
       "      <th>MeetCountry</th>\n",
       "      <th>MeetState</th>\n",
       "      <th>MeetName</th>\n",
       "    </tr>\n",
       "  </thead>\n",
       "  <tbody>\n",
       "    <tr>\n",
       "      <th>567018</th>\n",
       "      <td>Ray Williams #1</td>\n",
       "      <td>M</td>\n",
       "      <td>SBD</td>\n",
       "      <td>Raw</td>\n",
       "      <td>32.0</td>\n",
       "      <td>24-34</td>\n",
       "      <td>MR-O</td>\n",
       "      <td>190.40</td>\n",
       "      <td>120+</td>\n",
       "      <td>450.0</td>\n",
       "      <td>...</td>\n",
       "      <td>593.83</td>\n",
       "      <td>552.62</td>\n",
       "      <td>756.73</td>\n",
       "      <td>Yes</td>\n",
       "      <td>USA</td>\n",
       "      <td>USAPL</td>\n",
       "      <td>2019-03-02</td>\n",
       "      <td>USA</td>\n",
       "      <td>OH</td>\n",
       "      <td>Arnold SBD Pro American</td>\n",
       "    </tr>\n",
       "    <tr>\n",
       "      <th>1025436</th>\n",
       "      <td>Ray Williams #1</td>\n",
       "      <td>M</td>\n",
       "      <td>SBD</td>\n",
       "      <td>Raw</td>\n",
       "      <td>30.0</td>\n",
       "      <td>24-34</td>\n",
       "      <td>Open</td>\n",
       "      <td>182.26</td>\n",
       "      <td>120+</td>\n",
       "      <td>440.0</td>\n",
       "      <td>...</td>\n",
       "      <td>593.51</td>\n",
       "      <td>554.13</td>\n",
       "      <td>766.00</td>\n",
       "      <td>Yes</td>\n",
       "      <td>USA</td>\n",
       "      <td>NAPF</td>\n",
       "      <td>2017-03-04</td>\n",
       "      <td>USA</td>\n",
       "      <td>OH</td>\n",
       "      <td>Arnold Slingshot Pro American</td>\n",
       "    </tr>\n",
       "    <tr>\n",
       "      <th>515429</th>\n",
       "      <td>Ray Williams #1</td>\n",
       "      <td>M</td>\n",
       "      <td>SBD</td>\n",
       "      <td>Raw</td>\n",
       "      <td>31.0</td>\n",
       "      <td>24-34</td>\n",
       "      <td>MR-O</td>\n",
       "      <td>187.41</td>\n",
       "      <td>120+</td>\n",
       "      <td>442.5</td>\n",
       "      <td>...</td>\n",
       "      <td>584.37</td>\n",
       "      <td>544.56</td>\n",
       "      <td>746.90</td>\n",
       "      <td>Yes</td>\n",
       "      <td>USA</td>\n",
       "      <td>USAPL</td>\n",
       "      <td>2018-03-03</td>\n",
       "      <td>USA</td>\n",
       "      <td>OH</td>\n",
       "      <td>The Arnold SBD Pro American</td>\n",
       "    </tr>\n",
       "    <tr>\n",
       "      <th>793437</th>\n",
       "      <td>Ray Williams #1</td>\n",
       "      <td>M</td>\n",
       "      <td>SBD</td>\n",
       "      <td>Raw</td>\n",
       "      <td>30.0</td>\n",
       "      <td>24-34</td>\n",
       "      <td>Open</td>\n",
       "      <td>181.22</td>\n",
       "      <td>120+</td>\n",
       "      <td>450.0</td>\n",
       "      <td>...</td>\n",
       "      <td>585.98</td>\n",
       "      <td>547.29</td>\n",
       "      <td>756.43</td>\n",
       "      <td>Yes</td>\n",
       "      <td>USA</td>\n",
       "      <td>IPF</td>\n",
       "      <td>2017-06-14</td>\n",
       "      <td>Belarus</td>\n",
       "      <td>NaN</td>\n",
       "      <td>World Classic Powerlifting Championships</td>\n",
       "    </tr>\n",
       "    <tr>\n",
       "      <th>790158</th>\n",
       "      <td>Ray Williams #1</td>\n",
       "      <td>M</td>\n",
       "      <td>SBD</td>\n",
       "      <td>Raw</td>\n",
       "      <td>31.0</td>\n",
       "      <td>24-34</td>\n",
       "      <td>Open</td>\n",
       "      <td>189.20</td>\n",
       "      <td>120+</td>\n",
       "      <td>-442.5</td>\n",
       "      <td>...</td>\n",
       "      <td>578.82</td>\n",
       "      <td>538.96</td>\n",
       "      <td>736.89</td>\n",
       "      <td>Yes</td>\n",
       "      <td>USA</td>\n",
       "      <td>IPF</td>\n",
       "      <td>2018-06-06</td>\n",
       "      <td>Canada</td>\n",
       "      <td>NaN</td>\n",
       "      <td>6th World Classic Championships</td>\n",
       "    </tr>\n",
       "  </tbody>\n",
       "</table>\n",
       "<p>5 rows × 37 columns</p>\n",
       "</div>"
      ],
      "text/plain": [
       "                    Name Sex Event Equipment   Age AgeClass Division  \\\n",
       "567018   Ray Williams #1   M   SBD       Raw  32.0    24-34     MR-O   \n",
       "1025436  Ray Williams #1   M   SBD       Raw  30.0    24-34     Open   \n",
       "515429   Ray Williams #1   M   SBD       Raw  31.0    24-34     MR-O   \n",
       "793437   Ray Williams #1   M   SBD       Raw  30.0    24-34     Open   \n",
       "790158   Ray Williams #1   M   SBD       Raw  31.0    24-34     Open   \n",
       "\n",
       "         BodyweightKg WeightClassKg  Squat1Kg  ...  McCulloch  Glossbrenner  \\\n",
       "567018         190.40          120+     450.0  ...     593.83        552.62   \n",
       "1025436        182.26          120+     440.0  ...     593.51        554.13   \n",
       "515429         187.41          120+     442.5  ...     584.37        544.56   \n",
       "793437         181.22          120+     450.0  ...     585.98        547.29   \n",
       "790158         189.20          120+    -442.5  ...     578.82        538.96   \n",
       "\n",
       "         IPFPoints  Tested  Country  Federation        Date  MeetCountry  \\\n",
       "567018      756.73     Yes      USA       USAPL  2019-03-02          USA   \n",
       "1025436     766.00     Yes      USA        NAPF  2017-03-04          USA   \n",
       "515429      746.90     Yes      USA       USAPL  2018-03-03          USA   \n",
       "793437      756.43     Yes      USA         IPF  2017-06-14      Belarus   \n",
       "790158      736.89     Yes      USA         IPF  2018-06-06       Canada   \n",
       "\n",
       "         MeetState                                  MeetName  \n",
       "567018          OH                   Arnold SBD Pro American  \n",
       "1025436         OH             Arnold Slingshot Pro American  \n",
       "515429          OH               The Arnold SBD Pro American  \n",
       "793437         NaN  World Classic Powerlifting Championships  \n",
       "790158         NaN           6th World Classic Championships  \n",
       "\n",
       "[5 rows x 37 columns]"
      ]
     },
     "execution_count": 48,
     "metadata": {},
     "output_type": "execute_result"
    }
   ],
   "source": [
    "# sort dataframe in descending order of TotalKg\n",
    "df_sorted = df_top.sort_values(by='TotalKg', ascending=False)\n",
    "\n",
    "df_sorted.head()"
   ]
  },
  {
   "cell_type": "code",
   "execution_count": 97,
   "id": "e99f0103-52ee-4f68-8d19-10ce574678df",
   "metadata": {
    "tags": []
   },
   "outputs": [],
   "source": [
    "# remove duplicate names\n",
    "df_no_dupes = df_sorted.drop_duplicates(subset=['Name'])"
   ]
  },
  {
   "cell_type": "code",
   "execution_count": 98,
   "id": "4af2b454-5973-416b-9005-99118028f174",
   "metadata": {
    "tags": []
   },
   "outputs": [
    {
     "data": {
      "text/plain": [
       "200"
      ]
     },
     "execution_count": 98,
     "metadata": {},
     "output_type": "execute_result"
    }
   ],
   "source": [
    "len(df_no_dupes)"
   ]
  },
  {
   "cell_type": "code",
   "execution_count": 99,
   "id": "9a9c07f1-2b4e-486f-bc9a-1583d2b4bb84",
   "metadata": {
    "tags": []
   },
   "outputs": [
    {
     "data": {
      "text/html": [
       "<div>\n",
       "<style scoped>\n",
       "    .dataframe tbody tr th:only-of-type {\n",
       "        vertical-align: middle;\n",
       "    }\n",
       "\n",
       "    .dataframe tbody tr th {\n",
       "        vertical-align: top;\n",
       "    }\n",
       "\n",
       "    .dataframe thead th {\n",
       "        text-align: right;\n",
       "    }\n",
       "</style>\n",
       "<table border=\"1\" class=\"dataframe\">\n",
       "  <thead>\n",
       "    <tr style=\"text-align: right;\">\n",
       "      <th></th>\n",
       "      <th>Name</th>\n",
       "      <th>Sex</th>\n",
       "      <th>Event</th>\n",
       "      <th>Equipment</th>\n",
       "      <th>Age</th>\n",
       "      <th>AgeClass</th>\n",
       "      <th>Division</th>\n",
       "      <th>BodyweightKg</th>\n",
       "      <th>WeightClassKg</th>\n",
       "      <th>Squat1Kg</th>\n",
       "      <th>...</th>\n",
       "      <th>McCulloch</th>\n",
       "      <th>Glossbrenner</th>\n",
       "      <th>IPFPoints</th>\n",
       "      <th>Tested</th>\n",
       "      <th>Country</th>\n",
       "      <th>Federation</th>\n",
       "      <th>Date</th>\n",
       "      <th>MeetCountry</th>\n",
       "      <th>MeetState</th>\n",
       "      <th>MeetName</th>\n",
       "    </tr>\n",
       "  </thead>\n",
       "  <tbody>\n",
       "    <tr>\n",
       "      <th>567018</th>\n",
       "      <td>Ray Williams #1</td>\n",
       "      <td>M</td>\n",
       "      <td>SBD</td>\n",
       "      <td>Raw</td>\n",
       "      <td>32.0</td>\n",
       "      <td>24-34</td>\n",
       "      <td>MR-O</td>\n",
       "      <td>190.40</td>\n",
       "      <td>120+</td>\n",
       "      <td>450.0</td>\n",
       "      <td>...</td>\n",
       "      <td>593.83</td>\n",
       "      <td>552.62</td>\n",
       "      <td>756.73</td>\n",
       "      <td>Yes</td>\n",
       "      <td>USA</td>\n",
       "      <td>USAPL</td>\n",
       "      <td>2019-03-02</td>\n",
       "      <td>USA</td>\n",
       "      <td>OH</td>\n",
       "      <td>Arnold SBD Pro American</td>\n",
       "    </tr>\n",
       "    <tr>\n",
       "      <th>1035828</th>\n",
       "      <td>Josh Morris #1</td>\n",
       "      <td>M</td>\n",
       "      <td>SBD</td>\n",
       "      <td>Raw</td>\n",
       "      <td>27.0</td>\n",
       "      <td>24-34</td>\n",
       "      <td>Pro Open</td>\n",
       "      <td>178.81</td>\n",
       "      <td>140+</td>\n",
       "      <td>NaN</td>\n",
       "      <td>...</td>\n",
       "      <td>580.50</td>\n",
       "      <td>542.58</td>\n",
       "      <td>751.37</td>\n",
       "      <td>NaN</td>\n",
       "      <td>NaN</td>\n",
       "      <td>RPS</td>\n",
       "      <td>2017-08-12</td>\n",
       "      <td>USA</td>\n",
       "      <td>KY</td>\n",
       "      <td>Braggin Rights</td>\n",
       "    </tr>\n",
       "    <tr>\n",
       "      <th>1010210</th>\n",
       "      <td>Eric Lilliebridge</td>\n",
       "      <td>M</td>\n",
       "      <td>SBD</td>\n",
       "      <td>Raw</td>\n",
       "      <td>26.0</td>\n",
       "      <td>24-34</td>\n",
       "      <td>MOR</td>\n",
       "      <td>138.80</td>\n",
       "      <td>140</td>\n",
       "      <td>-392.5</td>\n",
       "      <td>...</td>\n",
       "      <td>601.50</td>\n",
       "      <td>570.07</td>\n",
       "      <td>846.73</td>\n",
       "      <td>NaN</td>\n",
       "      <td>USA</td>\n",
       "      <td>UPA</td>\n",
       "      <td>2016-04-16</td>\n",
       "      <td>USA</td>\n",
       "      <td>IA</td>\n",
       "      <td>Powerlifting Nationals</td>\n",
       "    </tr>\n",
       "    <tr>\n",
       "      <th>628405</th>\n",
       "      <td>Kirill Sarychev</td>\n",
       "      <td>M</td>\n",
       "      <td>SBD</td>\n",
       "      <td>Raw</td>\n",
       "      <td>27.0</td>\n",
       "      <td>24-34</td>\n",
       "      <td>Open</td>\n",
       "      <td>177.40</td>\n",
       "      <td>140+</td>\n",
       "      <td>310.0</td>\n",
       "      <td>...</td>\n",
       "      <td>578.54</td>\n",
       "      <td>540.98</td>\n",
       "      <td>750.22</td>\n",
       "      <td>NaN</td>\n",
       "      <td>Russia</td>\n",
       "      <td>WRPF</td>\n",
       "      <td>2016-11-19</td>\n",
       "      <td>Russia</td>\n",
       "      <td>NaN</td>\n",
       "      <td>Pro World Championships</td>\n",
       "    </tr>\n",
       "    <tr>\n",
       "      <th>132537</th>\n",
       "      <td>Jezza Uepa</td>\n",
       "      <td>M</td>\n",
       "      <td>SBD</td>\n",
       "      <td>Raw</td>\n",
       "      <td>37.0</td>\n",
       "      <td>35-39</td>\n",
       "      <td>Open</td>\n",
       "      <td>181.40</td>\n",
       "      <td>120+</td>\n",
       "      <td>440.0</td>\n",
       "      <td>...</td>\n",
       "      <td>575.14</td>\n",
       "      <td>537.13</td>\n",
       "      <td>740.66</td>\n",
       "      <td>Yes</td>\n",
       "      <td>Nauru</td>\n",
       "      <td>PA</td>\n",
       "      <td>2017-10-21</td>\n",
       "      <td>Australia</td>\n",
       "      <td>QLD</td>\n",
       "      <td>Brisbane Open</td>\n",
       "    </tr>\n",
       "  </tbody>\n",
       "</table>\n",
       "<p>5 rows × 37 columns</p>\n",
       "</div>"
      ],
      "text/plain": [
       "                      Name Sex Event Equipment   Age AgeClass  Division  \\\n",
       "567018     Ray Williams #1   M   SBD       Raw  32.0    24-34      MR-O   \n",
       "1035828     Josh Morris #1   M   SBD       Raw  27.0    24-34  Pro Open   \n",
       "1010210  Eric Lilliebridge   M   SBD       Raw  26.0    24-34       MOR   \n",
       "628405     Kirill Sarychev   M   SBD       Raw  27.0    24-34      Open   \n",
       "132537          Jezza Uepa   M   SBD       Raw  37.0    35-39      Open   \n",
       "\n",
       "         BodyweightKg WeightClassKg  Squat1Kg  ...  McCulloch  Glossbrenner  \\\n",
       "567018         190.40          120+     450.0  ...     593.83        552.62   \n",
       "1035828        178.81          140+       NaN  ...     580.50        542.58   \n",
       "1010210        138.80           140    -392.5  ...     601.50        570.07   \n",
       "628405         177.40          140+     310.0  ...     578.54        540.98   \n",
       "132537         181.40          120+     440.0  ...     575.14        537.13   \n",
       "\n",
       "         IPFPoints  Tested  Country  Federation        Date  MeetCountry  \\\n",
       "567018      756.73     Yes      USA       USAPL  2019-03-02          USA   \n",
       "1035828     751.37     NaN      NaN         RPS  2017-08-12          USA   \n",
       "1010210     846.73     NaN      USA         UPA  2016-04-16          USA   \n",
       "628405      750.22     NaN   Russia        WRPF  2016-11-19       Russia   \n",
       "132537      740.66     Yes    Nauru          PA  2017-10-21    Australia   \n",
       "\n",
       "         MeetState                 MeetName  \n",
       "567018          OH  Arnold SBD Pro American  \n",
       "1035828         KY           Braggin Rights  \n",
       "1010210         IA   Powerlifting Nationals  \n",
       "628405         NaN  Pro World Championships  \n",
       "132537         QLD            Brisbane Open  \n",
       "\n",
       "[5 rows x 37 columns]"
      ]
     },
     "execution_count": 99,
     "metadata": {},
     "output_type": "execute_result"
    }
   ],
   "source": [
    "df_no_dupes.head()"
   ]
  },
  {
   "cell_type": "markdown",
   "id": "bdf8c269-4bb7-4af2-8c57-b2c07b0c0db6",
   "metadata": {},
   "source": [
    "Different powerlifting competitions may have different weight classes. As such, we make our own standard weight classses:"
   ]
  },
  {
   "cell_type": "code",
   "execution_count": 100,
   "id": "abd3b57a-57b8-40d4-a279-c52a71ea786f",
   "metadata": {
    "tags": []
   },
   "outputs": [],
   "source": [
    "def weight_class(x):\n",
    "    for i in range(10, 140, 10):\n",
    "        if(x < i):\n",
    "            return f\"{str(i-10).zfill(3)} - {i} kg\"\n",
    "    return \"130+ kg\"\n",
    "    \n",
    "df_no_dupes.loc[:, ('WeightClassKg')] = df_no_dupes['BodyweightKg'].apply( lambda x: weight_class(x))"
   ]
  },
  {
   "cell_type": "code",
   "execution_count": 101,
   "id": "e4b47c87-d2ba-45bd-86f0-98d36eca7e4c",
   "metadata": {
    "tags": []
   },
   "outputs": [
    {
     "data": {
      "text/html": [
       "<div>\n",
       "<style scoped>\n",
       "    .dataframe tbody tr th:only-of-type {\n",
       "        vertical-align: middle;\n",
       "    }\n",
       "\n",
       "    .dataframe tbody tr th {\n",
       "        vertical-align: top;\n",
       "    }\n",
       "\n",
       "    .dataframe thead th {\n",
       "        text-align: right;\n",
       "    }\n",
       "</style>\n",
       "<table border=\"1\" class=\"dataframe\">\n",
       "  <thead>\n",
       "    <tr style=\"text-align: right;\">\n",
       "      <th></th>\n",
       "      <th>Name</th>\n",
       "      <th>Sex</th>\n",
       "      <th>Event</th>\n",
       "      <th>Equipment</th>\n",
       "      <th>Age</th>\n",
       "      <th>AgeClass</th>\n",
       "      <th>Division</th>\n",
       "      <th>BodyweightKg</th>\n",
       "      <th>WeightClassKg</th>\n",
       "      <th>Squat1Kg</th>\n",
       "      <th>...</th>\n",
       "      <th>McCulloch</th>\n",
       "      <th>Glossbrenner</th>\n",
       "      <th>IPFPoints</th>\n",
       "      <th>Tested</th>\n",
       "      <th>Country</th>\n",
       "      <th>Federation</th>\n",
       "      <th>Date</th>\n",
       "      <th>MeetCountry</th>\n",
       "      <th>MeetState</th>\n",
       "      <th>MeetName</th>\n",
       "    </tr>\n",
       "  </thead>\n",
       "  <tbody>\n",
       "    <tr>\n",
       "      <th>567018</th>\n",
       "      <td>Ray Williams #1</td>\n",
       "      <td>M</td>\n",
       "      <td>SBD</td>\n",
       "      <td>Raw</td>\n",
       "      <td>32.0</td>\n",
       "      <td>24-34</td>\n",
       "      <td>MR-O</td>\n",
       "      <td>190.40</td>\n",
       "      <td>130+ kg</td>\n",
       "      <td>450.0</td>\n",
       "      <td>...</td>\n",
       "      <td>593.83</td>\n",
       "      <td>552.62</td>\n",
       "      <td>756.73</td>\n",
       "      <td>Yes</td>\n",
       "      <td>USA</td>\n",
       "      <td>USAPL</td>\n",
       "      <td>2019-03-02</td>\n",
       "      <td>USA</td>\n",
       "      <td>OH</td>\n",
       "      <td>Arnold SBD Pro American</td>\n",
       "    </tr>\n",
       "    <tr>\n",
       "      <th>1035828</th>\n",
       "      <td>Josh Morris #1</td>\n",
       "      <td>M</td>\n",
       "      <td>SBD</td>\n",
       "      <td>Raw</td>\n",
       "      <td>27.0</td>\n",
       "      <td>24-34</td>\n",
       "      <td>Pro Open</td>\n",
       "      <td>178.81</td>\n",
       "      <td>130+ kg</td>\n",
       "      <td>NaN</td>\n",
       "      <td>...</td>\n",
       "      <td>580.50</td>\n",
       "      <td>542.58</td>\n",
       "      <td>751.37</td>\n",
       "      <td>NaN</td>\n",
       "      <td>NaN</td>\n",
       "      <td>RPS</td>\n",
       "      <td>2017-08-12</td>\n",
       "      <td>USA</td>\n",
       "      <td>KY</td>\n",
       "      <td>Braggin Rights</td>\n",
       "    </tr>\n",
       "    <tr>\n",
       "      <th>1010210</th>\n",
       "      <td>Eric Lilliebridge</td>\n",
       "      <td>M</td>\n",
       "      <td>SBD</td>\n",
       "      <td>Raw</td>\n",
       "      <td>26.0</td>\n",
       "      <td>24-34</td>\n",
       "      <td>MOR</td>\n",
       "      <td>138.80</td>\n",
       "      <td>130+ kg</td>\n",
       "      <td>-392.5</td>\n",
       "      <td>...</td>\n",
       "      <td>601.50</td>\n",
       "      <td>570.07</td>\n",
       "      <td>846.73</td>\n",
       "      <td>NaN</td>\n",
       "      <td>USA</td>\n",
       "      <td>UPA</td>\n",
       "      <td>2016-04-16</td>\n",
       "      <td>USA</td>\n",
       "      <td>IA</td>\n",
       "      <td>Powerlifting Nationals</td>\n",
       "    </tr>\n",
       "    <tr>\n",
       "      <th>628405</th>\n",
       "      <td>Kirill Sarychev</td>\n",
       "      <td>M</td>\n",
       "      <td>SBD</td>\n",
       "      <td>Raw</td>\n",
       "      <td>27.0</td>\n",
       "      <td>24-34</td>\n",
       "      <td>Open</td>\n",
       "      <td>177.40</td>\n",
       "      <td>130+ kg</td>\n",
       "      <td>310.0</td>\n",
       "      <td>...</td>\n",
       "      <td>578.54</td>\n",
       "      <td>540.98</td>\n",
       "      <td>750.22</td>\n",
       "      <td>NaN</td>\n",
       "      <td>Russia</td>\n",
       "      <td>WRPF</td>\n",
       "      <td>2016-11-19</td>\n",
       "      <td>Russia</td>\n",
       "      <td>NaN</td>\n",
       "      <td>Pro World Championships</td>\n",
       "    </tr>\n",
       "    <tr>\n",
       "      <th>132537</th>\n",
       "      <td>Jezza Uepa</td>\n",
       "      <td>M</td>\n",
       "      <td>SBD</td>\n",
       "      <td>Raw</td>\n",
       "      <td>37.0</td>\n",
       "      <td>35-39</td>\n",
       "      <td>Open</td>\n",
       "      <td>181.40</td>\n",
       "      <td>130+ kg</td>\n",
       "      <td>440.0</td>\n",
       "      <td>...</td>\n",
       "      <td>575.14</td>\n",
       "      <td>537.13</td>\n",
       "      <td>740.66</td>\n",
       "      <td>Yes</td>\n",
       "      <td>Nauru</td>\n",
       "      <td>PA</td>\n",
       "      <td>2017-10-21</td>\n",
       "      <td>Australia</td>\n",
       "      <td>QLD</td>\n",
       "      <td>Brisbane Open</td>\n",
       "    </tr>\n",
       "  </tbody>\n",
       "</table>\n",
       "<p>5 rows × 37 columns</p>\n",
       "</div>"
      ],
      "text/plain": [
       "                      Name Sex Event Equipment   Age AgeClass  Division  \\\n",
       "567018     Ray Williams #1   M   SBD       Raw  32.0    24-34      MR-O   \n",
       "1035828     Josh Morris #1   M   SBD       Raw  27.0    24-34  Pro Open   \n",
       "1010210  Eric Lilliebridge   M   SBD       Raw  26.0    24-34       MOR   \n",
       "628405     Kirill Sarychev   M   SBD       Raw  27.0    24-34      Open   \n",
       "132537          Jezza Uepa   M   SBD       Raw  37.0    35-39      Open   \n",
       "\n",
       "         BodyweightKg WeightClassKg  Squat1Kg  ...  McCulloch  Glossbrenner  \\\n",
       "567018         190.40       130+ kg     450.0  ...     593.83        552.62   \n",
       "1035828        178.81       130+ kg       NaN  ...     580.50        542.58   \n",
       "1010210        138.80       130+ kg    -392.5  ...     601.50        570.07   \n",
       "628405         177.40       130+ kg     310.0  ...     578.54        540.98   \n",
       "132537         181.40       130+ kg     440.0  ...     575.14        537.13   \n",
       "\n",
       "         IPFPoints  Tested  Country  Federation        Date  MeetCountry  \\\n",
       "567018      756.73     Yes      USA       USAPL  2019-03-02          USA   \n",
       "1035828     751.37     NaN      NaN         RPS  2017-08-12          USA   \n",
       "1010210     846.73     NaN      USA         UPA  2016-04-16          USA   \n",
       "628405      750.22     NaN   Russia        WRPF  2016-11-19       Russia   \n",
       "132537      740.66     Yes    Nauru          PA  2017-10-21    Australia   \n",
       "\n",
       "         MeetState                 MeetName  \n",
       "567018          OH  Arnold SBD Pro American  \n",
       "1035828         KY           Braggin Rights  \n",
       "1010210         IA   Powerlifting Nationals  \n",
       "628405         NaN  Pro World Championships  \n",
       "132537         QLD            Brisbane Open  \n",
       "\n",
       "[5 rows x 37 columns]"
      ]
     },
     "execution_count": 101,
     "metadata": {},
     "output_type": "execute_result"
    }
   ],
   "source": [
    "df_no_dupes.head()"
   ]
  },
  {
   "cell_type": "code",
   "execution_count": 102,
   "id": "66521543-ef4a-4724-bc3d-047059f856c3",
   "metadata": {
    "tags": []
   },
   "outputs": [
    {
     "data": {
      "text/plain": [
       "WeightClassKg\n",
       "130+ kg         122\n",
       "120 - 130 kg     31\n",
       "110 - 120 kg     27\n",
       "100 - 110 kg     13\n",
       "090 - 100 kg      6\n",
       "080 - 90 kg       1\n",
       "Name: count, dtype: int64"
      ]
     },
     "execution_count": 102,
     "metadata": {},
     "output_type": "execute_result"
    }
   ],
   "source": [
    "df_no_dupes['WeightClassKg'].value_counts()"
   ]
  },
  {
   "cell_type": "code",
   "execution_count": 103,
   "id": "ff59434b-f3cb-43f9-845e-8ec70a56bac1",
   "metadata": {
    "tags": []
   },
   "outputs": [
    {
     "data": {
      "text/plain": [
       "Name                 0\n",
       "Sex                  0\n",
       "Event                0\n",
       "Equipment            0\n",
       "Age                 10\n",
       "AgeClass             9\n",
       "Division             1\n",
       "BodyweightKg         0\n",
       "WeightClassKg        0\n",
       "Squat1Kg            97\n",
       "Squat2Kg            97\n",
       "Squat3Kg           105\n",
       "Squat4Kg           196\n",
       "Best3SquatKg         0\n",
       "Bench1Kg            97\n",
       "Bench2Kg            98\n",
       "Bench3Kg           102\n",
       "Bench4Kg           197\n",
       "Best3BenchKg         0\n",
       "Deadlift1Kg         96\n",
       "Deadlift2Kg         97\n",
       "Deadlift3Kg        105\n",
       "Deadlift4Kg        198\n",
       "Best3DeadliftKg      0\n",
       "TotalKg              0\n",
       "Place                0\n",
       "Wilks                0\n",
       "McCulloch            0\n",
       "Glossbrenner         0\n",
       "IPFPoints            0\n",
       "Tested             122\n",
       "Country             72\n",
       "Federation           0\n",
       "Date                 0\n",
       "MeetCountry          0\n",
       "MeetState           58\n",
       "MeetName             0\n",
       "dtype: int64"
      ]
     },
     "execution_count": 103,
     "metadata": {},
     "output_type": "execute_result"
    }
   ],
   "source": [
    "df_no_dupes.isnull().sum()"
   ]
  },
  {
   "cell_type": "code",
   "execution_count": 104,
   "id": "ef83ece4-0a75-4027-a4ed-a1c3381632f0",
   "metadata": {
    "tags": []
   },
   "outputs": [
    {
     "name": "stderr",
     "output_type": "stream",
     "text": [
      "C:\\Users\\asale\\AppData\\Local\\Temp\\ipykernel_9148\\3819496409.py:1: SettingWithCopyWarning: \n",
      "A value is trying to be set on a copy of a slice from a DataFrame\n",
      "\n",
      "See the caveats in the documentation: https://pandas.pydata.org/pandas-docs/stable/user_guide/indexing.html#returning-a-view-versus-a-copy\n",
      "  df_no_dupes['Tested'].fillna('No', inplace = True)\n"
     ]
    }
   ],
   "source": [
    "df_no_dupes['Tested'].fillna('No', inplace = True)"
   ]
  },
  {
   "cell_type": "code",
   "execution_count": 105,
   "id": "2c7b05b6-1fa2-4f06-8b86-f2f00d587dfe",
   "metadata": {
    "tags": []
   },
   "outputs": [
    {
     "data": {
      "text/plain": [
       "Tested\n",
       "No     122\n",
       "Yes     78\n",
       "Name: count, dtype: int64"
      ]
     },
     "execution_count": 105,
     "metadata": {},
     "output_type": "execute_result"
    }
   ],
   "source": [
    "df_no_dupes['Tested'].value_counts()"
   ]
  },
  {
   "cell_type": "code",
   "execution_count": 109,
   "id": "9dddcd00-9bf3-4a24-9bf2-6aa41deaf626",
   "metadata": {
    "tags": []
   },
   "outputs": [
    {
     "data": {
      "text/html": [
       "<div>\n",
       "<style scoped>\n",
       "    .dataframe tbody tr th:only-of-type {\n",
       "        vertical-align: middle;\n",
       "    }\n",
       "\n",
       "    .dataframe tbody tr th {\n",
       "        vertical-align: top;\n",
       "    }\n",
       "\n",
       "    .dataframe thead th {\n",
       "        text-align: right;\n",
       "    }\n",
       "</style>\n",
       "<table border=\"1\" class=\"dataframe\">\n",
       "  <thead>\n",
       "    <tr style=\"text-align: right;\">\n",
       "      <th></th>\n",
       "      <th>Name</th>\n",
       "      <th>Sex</th>\n",
       "      <th>Event</th>\n",
       "      <th>Equipment</th>\n",
       "      <th>Age</th>\n",
       "      <th>AgeClass</th>\n",
       "      <th>Division</th>\n",
       "      <th>BodyweightKg</th>\n",
       "      <th>WeightClassKg</th>\n",
       "      <th>Squat1Kg</th>\n",
       "      <th>...</th>\n",
       "      <th>McCulloch</th>\n",
       "      <th>Glossbrenner</th>\n",
       "      <th>IPFPoints</th>\n",
       "      <th>Tested</th>\n",
       "      <th>Country</th>\n",
       "      <th>Federation</th>\n",
       "      <th>Date</th>\n",
       "      <th>MeetCountry</th>\n",
       "      <th>MeetState</th>\n",
       "      <th>MeetName</th>\n",
       "    </tr>\n",
       "  </thead>\n",
       "  <tbody>\n",
       "    <tr>\n",
       "      <th>567018</th>\n",
       "      <td>Ray Williams #1</td>\n",
       "      <td>M</td>\n",
       "      <td>SBD</td>\n",
       "      <td>Raw</td>\n",
       "      <td>32.0</td>\n",
       "      <td>24-34</td>\n",
       "      <td>MR-O</td>\n",
       "      <td>190.40</td>\n",
       "      <td>130+ kg</td>\n",
       "      <td>450.0</td>\n",
       "      <td>...</td>\n",
       "      <td>593.83</td>\n",
       "      <td>552.62</td>\n",
       "      <td>756.73</td>\n",
       "      <td>Yes</td>\n",
       "      <td>USA</td>\n",
       "      <td>USAPL</td>\n",
       "      <td>2019-03-02</td>\n",
       "      <td>USA</td>\n",
       "      <td>OH</td>\n",
       "      <td>Arnold SBD Pro American</td>\n",
       "    </tr>\n",
       "    <tr>\n",
       "      <th>1035828</th>\n",
       "      <td>Josh Morris #1</td>\n",
       "      <td>M</td>\n",
       "      <td>SBD</td>\n",
       "      <td>Raw</td>\n",
       "      <td>27.0</td>\n",
       "      <td>24-34</td>\n",
       "      <td>Pro Open</td>\n",
       "      <td>178.81</td>\n",
       "      <td>130+ kg</td>\n",
       "      <td>NaN</td>\n",
       "      <td>...</td>\n",
       "      <td>580.50</td>\n",
       "      <td>542.58</td>\n",
       "      <td>751.37</td>\n",
       "      <td>No</td>\n",
       "      <td>NaN</td>\n",
       "      <td>RPS</td>\n",
       "      <td>2017-08-12</td>\n",
       "      <td>USA</td>\n",
       "      <td>KY</td>\n",
       "      <td>Braggin Rights</td>\n",
       "    </tr>\n",
       "    <tr>\n",
       "      <th>1010210</th>\n",
       "      <td>Eric Lilliebridge</td>\n",
       "      <td>M</td>\n",
       "      <td>SBD</td>\n",
       "      <td>Raw</td>\n",
       "      <td>26.0</td>\n",
       "      <td>24-34</td>\n",
       "      <td>MOR</td>\n",
       "      <td>138.80</td>\n",
       "      <td>130+ kg</td>\n",
       "      <td>-392.5</td>\n",
       "      <td>...</td>\n",
       "      <td>601.50</td>\n",
       "      <td>570.07</td>\n",
       "      <td>846.73</td>\n",
       "      <td>No</td>\n",
       "      <td>USA</td>\n",
       "      <td>UPA</td>\n",
       "      <td>2016-04-16</td>\n",
       "      <td>USA</td>\n",
       "      <td>IA</td>\n",
       "      <td>Powerlifting Nationals</td>\n",
       "    </tr>\n",
       "    <tr>\n",
       "      <th>628405</th>\n",
       "      <td>Kirill Sarychev</td>\n",
       "      <td>M</td>\n",
       "      <td>SBD</td>\n",
       "      <td>Raw</td>\n",
       "      <td>27.0</td>\n",
       "      <td>24-34</td>\n",
       "      <td>Open</td>\n",
       "      <td>177.40</td>\n",
       "      <td>130+ kg</td>\n",
       "      <td>310.0</td>\n",
       "      <td>...</td>\n",
       "      <td>578.54</td>\n",
       "      <td>540.98</td>\n",
       "      <td>750.22</td>\n",
       "      <td>No</td>\n",
       "      <td>Russia</td>\n",
       "      <td>WRPF</td>\n",
       "      <td>2016-11-19</td>\n",
       "      <td>Russia</td>\n",
       "      <td>NaN</td>\n",
       "      <td>Pro World Championships</td>\n",
       "    </tr>\n",
       "    <tr>\n",
       "      <th>132537</th>\n",
       "      <td>Jezza Uepa</td>\n",
       "      <td>M</td>\n",
       "      <td>SBD</td>\n",
       "      <td>Raw</td>\n",
       "      <td>37.0</td>\n",
       "      <td>35-39</td>\n",
       "      <td>Open</td>\n",
       "      <td>181.40</td>\n",
       "      <td>130+ kg</td>\n",
       "      <td>440.0</td>\n",
       "      <td>...</td>\n",
       "      <td>575.14</td>\n",
       "      <td>537.13</td>\n",
       "      <td>740.66</td>\n",
       "      <td>Yes</td>\n",
       "      <td>Nauru</td>\n",
       "      <td>PA</td>\n",
       "      <td>2017-10-21</td>\n",
       "      <td>Australia</td>\n",
       "      <td>QLD</td>\n",
       "      <td>Brisbane Open</td>\n",
       "    </tr>\n",
       "  </tbody>\n",
       "</table>\n",
       "<p>5 rows × 37 columns</p>\n",
       "</div>"
      ],
      "text/plain": [
       "                      Name Sex Event Equipment   Age AgeClass  Division  \\\n",
       "567018     Ray Williams #1   M   SBD       Raw  32.0    24-34      MR-O   \n",
       "1035828     Josh Morris #1   M   SBD       Raw  27.0    24-34  Pro Open   \n",
       "1010210  Eric Lilliebridge   M   SBD       Raw  26.0    24-34       MOR   \n",
       "628405     Kirill Sarychev   M   SBD       Raw  27.0    24-34      Open   \n",
       "132537          Jezza Uepa   M   SBD       Raw  37.0    35-39      Open   \n",
       "\n",
       "         BodyweightKg WeightClassKg  Squat1Kg  ...  McCulloch  Glossbrenner  \\\n",
       "567018         190.40       130+ kg     450.0  ...     593.83        552.62   \n",
       "1035828        178.81       130+ kg       NaN  ...     580.50        542.58   \n",
       "1010210        138.80       130+ kg    -392.5  ...     601.50        570.07   \n",
       "628405         177.40       130+ kg     310.0  ...     578.54        540.98   \n",
       "132537         181.40       130+ kg     440.0  ...     575.14        537.13   \n",
       "\n",
       "         IPFPoints  Tested  Country  Federation        Date  MeetCountry  \\\n",
       "567018      756.73     Yes      USA       USAPL  2019-03-02          USA   \n",
       "1035828     751.37      No      NaN         RPS  2017-08-12          USA   \n",
       "1010210     846.73      No      USA         UPA  2016-04-16          USA   \n",
       "628405      750.22      No   Russia        WRPF  2016-11-19       Russia   \n",
       "132537      740.66     Yes    Nauru          PA  2017-10-21    Australia   \n",
       "\n",
       "         MeetState                 MeetName  \n",
       "567018          OH  Arnold SBD Pro American  \n",
       "1035828         KY           Braggin Rights  \n",
       "1010210         IA   Powerlifting Nationals  \n",
       "628405         NaN  Pro World Championships  \n",
       "132537         QLD            Brisbane Open  \n",
       "\n",
       "[5 rows x 37 columns]"
      ]
     },
     "execution_count": 109,
     "metadata": {},
     "output_type": "execute_result"
    }
   ],
   "source": [
    "df_no_dupes.head()"
   ]
  },
  {
   "cell_type": "code",
   "execution_count": 111,
   "id": "f3b5fa0a-6508-4483-b98f-ec70253f3adc",
   "metadata": {
    "tags": []
   },
   "outputs": [
    {
     "data": {
      "text/plain": [
       "<Axes: xlabel='BodyweightKg', ylabel='Density'>"
      ]
     },
     "execution_count": 111,
     "metadata": {},
     "output_type": "execute_result"
    },
    {
     "data": {
      "image/png": "[encoded data removed]",
      "text/plain": [
       "<Figure size 640x480 with 1 Axes>"
      ]
     },
     "metadata": {},
     "output_type": "display_data"
    }
   ],
   "source": [
    "sns.kdeplot(df_no_dupes['BodyweightKg'])"
   ]
  },
  {
   "cell_type": "code",
   "execution_count": 117,
   "id": "c359d22e-a2fc-4236-8b14-d09327ae417b",
   "metadata": {
    "tags": []
   },
   "outputs": [
    {
     "data": {
      "text/plain": [
       "<Axes: xlabel='TotalKg', ylabel='Tested'>"
      ]
     },
     "execution_count": 117,
     "metadata": {},
     "output_type": "execute_result"
    },
    {
     "data": {
      "image/png": "[encoded data removed]",
      "text/plain": [
       "<Figure size 640x480 with 1 Axes>"
      ]
     },
     "metadata": {},
     "output_type": "display_data"
    }
   ],
   "source": [
    "sns.boxplot(x=df_no_dupes['TotalKg'], y=df_no_dupes['Tested'])"
   ]
  },
  {
   "cell_type": "code",
   "execution_count": 106,
   "id": "ff41fc64-07c3-4044-b75c-8dd92f840945",
   "metadata": {
    "tags": []
   },
   "outputs": [],
   "source": [
    "df_out = df_no_dupes[['Sex', 'AgeClass', 'WeightClassKg', 'Best3SquatKg', 'Best3BenchKg', \n",
    "                     'Best3DeadliftKg', 'TotalKg', 'Place', 'Tested', 'Country']]"
   ]
  },
  {
   "cell_type": "code",
   "execution_count": 107,
   "id": "36cb327b-e500-4f5e-ab22-4b5c0290c182",
   "metadata": {
    "tags": []
   },
   "outputs": [
    {
     "data": {
      "text/html": [
       "<div>\n",
       "<style scoped>\n",
       "    .dataframe tbody tr th:only-of-type {\n",
       "        vertical-align: middle;\n",
       "    }\n",
       "\n",
       "    .dataframe tbody tr th {\n",
       "        vertical-align: top;\n",
       "    }\n",
       "\n",
       "    .dataframe thead th {\n",
       "        text-align: right;\n",
       "    }\n",
       "</style>\n",
       "<table border=\"1\" class=\"dataframe\">\n",
       "  <thead>\n",
       "    <tr style=\"text-align: right;\">\n",
       "      <th></th>\n",
       "      <th>Sex</th>\n",
       "      <th>AgeClass</th>\n",
       "      <th>WeightClassKg</th>\n",
       "      <th>Best3SquatKg</th>\n",
       "      <th>Best3BenchKg</th>\n",
       "      <th>Best3DeadliftKg</th>\n",
       "      <th>TotalKg</th>\n",
       "      <th>Place</th>\n",
       "      <th>Tested</th>\n",
       "      <th>Country</th>\n",
       "    </tr>\n",
       "  </thead>\n",
       "  <tbody>\n",
       "    <tr>\n",
       "      <th>567018</th>\n",
       "      <td>M</td>\n",
       "      <td>24-34</td>\n",
       "      <td>130+ kg</td>\n",
       "      <td>490.0</td>\n",
       "      <td>247.5</td>\n",
       "      <td>375.0</td>\n",
       "      <td>1112.5</td>\n",
       "      <td>1</td>\n",
       "      <td>Yes</td>\n",
       "      <td>USA</td>\n",
       "    </tr>\n",
       "    <tr>\n",
       "      <th>1035828</th>\n",
       "      <td>M</td>\n",
       "      <td>24-34</td>\n",
       "      <td>130+ kg</td>\n",
       "      <td>417.5</td>\n",
       "      <td>250.0</td>\n",
       "      <td>410.0</td>\n",
       "      <td>1077.5</td>\n",
       "      <td>1</td>\n",
       "      <td>No</td>\n",
       "      <td>NaN</td>\n",
       "    </tr>\n",
       "    <tr>\n",
       "      <th>1010210</th>\n",
       "      <td>M</td>\n",
       "      <td>24-34</td>\n",
       "      <td>130+ kg</td>\n",
       "      <td>417.5</td>\n",
       "      <td>247.5</td>\n",
       "      <td>410.0</td>\n",
       "      <td>1075.0</td>\n",
       "      <td>1</td>\n",
       "      <td>No</td>\n",
       "      <td>USA</td>\n",
       "    </tr>\n",
       "    <tr>\n",
       "      <th>628405</th>\n",
       "      <td>M</td>\n",
       "      <td>24-34</td>\n",
       "      <td>130+ kg</td>\n",
       "      <td>350.0</td>\n",
       "      <td>320.0</td>\n",
       "      <td>402.5</td>\n",
       "      <td>1072.5</td>\n",
       "      <td>1</td>\n",
       "      <td>No</td>\n",
       "      <td>Russia</td>\n",
       "    </tr>\n",
       "    <tr>\n",
       "      <th>132537</th>\n",
       "      <td>M</td>\n",
       "      <td>35-39</td>\n",
       "      <td>130+ kg</td>\n",
       "      <td>470.0</td>\n",
       "      <td>270.0</td>\n",
       "      <td>330.0</td>\n",
       "      <td>1070.0</td>\n",
       "      <td>1</td>\n",
       "      <td>Yes</td>\n",
       "      <td>Nauru</td>\n",
       "    </tr>\n",
       "  </tbody>\n",
       "</table>\n",
       "</div>"
      ],
      "text/plain": [
       "        Sex AgeClass WeightClassKg  Best3SquatKg  Best3BenchKg  \\\n",
       "567018    M    24-34       130+ kg         490.0         247.5   \n",
       "1035828   M    24-34       130+ kg         417.5         250.0   \n",
       "1010210   M    24-34       130+ kg         417.5         247.5   \n",
       "628405    M    24-34       130+ kg         350.0         320.0   \n",
       "132537    M    35-39       130+ kg         470.0         270.0   \n",
       "\n",
       "         Best3DeadliftKg  TotalKg Place Tested Country  \n",
       "567018             375.0   1112.5     1    Yes     USA  \n",
       "1035828            410.0   1077.5     1     No     NaN  \n",
       "1010210            410.0   1075.0     1     No     USA  \n",
       "628405             402.5   1072.5     1     No  Russia  \n",
       "132537             330.0   1070.0     1    Yes   Nauru  "
      ]
     },
     "execution_count": 107,
     "metadata": {},
     "output_type": "execute_result"
    }
   ],
   "source": [
    "df_out.head()"
   ]
  },
  {
   "cell_type": "code",
   "execution_count": 108,
   "id": "be00be94-04e1-4b24-984d-215ff6f28e47",
   "metadata": {
    "tags": []
   },
   "outputs": [],
   "source": [
    "df_out.to_csv('strongest_lifters.csv', index=False)"
   ]
  }
 ],
 "metadata": {
  "kernelspec": {
   "display_name": "Python 3 (ipykernel)",
   "language": "python",
   "name": "python3"
  },
  "language_info": {
   "codemirror_mode": {
    "name": "ipython",
    "version": 3
   },
   "file_extension": ".py",
   "mimetype": "text/x-python",
   "name": "python",
   "nbconvert_exporter": "python",
   "pygments_lexer": "ipython3",
   "version": "3.11.5"
  }
 },
 "nbformat": 4,
 "nbformat_minor": 5
}
