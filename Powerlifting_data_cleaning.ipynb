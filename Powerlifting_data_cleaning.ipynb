{
 "cells": [
  {
   "cell_type": "markdown",
   "id": "b3f0f77f-e372-4ae0-8cdb-972855e70719",
   "metadata": {},
   "source": [
    "# u2001820 Powerlifting Project: Data Cleaning\n",
    "---\n",
    "We aim to investigate the powerlifting dataset available on <a href=\"https://www.kaggle.com/datasets/open-powerlifting/powerlifting-database\">Kaggle</a>."
   ]
  },
  {
   "cell_type": "code",
   "execution_count": 1,
   "id": "559e5351-30dd-42bb-a7f4-67b57a25011d",
   "metadata": {
    "tags": []
   },
   "outputs": [],
   "source": [
    "# imports\n",
    "import pandas as pd\n",
    "import numpy as np\n",
    "from matplotlib import pyplot as plt\n",
    "import seaborn as sns"
   ]
  },
  {
   "cell_type": "code",
   "execution_count": 2,
   "id": "4f2fe2d0-27c5-46a7-a001-6ec0387fc0d3",
   "metadata": {
    "tags": []
   },
   "outputs": [
    {
     "name": "stderr",
     "output_type": "stream",
     "text": [
      "C:\\Users\\asale\\AppData\\Local\\Temp\\ipykernel_12156\\2594218218.py:1: DtypeWarning: Columns (35) have mixed types. Specify dtype option on import or set low_memory=False.\n",
      "  df = pd.read_csv(\"openpowerlifting.csv\")\n"
     ]
    }
   ],
   "source": [
    "df = pd.read_csv(\"openpowerlifting.csv\")"
   ]
  },
  {
   "cell_type": "code",
   "execution_count": 3,
   "id": "8ee593ec-abab-44ce-a0ae-aafcc737cbfd",
   "metadata": {
    "tags": []
   },
   "outputs": [
    {
     "data": {
      "text/html": [
       "<div>\n",
       "<style scoped>\n",
       "    .dataframe tbody tr th:only-of-type {\n",
       "        vertical-align: middle;\n",
       "    }\n",
       "\n",
       "    .dataframe tbody tr th {\n",
       "        vertical-align: top;\n",
       "    }\n",
       "\n",
       "    .dataframe thead th {\n",
       "        text-align: right;\n",
       "    }\n",
       "</style>\n",
       "<table border=\"1\" class=\"dataframe\">\n",
       "  <thead>\n",
       "    <tr style=\"text-align: right;\">\n",
       "      <th></th>\n",
       "      <th>Name</th>\n",
       "      <th>Sex</th>\n",
       "      <th>Event</th>\n",
       "      <th>Equipment</th>\n",
       "      <th>Age</th>\n",
       "      <th>AgeClass</th>\n",
       "      <th>Division</th>\n",
       "      <th>BodyweightKg</th>\n",
       "      <th>WeightClassKg</th>\n",
       "      <th>Squat1Kg</th>\n",
       "      <th>...</th>\n",
       "      <th>McCulloch</th>\n",
       "      <th>Glossbrenner</th>\n",
       "      <th>IPFPoints</th>\n",
       "      <th>Tested</th>\n",
       "      <th>Country</th>\n",
       "      <th>Federation</th>\n",
       "      <th>Date</th>\n",
       "      <th>MeetCountry</th>\n",
       "      <th>MeetState</th>\n",
       "      <th>MeetName</th>\n",
       "    </tr>\n",
       "  </thead>\n",
       "  <tbody>\n",
       "    <tr>\n",
       "      <th>0</th>\n",
       "      <td>Abbie Murphy</td>\n",
       "      <td>F</td>\n",
       "      <td>SBD</td>\n",
       "      <td>Wraps</td>\n",
       "      <td>29.0</td>\n",
       "      <td>24-34</td>\n",
       "      <td>F-OR</td>\n",
       "      <td>59.8</td>\n",
       "      <td>60</td>\n",
       "      <td>80.0</td>\n",
       "      <td>...</td>\n",
       "      <td>324.16</td>\n",
       "      <td>286.42</td>\n",
       "      <td>511.15</td>\n",
       "      <td>NaN</td>\n",
       "      <td>NaN</td>\n",
       "      <td>GPC-AUS</td>\n",
       "      <td>2018-10-27</td>\n",
       "      <td>Australia</td>\n",
       "      <td>VIC</td>\n",
       "      <td>Melbourne Cup</td>\n",
       "    </tr>\n",
       "    <tr>\n",
       "      <th>1</th>\n",
       "      <td>Abbie Tuong</td>\n",
       "      <td>F</td>\n",
       "      <td>SBD</td>\n",
       "      <td>Wraps</td>\n",
       "      <td>29.0</td>\n",
       "      <td>24-34</td>\n",
       "      <td>F-OR</td>\n",
       "      <td>58.5</td>\n",
       "      <td>60</td>\n",
       "      <td>100.0</td>\n",
       "      <td>...</td>\n",
       "      <td>378.07</td>\n",
       "      <td>334.16</td>\n",
       "      <td>595.65</td>\n",
       "      <td>NaN</td>\n",
       "      <td>NaN</td>\n",
       "      <td>GPC-AUS</td>\n",
       "      <td>2018-10-27</td>\n",
       "      <td>Australia</td>\n",
       "      <td>VIC</td>\n",
       "      <td>Melbourne Cup</td>\n",
       "    </tr>\n",
       "    <tr>\n",
       "      <th>2</th>\n",
       "      <td>Ainslee Hooper</td>\n",
       "      <td>F</td>\n",
       "      <td>B</td>\n",
       "      <td>Raw</td>\n",
       "      <td>40.0</td>\n",
       "      <td>40-44</td>\n",
       "      <td>F-OR</td>\n",
       "      <td>55.4</td>\n",
       "      <td>56</td>\n",
       "      <td>NaN</td>\n",
       "      <td>...</td>\n",
       "      <td>38.56</td>\n",
       "      <td>34.12</td>\n",
       "      <td>313.97</td>\n",
       "      <td>NaN</td>\n",
       "      <td>NaN</td>\n",
       "      <td>GPC-AUS</td>\n",
       "      <td>2018-10-27</td>\n",
       "      <td>Australia</td>\n",
       "      <td>VIC</td>\n",
       "      <td>Melbourne Cup</td>\n",
       "    </tr>\n",
       "    <tr>\n",
       "      <th>3</th>\n",
       "      <td>Amy Moldenhauer</td>\n",
       "      <td>F</td>\n",
       "      <td>SBD</td>\n",
       "      <td>Wraps</td>\n",
       "      <td>23.0</td>\n",
       "      <td>20-23</td>\n",
       "      <td>F-OR</td>\n",
       "      <td>60.0</td>\n",
       "      <td>60</td>\n",
       "      <td>-105.0</td>\n",
       "      <td>...</td>\n",
       "      <td>345.61</td>\n",
       "      <td>305.37</td>\n",
       "      <td>547.04</td>\n",
       "      <td>NaN</td>\n",
       "      <td>NaN</td>\n",
       "      <td>GPC-AUS</td>\n",
       "      <td>2018-10-27</td>\n",
       "      <td>Australia</td>\n",
       "      <td>VIC</td>\n",
       "      <td>Melbourne Cup</td>\n",
       "    </tr>\n",
       "    <tr>\n",
       "      <th>4</th>\n",
       "      <td>Andrea Rowan</td>\n",
       "      <td>F</td>\n",
       "      <td>SBD</td>\n",
       "      <td>Wraps</td>\n",
       "      <td>45.0</td>\n",
       "      <td>45-49</td>\n",
       "      <td>F-OR</td>\n",
       "      <td>104.0</td>\n",
       "      <td>110</td>\n",
       "      <td>120.0</td>\n",
       "      <td>...</td>\n",
       "      <td>338.91</td>\n",
       "      <td>274.56</td>\n",
       "      <td>550.08</td>\n",
       "      <td>NaN</td>\n",
       "      <td>NaN</td>\n",
       "      <td>GPC-AUS</td>\n",
       "      <td>2018-10-27</td>\n",
       "      <td>Australia</td>\n",
       "      <td>VIC</td>\n",
       "      <td>Melbourne Cup</td>\n",
       "    </tr>\n",
       "  </tbody>\n",
       "</table>\n",
       "<p>5 rows × 37 columns</p>\n",
       "</div>"
      ],
      "text/plain": [
       "              Name Sex Event Equipment   Age AgeClass Division  BodyweightKg  \\\n",
       "0     Abbie Murphy   F   SBD     Wraps  29.0    24-34     F-OR          59.8   \n",
       "1      Abbie Tuong   F   SBD     Wraps  29.0    24-34     F-OR          58.5   \n",
       "2   Ainslee Hooper   F     B       Raw  40.0    40-44     F-OR          55.4   \n",
       "3  Amy Moldenhauer   F   SBD     Wraps  23.0    20-23     F-OR          60.0   \n",
       "4     Andrea Rowan   F   SBD     Wraps  45.0    45-49     F-OR         104.0   \n",
       "\n",
       "  WeightClassKg  Squat1Kg  ...  McCulloch  Glossbrenner  IPFPoints  Tested  \\\n",
       "0            60      80.0  ...     324.16        286.42     511.15     NaN   \n",
       "1            60     100.0  ...     378.07        334.16     595.65     NaN   \n",
       "2            56       NaN  ...      38.56         34.12     313.97     NaN   \n",
       "3            60    -105.0  ...     345.61        305.37     547.04     NaN   \n",
       "4           110     120.0  ...     338.91        274.56     550.08     NaN   \n",
       "\n",
       "   Country  Federation        Date  MeetCountry  MeetState       MeetName  \n",
       "0      NaN     GPC-AUS  2018-10-27    Australia        VIC  Melbourne Cup  \n",
       "1      NaN     GPC-AUS  2018-10-27    Australia        VIC  Melbourne Cup  \n",
       "2      NaN     GPC-AUS  2018-10-27    Australia        VIC  Melbourne Cup  \n",
       "3      NaN     GPC-AUS  2018-10-27    Australia        VIC  Melbourne Cup  \n",
       "4      NaN     GPC-AUS  2018-10-27    Australia        VIC  Melbourne Cup  \n",
       "\n",
       "[5 rows x 37 columns]"
      ]
     },
     "execution_count": 3,
     "metadata": {},
     "output_type": "execute_result"
    }
   ],
   "source": [
    "df.head()"
   ]
  },
  {
   "cell_type": "code",
   "execution_count": 6,
   "id": "bd8a32d0-984c-411f-8937-f446a1aec5c6",
   "metadata": {
    "tags": []
   },
   "outputs": [
    {
     "data": {
      "text/html": [
       "<div>\n",
       "<style scoped>\n",
       "    .dataframe tbody tr th:only-of-type {\n",
       "        vertical-align: middle;\n",
       "    }\n",
       "\n",
       "    .dataframe tbody tr th {\n",
       "        vertical-align: top;\n",
       "    }\n",
       "\n",
       "    .dataframe thead th {\n",
       "        text-align: right;\n",
       "    }\n",
       "</style>\n",
       "<table border=\"1\" class=\"dataframe\">\n",
       "  <thead>\n",
       "    <tr style=\"text-align: right;\">\n",
       "      <th></th>\n",
       "      <th>Age</th>\n",
       "      <th>BodyweightKg</th>\n",
       "      <th>Squat1Kg</th>\n",
       "      <th>Squat2Kg</th>\n",
       "      <th>Squat3Kg</th>\n",
       "      <th>Squat4Kg</th>\n",
       "      <th>Best3SquatKg</th>\n",
       "      <th>Bench1Kg</th>\n",
       "      <th>Bench2Kg</th>\n",
       "      <th>Bench3Kg</th>\n",
       "      <th>...</th>\n",
       "      <th>Deadlift1Kg</th>\n",
       "      <th>Deadlift2Kg</th>\n",
       "      <th>Deadlift3Kg</th>\n",
       "      <th>Deadlift4Kg</th>\n",
       "      <th>Best3DeadliftKg</th>\n",
       "      <th>TotalKg</th>\n",
       "      <th>Wilks</th>\n",
       "      <th>McCulloch</th>\n",
       "      <th>Glossbrenner</th>\n",
       "      <th>IPFPoints</th>\n",
       "    </tr>\n",
       "  </thead>\n",
       "  <tbody>\n",
       "    <tr>\n",
       "      <th>count</th>\n",
       "      <td>757527.000000</td>\n",
       "      <td>1.406622e+06</td>\n",
       "      <td>337580.000000</td>\n",
       "      <td>333349.000000</td>\n",
       "      <td>323842.000000</td>\n",
       "      <td>3696.000000</td>\n",
       "      <td>1.031450e+06</td>\n",
       "      <td>499779.000000</td>\n",
       "      <td>493486.000000</td>\n",
       "      <td>478485.000000</td>\n",
       "      <td>...</td>\n",
       "      <td>363544.000000</td>\n",
       "      <td>356023.000000</td>\n",
       "      <td>339947.000000</td>\n",
       "      <td>9246.000000</td>\n",
       "      <td>1.081808e+06</td>\n",
       "      <td>1.313184e+06</td>\n",
       "      <td>1.304407e+06</td>\n",
       "      <td>1.304254e+06</td>\n",
       "      <td>1.304407e+06</td>\n",
       "      <td>1.273286e+06</td>\n",
       "    </tr>\n",
       "    <tr>\n",
       "      <th>mean</th>\n",
       "      <td>31.501570</td>\n",
       "      <td>8.422503e+01</td>\n",
       "      <td>114.102442</td>\n",
       "      <td>92.155846</td>\n",
       "      <td>30.056842</td>\n",
       "      <td>71.356870</td>\n",
       "      <td>1.740049e+02</td>\n",
       "      <td>83.892373</td>\n",
       "      <td>55.065745</td>\n",
       "      <td>-18.520481</td>\n",
       "      <td>...</td>\n",
       "      <td>162.700840</td>\n",
       "      <td>130.228378</td>\n",
       "      <td>12.995484</td>\n",
       "      <td>78.914945</td>\n",
       "      <td>1.872585e+02</td>\n",
       "      <td>3.956148e+02</td>\n",
       "      <td>2.882247e+02</td>\n",
       "      <td>2.960682e+02</td>\n",
       "      <td>2.718484e+02</td>\n",
       "      <td>4.854330e+02</td>\n",
       "    </tr>\n",
       "    <tr>\n",
       "      <th>std</th>\n",
       "      <td>13.371707</td>\n",
       "      <td>2.322011e+01</td>\n",
       "      <td>147.143021</td>\n",
       "      <td>173.701524</td>\n",
       "      <td>200.413385</td>\n",
       "      <td>194.522045</td>\n",
       "      <td>6.923931e+01</td>\n",
       "      <td>105.196350</td>\n",
       "      <td>130.302229</td>\n",
       "      <td>144.225726</td>\n",
       "      <td>...</td>\n",
       "      <td>108.681438</td>\n",
       "      <td>162.680134</td>\n",
       "      <td>215.052488</td>\n",
       "      <td>192.605159</td>\n",
       "      <td>6.232821e+01</td>\n",
       "      <td>2.011420e+02</td>\n",
       "      <td>1.231805e+02</td>\n",
       "      <td>1.249700e+02</td>\n",
       "      <td>1.175571e+02</td>\n",
       "      <td>1.133489e+02</td>\n",
       "    </tr>\n",
       "    <tr>\n",
       "      <th>min</th>\n",
       "      <td>0.000000</td>\n",
       "      <td>1.510000e+01</td>\n",
       "      <td>-555.000000</td>\n",
       "      <td>-580.000000</td>\n",
       "      <td>-600.500000</td>\n",
       "      <td>-550.000000</td>\n",
       "      <td>-4.775000e+02</td>\n",
       "      <td>-480.000000</td>\n",
       "      <td>-507.500000</td>\n",
       "      <td>-575.000000</td>\n",
       "      <td>...</td>\n",
       "      <td>-461.000000</td>\n",
       "      <td>-470.000000</td>\n",
       "      <td>-587.500000</td>\n",
       "      <td>-461.000000</td>\n",
       "      <td>-4.100000e+02</td>\n",
       "      <td>2.500000e+00</td>\n",
       "      <td>1.470000e+00</td>\n",
       "      <td>1.470000e+00</td>\n",
       "      <td>1.410000e+00</td>\n",
       "      <td>2.160000e+00</td>\n",
       "    </tr>\n",
       "    <tr>\n",
       "      <th>25%</th>\n",
       "      <td>21.000000</td>\n",
       "      <td>6.670000e+01</td>\n",
       "      <td>90.000000</td>\n",
       "      <td>68.000000</td>\n",
       "      <td>-167.500000</td>\n",
       "      <td>-107.840000</td>\n",
       "      <td>1.224700e+02</td>\n",
       "      <td>57.500000</td>\n",
       "      <td>-52.500000</td>\n",
       "      <td>-140.000000</td>\n",
       "      <td>...</td>\n",
       "      <td>125.000000</td>\n",
       "      <td>115.000000</td>\n",
       "      <td>-210.000000</td>\n",
       "      <td>-110.000000</td>\n",
       "      <td>1.383500e+02</td>\n",
       "      <td>2.325000e+02</td>\n",
       "      <td>1.979000e+02</td>\n",
       "      <td>2.048200e+02</td>\n",
       "      <td>1.828100e+02</td>\n",
       "      <td>4.028600e+02</td>\n",
       "    </tr>\n",
       "    <tr>\n",
       "      <th>50%</th>\n",
       "      <td>28.000000</td>\n",
       "      <td>8.180000e+01</td>\n",
       "      <td>147.500000</td>\n",
       "      <td>145.000000</td>\n",
       "      <td>110.000000</td>\n",
       "      <td>135.000000</td>\n",
       "      <td>1.678300e+02</td>\n",
       "      <td>105.000000</td>\n",
       "      <td>95.000000</td>\n",
       "      <td>-60.000000</td>\n",
       "      <td>...</td>\n",
       "      <td>180.000000</td>\n",
       "      <td>177.500000</td>\n",
       "      <td>117.500000</td>\n",
       "      <td>145.150000</td>\n",
       "      <td>1.850000e+02</td>\n",
       "      <td>3.787500e+02</td>\n",
       "      <td>3.052000e+02</td>\n",
       "      <td>3.120300e+02</td>\n",
       "      <td>2.859400e+02</td>\n",
       "      <td>4.780500e+02</td>\n",
       "    </tr>\n",
       "    <tr>\n",
       "      <th>75%</th>\n",
       "      <td>40.000000</td>\n",
       "      <td>9.915000e+01</td>\n",
       "      <td>200.000000</td>\n",
       "      <td>205.000000</td>\n",
       "      <td>192.500000</td>\n",
       "      <td>205.000000</td>\n",
       "      <td>2.175000e+02</td>\n",
       "      <td>145.000000</td>\n",
       "      <td>145.000000</td>\n",
       "      <td>117.500000</td>\n",
       "      <td>...</td>\n",
       "      <td>226.800000</td>\n",
       "      <td>230.000000</td>\n",
       "      <td>205.000000</td>\n",
       "      <td>210.000000</td>\n",
       "      <td>2.300000e+02</td>\n",
       "      <td>5.400000e+02</td>\n",
       "      <td>3.745600e+02</td>\n",
       "      <td>3.837600e+02</td>\n",
       "      <td>3.552800e+02</td>\n",
       "      <td>5.597000e+02</td>\n",
       "    </tr>\n",
       "    <tr>\n",
       "      <th>max</th>\n",
       "      <td>97.000000</td>\n",
       "      <td>2.580000e+02</td>\n",
       "      <td>555.000000</td>\n",
       "      <td>566.990000</td>\n",
       "      <td>560.000000</td>\n",
       "      <td>505.500000</td>\n",
       "      <td>5.750000e+02</td>\n",
       "      <td>467.500000</td>\n",
       "      <td>487.500000</td>\n",
       "      <td>478.540000</td>\n",
       "      <td>...</td>\n",
       "      <td>450.000000</td>\n",
       "      <td>460.400000</td>\n",
       "      <td>457.500000</td>\n",
       "      <td>418.000000</td>\n",
       "      <td>5.850000e+02</td>\n",
       "      <td>1.367500e+03</td>\n",
       "      <td>7.793800e+02</td>\n",
       "      <td>8.044000e+02</td>\n",
       "      <td>7.429600e+02</td>\n",
       "      <td>1.245930e+03</td>\n",
       "    </tr>\n",
       "  </tbody>\n",
       "</table>\n",
       "<p>8 rows × 22 columns</p>\n",
       "</div>"
      ],
      "text/plain": [
       "                 Age  BodyweightKg       Squat1Kg       Squat2Kg  \\\n",
       "count  757527.000000  1.406622e+06  337580.000000  333349.000000   \n",
       "mean       31.501570  8.422503e+01     114.102442      92.155846   \n",
       "std        13.371707  2.322011e+01     147.143021     173.701524   \n",
       "min         0.000000  1.510000e+01    -555.000000    -580.000000   \n",
       "25%        21.000000  6.670000e+01      90.000000      68.000000   \n",
       "50%        28.000000  8.180000e+01     147.500000     145.000000   \n",
       "75%        40.000000  9.915000e+01     200.000000     205.000000   \n",
       "max        97.000000  2.580000e+02     555.000000     566.990000   \n",
       "\n",
       "            Squat3Kg     Squat4Kg  Best3SquatKg       Bench1Kg       Bench2Kg  \\\n",
       "count  323842.000000  3696.000000  1.031450e+06  499779.000000  493486.000000   \n",
       "mean       30.056842    71.356870  1.740049e+02      83.892373      55.065745   \n",
       "std       200.413385   194.522045  6.923931e+01     105.196350     130.302229   \n",
       "min      -600.500000  -550.000000 -4.775000e+02    -480.000000    -507.500000   \n",
       "25%      -167.500000  -107.840000  1.224700e+02      57.500000     -52.500000   \n",
       "50%       110.000000   135.000000  1.678300e+02     105.000000      95.000000   \n",
       "75%       192.500000   205.000000  2.175000e+02     145.000000     145.000000   \n",
       "max       560.000000   505.500000  5.750000e+02     467.500000     487.500000   \n",
       "\n",
       "            Bench3Kg  ...    Deadlift1Kg    Deadlift2Kg    Deadlift3Kg  \\\n",
       "count  478485.000000  ...  363544.000000  356023.000000  339947.000000   \n",
       "mean      -18.520481  ...     162.700840     130.228378      12.995484   \n",
       "std       144.225726  ...     108.681438     162.680134     215.052488   \n",
       "min      -575.000000  ...    -461.000000    -470.000000    -587.500000   \n",
       "25%      -140.000000  ...     125.000000     115.000000    -210.000000   \n",
       "50%       -60.000000  ...     180.000000     177.500000     117.500000   \n",
       "75%       117.500000  ...     226.800000     230.000000     205.000000   \n",
       "max       478.540000  ...     450.000000     460.400000     457.500000   \n",
       "\n",
       "       Deadlift4Kg  Best3DeadliftKg       TotalKg         Wilks     McCulloch  \\\n",
       "count  9246.000000     1.081808e+06  1.313184e+06  1.304407e+06  1.304254e+06   \n",
       "mean     78.914945     1.872585e+02  3.956148e+02  2.882247e+02  2.960682e+02   \n",
       "std     192.605159     6.232821e+01  2.011420e+02  1.231805e+02  1.249700e+02   \n",
       "min    -461.000000    -4.100000e+02  2.500000e+00  1.470000e+00  1.470000e+00   \n",
       "25%    -110.000000     1.383500e+02  2.325000e+02  1.979000e+02  2.048200e+02   \n",
       "50%     145.150000     1.850000e+02  3.787500e+02  3.052000e+02  3.120300e+02   \n",
       "75%     210.000000     2.300000e+02  5.400000e+02  3.745600e+02  3.837600e+02   \n",
       "max     418.000000     5.850000e+02  1.367500e+03  7.793800e+02  8.044000e+02   \n",
       "\n",
       "       Glossbrenner     IPFPoints  \n",
       "count  1.304407e+06  1.273286e+06  \n",
       "mean   2.718484e+02  4.854330e+02  \n",
       "std    1.175571e+02  1.133489e+02  \n",
       "min    1.410000e+00  2.160000e+00  \n",
       "25%    1.828100e+02  4.028600e+02  \n",
       "50%    2.859400e+02  4.780500e+02  \n",
       "75%    3.552800e+02  5.597000e+02  \n",
       "max    7.429600e+02  1.245930e+03  \n",
       "\n",
       "[8 rows x 22 columns]"
      ]
     },
     "execution_count": 6,
     "metadata": {},
     "output_type": "execute_result"
    }
   ],
   "source": [
    "df.describe()"
   ]
  },
  {
   "cell_type": "code",
   "execution_count": 7,
   "id": "61609243-af45-415f-89d5-078ca6f053ba",
   "metadata": {
    "tags": []
   },
   "outputs": [
    {
     "name": "stdout",
     "output_type": "stream",
     "text": [
      "<class 'pandas.core.frame.DataFrame'>\n",
      "RangeIndex: 1423354 entries, 0 to 1423353\n",
      "Data columns (total 37 columns):\n",
      " #   Column           Non-Null Count    Dtype  \n",
      "---  ------           --------------    -----  \n",
      " 0   Name             1423354 non-null  object \n",
      " 1   Sex              1423354 non-null  object \n",
      " 2   Event            1423354 non-null  object \n",
      " 3   Equipment        1423354 non-null  object \n",
      " 4   Age              757527 non-null   float64\n",
      " 5   AgeClass         786800 non-null   object \n",
      " 6   Division         1415176 non-null  object \n",
      " 7   BodyweightKg     1406622 non-null  float64\n",
      " 8   WeightClassKg    1410042 non-null  object \n",
      " 9   Squat1Kg         337580 non-null   float64\n",
      " 10  Squat2Kg         333349 non-null   float64\n",
      " 11  Squat3Kg         323842 non-null   float64\n",
      " 12  Squat4Kg         3696 non-null     float64\n",
      " 13  Best3SquatKg     1031450 non-null  float64\n",
      " 14  Bench1Kg         499779 non-null   float64\n",
      " 15  Bench2Kg         493486 non-null   float64\n",
      " 16  Bench3Kg         478485 non-null   float64\n",
      " 17  Bench4Kg         9505 non-null     float64\n",
      " 18  Best3BenchKg     1276181 non-null  float64\n",
      " 19  Deadlift1Kg      363544 non-null   float64\n",
      " 20  Deadlift2Kg      356023 non-null   float64\n",
      " 21  Deadlift3Kg      339947 non-null   float64\n",
      " 22  Deadlift4Kg      9246 non-null     float64\n",
      " 23  Best3DeadliftKg  1081808 non-null  float64\n",
      " 24  TotalKg          1313184 non-null  float64\n",
      " 25  Place            1423354 non-null  object \n",
      " 26  Wilks            1304407 non-null  float64\n",
      " 27  McCulloch        1304254 non-null  float64\n",
      " 28  Glossbrenner     1304407 non-null  float64\n",
      " 29  IPFPoints        1273286 non-null  float64\n",
      " 30  Tested           1093892 non-null  object \n",
      " 31  Country          388884 non-null   object \n",
      " 32  Federation       1423354 non-null  object \n",
      " 33  Date             1423354 non-null  object \n",
      " 34  MeetCountry      1423354 non-null  object \n",
      " 35  MeetState        941545 non-null   object \n",
      " 36  MeetName         1423354 non-null  object \n",
      "dtypes: float64(22), object(15)\n",
      "memory usage: 401.8+ MB\n"
     ]
    }
   ],
   "source": [
    "df.info()"
   ]
  },
  {
   "cell_type": "markdown",
   "id": "06f739c0-54b3-46d2-9792-0de547d3394b",
   "metadata": {},
   "source": [
    "## Dropping rows/data imputation\n",
    "The raw dataset contains 1,423,354 rows of data. The dataset is a combination of two smaller datasets. We now drop rows/impute values according to the following:\n",
    "* Dropping Events other than 'SBD', as we are interested in individuals competing in all three major lifts.\n",
    "* Dropping rows with both Age and AgeClass empty for simplicity. If a row has an age but not an age class, then we assign the correct AgeClass. In the converse case, we take the average age of the age class and assign that as the lifter's age.\n",
    "* Removing the 4th attempt columns, because only the first 3 attempts of each candidate count towards total weight lifted and competition placement.\n",
    "* Best squat, bench and deadlift: there are a lot of values in the best lifts columns that have not been filled in, which we take care of below, simply by taking the maximum of the competitors' 3 qualifying lifts in each area.\n",
    "* Filling in the TotalKg: once the best squat, bench and deadlift values has been imputed/filled in for every competitor, we can fill in any missing TotalKg values simply by summing up the values in the three 'best' columns."
   ]
  },
  {
   "cell_type": "markdown",
   "id": "36330282-5b3c-4694-830e-3dc2e82ccc36",
   "metadata": {
    "tags": []
   },
   "source": [
    "### Filtering Events"
   ]
  },
  {
   "cell_type": "code",
   "execution_count": 27,
   "id": "0a84e8b9-879d-4ed1-889a-4e6bc32215c1",
   "metadata": {
    "tags": []
   },
   "outputs": [],
   "source": [
    "df_new = df[df[\"Event\"] == \"SBD\"]"
   ]
  },
  {
   "cell_type": "markdown",
   "id": "2918edb6-bee6-490d-b995-850e903934cc",
   "metadata": {
    "tags": []
   },
   "source": [
    "### Filtering Age and AgeClass"
   ]
  },
  {
   "cell_type": "code",
   "execution_count": 28,
   "id": "2c6f15ef-d10e-422d-a6ba-a954bc3ca985",
   "metadata": {},
   "outputs": [
    {
     "data": {
      "text/plain": [
       "573802"
      ]
     },
     "execution_count": 28,
     "metadata": {},
     "output_type": "execute_result"
    }
   ],
   "source": [
    "df_new['Age'].isnull().sum()"
   ]
  },
  {
   "cell_type": "code",
   "execution_count": 29,
   "id": "bd608006-d524-4222-b12d-293621621251",
   "metadata": {
    "tags": []
   },
   "outputs": [
    {
     "data": {
      "text/plain": [
       "Age\n",
       "17.5    19044\n",
       "22.5    17670\n",
       "21.5    16994\n",
       "18.5    16539\n",
       "20.5    15923\n",
       "        ...  \n",
       "2.0         2\n",
       "95.5        1\n",
       "93.5        1\n",
       "3.0         1\n",
       "88.0        1\n",
       "Name: count, Length: 186, dtype: int64"
      ]
     },
     "execution_count": 29,
     "metadata": {},
     "output_type": "execute_result"
    }
   ],
   "source": [
    "df_new['Age'].value_counts()"
   ]
  },
  {
   "cell_type": "code",
   "execution_count": 30,
   "id": "c18d6120-c5f3-4469-83c8-af776f6a4266",
   "metadata": {
    "tags": []
   },
   "outputs": [
    {
     "data": {
      "text/plain": [
       "array(['24-34', '20-23', '45-49', '35-39', '18-19', '50-54', '40-44',\n",
       "       '16-17', '80-999', '70-74', nan, '65-69', '13-15', '60-64',\n",
       "       '55-59', '75-79', '5-12'], dtype=object)"
      ]
     },
     "execution_count": 30,
     "metadata": {},
     "output_type": "execute_result"
    }
   ],
   "source": [
    "df_new['AgeClass'].unique()"
   ]
  },
  {
   "cell_type": "code",
   "execution_count": 31,
   "id": "1cc14e59-6368-4ab9-8dd0-53e90848ab24",
   "metadata": {
    "tags": []
   },
   "outputs": [
    {
     "data": {
      "text/plain": [
       "555719"
      ]
     },
     "execution_count": 31,
     "metadata": {},
     "output_type": "execute_result"
    }
   ],
   "source": [
    "df_new['AgeClass'].isnull().sum()"
   ]
  },
  {
   "cell_type": "code",
   "execution_count": 32,
   "id": "6ba637b8-20ac-4a5a-a8ef-73eb495e4f63",
   "metadata": {
    "tags": []
   },
   "outputs": [
    {
     "data": {
      "text/plain": [
       "AgeClass\n",
       "24-34     165935\n",
       "20-23     105165\n",
       "18-19      50053\n",
       "35-39      38695\n",
       "40-44      35197\n",
       "16-17      34928\n",
       "45-49      24116\n",
       "13-15      19372\n",
       "50-54      18187\n",
       "55-59      10487\n",
       "60-64       6837\n",
       "65-69       3803\n",
       "70-74       2266\n",
       "5-12        1344\n",
       "75-79        873\n",
       "80-999       260\n",
       "Name: count, dtype: int64"
      ]
     },
     "execution_count": 32,
     "metadata": {},
     "output_type": "execute_result"
    }
   ],
   "source": [
    "df_new['AgeClass'].value_counts()"
   ]
  },
  {
   "cell_type": "code",
   "execution_count": 33,
   "id": "2c658655-9417-4f87-b427-716f0f7b71e5",
   "metadata": {
    "tags": []
   },
   "outputs": [],
   "source": [
    "# dropping rows where BOTH Age and AgeClass are empty\n",
    "df_new = df_new[(df_new['Age'].isnull() == False) | (df_new['AgeClass'].isnull() == False)]"
   ]
  },
  {
   "cell_type": "code",
   "execution_count": 34,
   "id": "e9128ef4-40d4-4cca-beb6-cb30dc957167",
   "metadata": {
    "tags": []
   },
   "outputs": [
    {
     "data": {
      "text/plain": [
       "18185"
      ]
     },
     "execution_count": 34,
     "metadata": {},
     "output_type": "execute_result"
    }
   ],
   "source": [
    "df_new['Age'].isnull().sum()"
   ]
  },
  {
   "cell_type": "code",
   "execution_count": 35,
   "id": "73c900d1-9738-4210-838f-b3441ff92b6c",
   "metadata": {
    "tags": []
   },
   "outputs": [
    {
     "data": {
      "text/plain": [
       "102"
      ]
     },
     "execution_count": 35,
     "metadata": {},
     "output_type": "execute_result"
    }
   ],
   "source": [
    "df_new['AgeClass'].isnull().sum()"
   ]
  },
  {
   "cell_type": "code",
   "execution_count": 36,
   "id": "ba8b7255-6443-4e38-8787-fe71f8c4b55f",
   "metadata": {
    "tags": []
   },
   "outputs": [
    {
     "name": "stdout",
     "output_type": "stream",
     "text": [
      "['24-34', '20-23', '45-49', '35-39', '18-19', '50-54', '40-44', '16-17', '80-999', '70-74', '65-69', '13-15', '60-64', '55-59', '75-79', '5-12', nan]\n"
     ]
    }
   ],
   "source": [
    "age_classes = df_new['AgeClass'].unique().tolist()\n",
    "print(age_classes)"
   ]
  },
  {
   "cell_type": "code",
   "execution_count": 37,
   "id": "f1d6d74e-8dad-4aeb-a6bf-ce46dca9f344",
   "metadata": {
    "tags": []
   },
   "outputs": [
    {
     "name": "stdout",
     "output_type": "stream",
     "text": [
      "{'24-34': 29, '20-23': 21.5, '45-49': 47, '35-39': 37, '18-19': 18.5, '50-54': 52, '40-44': 42, '16-17': 16.5, '80-999': 80, '70-74': 72, '65-69': 67, '13-15': 14, '60-64': 62, '55-59': 57, '75-79': 77, '5-12': 8.5}\n",
      "{29: '24-34', 21.5: '20-23', 47: '45-49', 37: '35-39', 18.5: '18-19', 52: '50-54', 42: '40-44', 16.5: '16-17', 80: '80-999', 72: '70-74', 67: '65-69', 14: '13-15', 62: '60-64', 57: '55-59', 77: '75-79', 8.5: '5-12'}\n"
     ]
    }
   ],
   "source": [
    "# taking the average age of each age class\n",
    "ages = [29, 21.5, 47, 37, 18.5, 52, 42, 16.5, 80, 72, 67, 14, 62, 57, 77, 8.5]\n",
    "classes = age_classes[:-1]\n",
    "\n",
    "age_to_class = dict(zip(ages, classes))\n",
    "class_to_age = dict(zip(classes, ages))\n",
    "print(class_to_age)\n",
    "print(age_to_class)"
   ]
  },
  {
   "cell_type": "code",
   "execution_count": 38,
   "id": "011ed785-5fa7-45bd-b19a-40aed2dbd1d5",
   "metadata": {
    "tags": []
   },
   "outputs": [],
   "source": [
    "# Filling missing values in 'Age' based on 'AgeClass' using the dictionary\n",
    "df_new['Age'] = df_new.apply(lambda row: class_to_age[row['AgeClass']] if pd.isnull(row['Age']) else row['Age'], axis=1)"
   ]
  },
  {
   "cell_type": "code",
   "execution_count": 39,
   "id": "c65dc3f8-298e-4072-8b52-8582269c144a",
   "metadata": {
    "tags": []
   },
   "outputs": [
    {
     "data": {
      "text/plain": [
       "0"
      ]
     },
     "execution_count": 39,
     "metadata": {},
     "output_type": "execute_result"
    }
   ],
   "source": [
    "df_new['Age'].isnull().sum()"
   ]
  },
  {
   "cell_type": "code",
   "execution_count": 40,
   "id": "fe8fdc49-0121-4319-ae4e-0df74a5c4fbf",
   "metadata": {
    "tags": []
   },
   "outputs": [
    {
     "name": "stdout",
     "output_type": "stream",
     "text": [
      "The key closest to 15 is: 14\n"
     ]
    }
   ],
   "source": [
    "# figuring out how to fill in the AgeClass given the age\n",
    "target_value = 15\n",
    "closest_key = min(age_to_class, key=lambda x: abs(x - target_value))\n",
    "\n",
    "print(f\"The key closest to {target_value} is: {closest_key}\")"
   ]
  },
  {
   "cell_type": "code",
   "execution_count": 41,
   "id": "4e3a3d9c-209f-41d8-bb47-ca35525e7967",
   "metadata": {
    "tags": []
   },
   "outputs": [],
   "source": [
    "# Filling missing values in 'AgeClass' based on 'Age' using smallest distance away from the key\n",
    "df_new['AgeClass'] = df_new.apply(lambda row: age_to_class[min(age_to_class, key=lambda x: abs(x - row['Age']))] if pd.isnull(row['AgeClass']) else row['AgeClass'], axis=1)"
   ]
  },
  {
   "cell_type": "code",
   "execution_count": 42,
   "id": "b72bb1fb-c046-4767-aeae-d08eb8b70f26",
   "metadata": {
    "tags": []
   },
   "outputs": [
    {
     "data": {
      "text/plain": [
       "0"
      ]
     },
     "execution_count": 42,
     "metadata": {},
     "output_type": "execute_result"
    }
   ],
   "source": [
    "df_new['AgeClass'].isnull().sum()"
   ]
  },
  {
   "cell_type": "markdown",
   "id": "fca7c0e3-7838-4eba-9e93-4d775602a31d",
   "metadata": {},
   "source": [
    "### Dropping the 4th attempts of SBD"
   ]
  },
  {
   "cell_type": "code",
   "execution_count": 43,
   "id": "57390ff5-4572-4278-9cf1-03c1f1989520",
   "metadata": {
    "tags": []
   },
   "outputs": [
    {
     "name": "stdout",
     "output_type": "stream",
     "text": [
      "514423\n",
      "514891\n",
      "512913\n"
     ]
    }
   ],
   "source": [
    "print(df_new['Squat4Kg'].isnull().sum())\n",
    "print(df_new['Bench4Kg'].isnull().sum())\n",
    "print(df_new['Deadlift4Kg'].isnull().sum())"
   ]
  },
  {
   "cell_type": "code",
   "execution_count": 44,
   "id": "c2fe4ab0-58f6-4336-801e-b67ec6023424",
   "metadata": {
    "tags": []
   },
   "outputs": [],
   "source": [
    "columns_to_drop = ['Squat4Kg', 'Bench4Kg', 'Deadlift4Kg']\n",
    "df_new = df_new.drop(columns = columns_to_drop)"
   ]
  },
  {
   "cell_type": "markdown",
   "id": "ab6c6970-2002-40ea-8ead-7e7365f60a05",
   "metadata": {},
   "source": [
    "### Filling in best squat, bench and deadlift"
   ]
  },
  {
   "cell_type": "code",
   "execution_count": 45,
   "id": "4b5585c9-b242-4f5b-aa4f-20572f24d7bb",
   "metadata": {
    "tags": []
   },
   "outputs": [
    {
     "name": "stdout",
     "output_type": "stream",
     "text": [
      "15025\n",
      "19984\n",
      "21417\n"
     ]
    }
   ],
   "source": [
    "print(df_new['Best3SquatKg'].isnull().sum())\n",
    "print(df_new['Best3BenchKg'].isnull().sum())\n",
    "print(df_new['Best3DeadliftKg'].isnull().sum())"
   ]
  },
  {
   "cell_type": "code",
   "execution_count": 46,
   "id": "8f986c66-a818-4385-a4b2-3ac775f5d520",
   "metadata": {
    "tags": []
   },
   "outputs": [],
   "source": [
    "df_new['Best3SquatKg'] = df_new.apply(lambda x: max(x['Squat1Kg'], x['Squat2Kg'], x['Squat3Kg']) if pd.isnull(x['Best3SquatKg']) else x['Best3SquatKg'], axis=1)"
   ]
  },
  {
   "cell_type": "code",
   "execution_count": 47,
   "id": "0cddbaae-b65d-4a2f-b9b6-6f28e33ead27",
   "metadata": {
    "tags": []
   },
   "outputs": [
    {
     "data": {
      "text/html": [
       "<div>\n",
       "<style scoped>\n",
       "    .dataframe tbody tr th:only-of-type {\n",
       "        vertical-align: middle;\n",
       "    }\n",
       "\n",
       "    .dataframe tbody tr th {\n",
       "        vertical-align: top;\n",
       "    }\n",
       "\n",
       "    .dataframe thead th {\n",
       "        text-align: right;\n",
       "    }\n",
       "</style>\n",
       "<table border=\"1\" class=\"dataframe\">\n",
       "  <thead>\n",
       "    <tr style=\"text-align: right;\">\n",
       "      <th></th>\n",
       "      <th>Squat1Kg</th>\n",
       "      <th>Squat2Kg</th>\n",
       "      <th>Squat3Kg</th>\n",
       "      <th>Best3SquatKg</th>\n",
       "    </tr>\n",
       "  </thead>\n",
       "  <tbody>\n",
       "    <tr>\n",
       "      <th>0</th>\n",
       "      <td>80.0</td>\n",
       "      <td>92.5</td>\n",
       "      <td>105.0</td>\n",
       "      <td>105.0</td>\n",
       "    </tr>\n",
       "    <tr>\n",
       "      <th>1</th>\n",
       "      <td>100.0</td>\n",
       "      <td>110.0</td>\n",
       "      <td>120.0</td>\n",
       "      <td>120.0</td>\n",
       "    </tr>\n",
       "    <tr>\n",
       "      <th>3</th>\n",
       "      <td>-105.0</td>\n",
       "      <td>-105.0</td>\n",
       "      <td>105.0</td>\n",
       "      <td>105.0</td>\n",
       "    </tr>\n",
       "    <tr>\n",
       "      <th>4</th>\n",
       "      <td>120.0</td>\n",
       "      <td>130.0</td>\n",
       "      <td>140.0</td>\n",
       "      <td>140.0</td>\n",
       "    </tr>\n",
       "    <tr>\n",
       "      <th>5</th>\n",
       "      <td>127.5</td>\n",
       "      <td>135.0</td>\n",
       "      <td>142.5</td>\n",
       "      <td>142.5</td>\n",
       "    </tr>\n",
       "    <tr>\n",
       "      <th>...</th>\n",
       "      <td>...</td>\n",
       "      <td>...</td>\n",
       "      <td>...</td>\n",
       "      <td>...</td>\n",
       "    </tr>\n",
       "    <tr>\n",
       "      <th>1423349</th>\n",
       "      <td>160.0</td>\n",
       "      <td>170.0</td>\n",
       "      <td>175.0</td>\n",
       "      <td>175.0</td>\n",
       "    </tr>\n",
       "    <tr>\n",
       "      <th>1423350</th>\n",
       "      <td>90.0</td>\n",
       "      <td>100.0</td>\n",
       "      <td>110.0</td>\n",
       "      <td>110.0</td>\n",
       "    </tr>\n",
       "    <tr>\n",
       "      <th>1423351</th>\n",
       "      <td>140.0</td>\n",
       "      <td>150.0</td>\n",
       "      <td>160.0</td>\n",
       "      <td>160.0</td>\n",
       "    </tr>\n",
       "    <tr>\n",
       "      <th>1423352</th>\n",
       "      <td>-165.0</td>\n",
       "      <td>-165.0</td>\n",
       "      <td>-165.0</td>\n",
       "      <td>-165.0</td>\n",
       "    </tr>\n",
       "    <tr>\n",
       "      <th>1423353</th>\n",
       "      <td>-115.0</td>\n",
       "      <td>115.0</td>\n",
       "      <td>-120.0</td>\n",
       "      <td>115.0</td>\n",
       "    </tr>\n",
       "  </tbody>\n",
       "</table>\n",
       "<p>517620 rows × 4 columns</p>\n",
       "</div>"
      ],
      "text/plain": [
       "         Squat1Kg  Squat2Kg  Squat3Kg  Best3SquatKg\n",
       "0            80.0      92.5     105.0         105.0\n",
       "1           100.0     110.0     120.0         120.0\n",
       "3          -105.0    -105.0     105.0         105.0\n",
       "4           120.0     130.0     140.0         140.0\n",
       "5           127.5     135.0     142.5         142.5\n",
       "...           ...       ...       ...           ...\n",
       "1423349     160.0     170.0     175.0         175.0\n",
       "1423350      90.0     100.0     110.0         110.0\n",
       "1423351     140.0     150.0     160.0         160.0\n",
       "1423352    -165.0    -165.0    -165.0        -165.0\n",
       "1423353    -115.0     115.0    -120.0         115.0\n",
       "\n",
       "[517620 rows x 4 columns]"
      ]
     },
     "execution_count": 47,
     "metadata": {},
     "output_type": "execute_result"
    }
   ],
   "source": [
    "df_new[['Squat1Kg', 'Squat2Kg', 'Squat3Kg', 'Best3SquatKg']]"
   ]
  },
  {
   "cell_type": "code",
   "execution_count": 48,
   "id": "3ac0b05a-9dbd-4840-94b7-f2de71ef6974",
   "metadata": {
    "tags": []
   },
   "outputs": [],
   "source": [
    "df_new['Best3BenchKg'] = df_new.apply(lambda x: max(x['Bench1Kg'], x['Bench2Kg'], x['Bench3Kg']) if pd.isnull(x['Best3BenchKg']) else x['Best3BenchKg'], axis=1)\n",
    "df_new['Best3DeadliftKg'] = df_new.apply(lambda x: max(x['Deadlift1Kg'], x['Deadlift2Kg'], x['Deadlift3Kg']) if pd.isnull(x['Best3DeadliftKg']) else x['Best3DeadliftKg'], axis=1)"
   ]
  },
  {
   "cell_type": "markdown",
   "id": "11b4d64a-c403-48a3-b274-742d0ba9c700",
   "metadata": {},
   "source": [
    "We remove records in which the lifter failed all three attempts at the squat, bench or deadlift. In these cases, the competitor does not place well and so is of little interest to us."
   ]
  },
  {
   "cell_type": "code",
   "execution_count": 49,
   "id": "9f8e4c83-a6af-4a56-bbc0-b51e50e3d821",
   "metadata": {
    "tags": []
   },
   "outputs": [],
   "source": [
    "df_new = df_new[(df_new['Best3SquatKg'] >= 0) & (df_new['Best3BenchKg'] >= 0) & (df_new['Best3DeadliftKg'] >= 0)]"
   ]
  },
  {
   "cell_type": "code",
   "execution_count": 50,
   "id": "23d3d8c3-1a6d-4898-8500-27d4052df66c",
   "metadata": {
    "tags": []
   },
   "outputs": [
    {
     "name": "stdout",
     "output_type": "stream",
     "text": [
      "0\n",
      "0\n",
      "0\n"
     ]
    }
   ],
   "source": [
    "# checking imputations\n",
    "print(df_new['Best3SquatKg'].isnull().sum())\n",
    "print(df_new['Best3BenchKg'].isnull().sum())\n",
    "print(df_new['Best3DeadliftKg'].isnull().sum())"
   ]
  },
  {
   "cell_type": "markdown",
   "id": "e05cb3b6-c993-4952-a5d8-0cb5267d8bad",
   "metadata": {},
   "source": [
    "### Filling in an missing TotalKg values"
   ]
  },
  {
   "cell_type": "code",
   "execution_count": 51,
   "id": "ebfa30df-b776-4661-9796-545966f2eef6",
   "metadata": {
    "tags": []
   },
   "outputs": [
    {
     "data": {
      "text/plain": [
       "801"
      ]
     },
     "execution_count": 51,
     "metadata": {},
     "output_type": "execute_result"
    }
   ],
   "source": [
    "df_new['TotalKg'].isnull().sum()"
   ]
  },
  {
   "cell_type": "code",
   "execution_count": 52,
   "id": "16355fc4-8285-4475-8947-f9488e09f633",
   "metadata": {
    "tags": []
   },
   "outputs": [],
   "source": [
    "df_new['TotalKg'] = df_new['Best3SquatKg'] + df_new['Best3BenchKg'] + df_new['Best3DeadliftKg']"
   ]
  },
  {
   "cell_type": "code",
   "execution_count": 53,
   "id": "ff239d9f-513e-4e4d-b8c6-dd841b4ecdd4",
   "metadata": {
    "tags": []
   },
   "outputs": [
    {
     "data": {
      "text/plain": [
       "0"
      ]
     },
     "execution_count": 53,
     "metadata": {},
     "output_type": "execute_result"
    }
   ],
   "source": [
    "df_new['TotalKg'].isnull().sum()"
   ]
  },
  {
   "cell_type": "code",
   "execution_count": 54,
   "id": "ba31ee16-6b0d-44e2-bebd-84aeefdd8aa8",
   "metadata": {
    "tags": []
   },
   "outputs": [
    {
     "name": "stdout",
     "output_type": "stream",
     "text": [
      "<class 'pandas.core.frame.DataFrame'>\n",
      "Index: 487537 entries, 0 to 1423351\n",
      "Data columns (total 34 columns):\n",
      " #   Column           Non-Null Count   Dtype  \n",
      "---  ------           --------------   -----  \n",
      " 0   Name             487537 non-null  object \n",
      " 1   Sex              487537 non-null  object \n",
      " 2   Event            487537 non-null  object \n",
      " 3   Equipment        487537 non-null  object \n",
      " 4   Age              487537 non-null  float64\n",
      " 5   AgeClass         487537 non-null  object \n",
      " 6   Division         484515 non-null  object \n",
      " 7   BodyweightKg     486038 non-null  float64\n",
      " 8   WeightClassKg    486327 non-null  object \n",
      " 9   Squat1Kg         264615 non-null  float64\n",
      " 10  Squat2Kg         261703 non-null  float64\n",
      " 11  Squat3Kg         254730 non-null  float64\n",
      " 12  Best3SquatKg     487537 non-null  float64\n",
      " 13  Bench1Kg         264567 non-null  float64\n",
      " 14  Bench2Kg         262197 non-null  float64\n",
      " 15  Bench3Kg         254677 non-null  float64\n",
      " 16  Best3BenchKg     487537 non-null  float64\n",
      " 17  Deadlift1Kg      264754 non-null  float64\n",
      " 18  Deadlift2Kg      260749 non-null  float64\n",
      " 19  Deadlift3Kg      249807 non-null  float64\n",
      " 20  Best3DeadliftKg  487537 non-null  float64\n",
      " 21  TotalKg          487537 non-null  float64\n",
      " 22  Place            487537 non-null  object \n",
      " 23  Wilks            485239 non-null  float64\n",
      " 24  McCulloch        485150 non-null  float64\n",
      " 25  Glossbrenner     485239 non-null  float64\n",
      " 26  IPFPoints        484441 non-null  float64\n",
      " 27  Tested           345593 non-null  object \n",
      " 28  Country          178109 non-null  object \n",
      " 29  Federation       487537 non-null  object \n",
      " 30  Date             487537 non-null  object \n",
      " 31  MeetCountry      487537 non-null  object \n",
      " 32  MeetState        289283 non-null  object \n",
      " 33  MeetName         487537 non-null  object \n",
      "dtypes: float64(19), object(15)\n",
      "memory usage: 130.2+ MB\n"
     ]
    }
   ],
   "source": [
    "df_new.info()"
   ]
  },
  {
   "cell_type": "markdown",
   "id": "db5ba478-09e2-4909-932e-71af2ce7ab2f",
   "metadata": {},
   "source": [
    "## Extensions:\n",
    "---\n",
    "* Imputing rows where both Age and AgeClass are missing: could build a small ML model to impute the age value based on a subset of the dataset's features. For example, the Division and TotalKg columns could be used to infer the age of the competitor, as very old/very young participants will most likely be unable to exceed certain feats of strength compared to those aged between, say, 20 and 35."
   ]
  },
  {
   "cell_type": "markdown",
   "id": "b8fccc55-b579-4f5c-8bc9-426dc70bc621",
   "metadata": {},
   "source": [
    "### Extras"
   ]
  },
  {
   "cell_type": "code",
   "execution_count": null,
   "id": "450a8d81-4ddc-4791-81e7-358de2a10bf0",
   "metadata": {
    "tags": []
   },
   "outputs": [],
   "source": [
    "# NO LONGER NEEDED\n",
    "# def age_to_class_func(x):\n",
    "#     if 24 <= x and x <= 34:\n",
    "#         return age_classes[0]\n",
    "#     elif 20 <= x and x <= 23:\n",
    "#         return age_classes[1]\n",
    "#     elif 45 <= x and x <= 49:\n",
    "#         return age_classes[2]\n",
    "#     elif 35 <= x and x <= 39:\n",
    "#         return age_classes[3]\n",
    "#     elif 18 <= x and x <= 19:\n",
    "#         return age_classes[4]\n",
    "#     elif 50 <= x and x <= 54:\n",
    "#         return age_classes[5]\n",
    "#     elif 40 <= x and x <= 44:\n",
    "#         return age_classes[6]\n",
    "#     elif 16 <= x and x <= 17:\n",
    "#         return age_classes[7]\n",
    "#     elif 70 <= x and x <= 74:\n",
    "#         return age_classes[9]\n",
    "#     elif 65 <= x and x <= 69:\n",
    "#         return age_classes[10]\n",
    "#     elif 13 <= x and x <= 15:\n",
    "#         return age_classes[11]\n",
    "#     elif 60 <= x and x <= 64:\n",
    "#         return age_classes[12]\n",
    "#     elif 55 <= x and x <= 59:\n",
    "#         return age_classes[13]\n",
    "#     elif 75 <= x and x <= 79:\n",
    "#         return age_classes[14]\n",
    "#     elif 5 <= x and x <= 12:\n",
    "#         return age_classes[15]\n",
    "#     else:\n",
    "#         return age_classes[8]"
   ]
  },
  {
   "cell_type": "code",
   "execution_count": null,
   "id": "ad835b40-4f9c-45f0-92d6-0344eac42eb9",
   "metadata": {},
   "outputs": [],
   "source": []
  }
 ],
 "metadata": {
  "kernelspec": {
   "display_name": "Python 3 (ipykernel)",
   "language": "python",
   "name": "python3"
  },
  "language_info": {
   "codemirror_mode": {
    "name": "ipython",
    "version": 3
   },
   "file_extension": ".py",
   "mimetype": "text/x-python",
   "name": "python",
   "nbconvert_exporter": "python",
   "pygments_lexer": "ipython3",
   "version": "3.11.5"
  }
 },
 "nbformat": 4,
 "nbformat_minor": 5
}
